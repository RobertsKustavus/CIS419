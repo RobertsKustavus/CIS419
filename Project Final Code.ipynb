{
  "nbformat": 4,
  "nbformat_minor": 0,
  "metadata": {
    "colab": {
      "name": "Project.ipynb",
      "provenance": []
    },
    "kernelspec": {
      "name": "python3",
      "display_name": "Python 3"
    },
    "language_info": {
      "name": "python"
    }
  },
  "cells": [
    {
      "cell_type": "code",
      "metadata": {
        "id": "QftrndOi8Rz5"
      },
      "source": [
        "import pandas as pd\n",
        "import numpy as np\n",
        "import matplotlib.pyplot as plt"
      ],
      "execution_count": 2,
      "outputs": []
    },
    {
      "cell_type": "code",
      "metadata": {
        "id": "AByx1zrc82VJ"
      },
      "source": [
        "df = pd.read_csv('housetrain.csv')"
      ],
      "execution_count": 3,
      "outputs": []
    },
    {
      "cell_type": "code",
      "metadata": {
        "colab": {
          "base_uri": "https://localhost:8080/"
        },
        "id": "b1Z4MMUhUYIZ",
        "outputId": "a5460388-748b-4cfc-b414-7d89694d62e1"
      },
      "source": [
        "df.shape"
      ],
      "execution_count": null,
      "outputs": [
        {
          "output_type": "execute_result",
          "data": {
            "text/plain": [
              "(1460, 81)"
            ]
          },
          "metadata": {
            "tags": []
          },
          "execution_count": 3
        }
      ]
    },
    {
      "cell_type": "code",
      "metadata": {
        "colab": {
          "base_uri": "https://localhost:8080/",
          "height": 317
        },
        "id": "aBEVdTT-89LT",
        "outputId": "9633f338-6de3-429c-a7d6-427a13052ad7"
      },
      "source": [
        "df.describe()"
      ],
      "execution_count": null,
      "outputs": [
        {
          "output_type": "execute_result",
          "data": {
            "text/html": [
              "<div>\n",
              "<style scoped>\n",
              "    .dataframe tbody tr th:only-of-type {\n",
              "        vertical-align: middle;\n",
              "    }\n",
              "\n",
              "    .dataframe tbody tr th {\n",
              "        vertical-align: top;\n",
              "    }\n",
              "\n",
              "    .dataframe thead th {\n",
              "        text-align: right;\n",
              "    }\n",
              "</style>\n",
              "<table border=\"1\" class=\"dataframe\">\n",
              "  <thead>\n",
              "    <tr style=\"text-align: right;\">\n",
              "      <th></th>\n",
              "      <th>Id</th>\n",
              "      <th>MSSubClass</th>\n",
              "      <th>LotFrontage</th>\n",
              "      <th>LotArea</th>\n",
              "      <th>OverallQual</th>\n",
              "      <th>OverallCond</th>\n",
              "      <th>YearBuilt</th>\n",
              "      <th>YearRemodAdd</th>\n",
              "      <th>MasVnrArea</th>\n",
              "      <th>BsmtFinSF1</th>\n",
              "      <th>BsmtFinSF2</th>\n",
              "      <th>BsmtUnfSF</th>\n",
              "      <th>TotalBsmtSF</th>\n",
              "      <th>1stFlrSF</th>\n",
              "      <th>2ndFlrSF</th>\n",
              "      <th>LowQualFinSF</th>\n",
              "      <th>GrLivArea</th>\n",
              "      <th>BsmtFullBath</th>\n",
              "      <th>BsmtHalfBath</th>\n",
              "      <th>FullBath</th>\n",
              "      <th>HalfBath</th>\n",
              "      <th>BedroomAbvGr</th>\n",
              "      <th>KitchenAbvGr</th>\n",
              "      <th>TotRmsAbvGrd</th>\n",
              "      <th>Fireplaces</th>\n",
              "      <th>GarageYrBlt</th>\n",
              "      <th>GarageCars</th>\n",
              "      <th>GarageArea</th>\n",
              "      <th>WoodDeckSF</th>\n",
              "      <th>OpenPorchSF</th>\n",
              "      <th>EnclosedPorch</th>\n",
              "      <th>3SsnPorch</th>\n",
              "      <th>ScreenPorch</th>\n",
              "      <th>PoolArea</th>\n",
              "      <th>MiscVal</th>\n",
              "      <th>MoSold</th>\n",
              "      <th>YrSold</th>\n",
              "      <th>SalePrice</th>\n",
              "    </tr>\n",
              "  </thead>\n",
              "  <tbody>\n",
              "    <tr>\n",
              "      <th>count</th>\n",
              "      <td>1460.000000</td>\n",
              "      <td>1460.000000</td>\n",
              "      <td>1201.000000</td>\n",
              "      <td>1460.000000</td>\n",
              "      <td>1460.000000</td>\n",
              "      <td>1460.000000</td>\n",
              "      <td>1460.000000</td>\n",
              "      <td>1460.000000</td>\n",
              "      <td>1452.000000</td>\n",
              "      <td>1460.000000</td>\n",
              "      <td>1460.000000</td>\n",
              "      <td>1460.000000</td>\n",
              "      <td>1460.000000</td>\n",
              "      <td>1460.000000</td>\n",
              "      <td>1460.000000</td>\n",
              "      <td>1460.000000</td>\n",
              "      <td>1460.000000</td>\n",
              "      <td>1460.000000</td>\n",
              "      <td>1460.000000</td>\n",
              "      <td>1460.000000</td>\n",
              "      <td>1460.000000</td>\n",
              "      <td>1460.000000</td>\n",
              "      <td>1460.000000</td>\n",
              "      <td>1460.000000</td>\n",
              "      <td>1460.000000</td>\n",
              "      <td>1379.000000</td>\n",
              "      <td>1460.000000</td>\n",
              "      <td>1460.000000</td>\n",
              "      <td>1460.000000</td>\n",
              "      <td>1460.000000</td>\n",
              "      <td>1460.000000</td>\n",
              "      <td>1460.000000</td>\n",
              "      <td>1460.000000</td>\n",
              "      <td>1460.000000</td>\n",
              "      <td>1460.000000</td>\n",
              "      <td>1460.000000</td>\n",
              "      <td>1460.000000</td>\n",
              "      <td>1460.000000</td>\n",
              "    </tr>\n",
              "    <tr>\n",
              "      <th>mean</th>\n",
              "      <td>730.500000</td>\n",
              "      <td>56.897260</td>\n",
              "      <td>70.049958</td>\n",
              "      <td>10516.828082</td>\n",
              "      <td>6.099315</td>\n",
              "      <td>5.575342</td>\n",
              "      <td>1971.267808</td>\n",
              "      <td>1984.865753</td>\n",
              "      <td>103.685262</td>\n",
              "      <td>443.639726</td>\n",
              "      <td>46.549315</td>\n",
              "      <td>567.240411</td>\n",
              "      <td>1057.429452</td>\n",
              "      <td>1162.626712</td>\n",
              "      <td>346.992466</td>\n",
              "      <td>5.844521</td>\n",
              "      <td>1515.463699</td>\n",
              "      <td>0.425342</td>\n",
              "      <td>0.057534</td>\n",
              "      <td>1.565068</td>\n",
              "      <td>0.382877</td>\n",
              "      <td>2.866438</td>\n",
              "      <td>1.046575</td>\n",
              "      <td>6.517808</td>\n",
              "      <td>0.613014</td>\n",
              "      <td>1978.506164</td>\n",
              "      <td>1.767123</td>\n",
              "      <td>472.980137</td>\n",
              "      <td>94.244521</td>\n",
              "      <td>46.660274</td>\n",
              "      <td>21.954110</td>\n",
              "      <td>3.409589</td>\n",
              "      <td>15.060959</td>\n",
              "      <td>2.758904</td>\n",
              "      <td>43.489041</td>\n",
              "      <td>6.321918</td>\n",
              "      <td>2007.815753</td>\n",
              "      <td>180921.195890</td>\n",
              "    </tr>\n",
              "    <tr>\n",
              "      <th>std</th>\n",
              "      <td>421.610009</td>\n",
              "      <td>42.300571</td>\n",
              "      <td>24.284752</td>\n",
              "      <td>9981.264932</td>\n",
              "      <td>1.382997</td>\n",
              "      <td>1.112799</td>\n",
              "      <td>30.202904</td>\n",
              "      <td>20.645407</td>\n",
              "      <td>181.066207</td>\n",
              "      <td>456.098091</td>\n",
              "      <td>161.319273</td>\n",
              "      <td>441.866955</td>\n",
              "      <td>438.705324</td>\n",
              "      <td>386.587738</td>\n",
              "      <td>436.528436</td>\n",
              "      <td>48.623081</td>\n",
              "      <td>525.480383</td>\n",
              "      <td>0.518911</td>\n",
              "      <td>0.238753</td>\n",
              "      <td>0.550916</td>\n",
              "      <td>0.502885</td>\n",
              "      <td>0.815778</td>\n",
              "      <td>0.220338</td>\n",
              "      <td>1.625393</td>\n",
              "      <td>0.644666</td>\n",
              "      <td>24.689725</td>\n",
              "      <td>0.747315</td>\n",
              "      <td>213.804841</td>\n",
              "      <td>125.338794</td>\n",
              "      <td>66.256028</td>\n",
              "      <td>61.119149</td>\n",
              "      <td>29.317331</td>\n",
              "      <td>55.757415</td>\n",
              "      <td>40.177307</td>\n",
              "      <td>496.123024</td>\n",
              "      <td>2.703626</td>\n",
              "      <td>1.328095</td>\n",
              "      <td>79442.502883</td>\n",
              "    </tr>\n",
              "    <tr>\n",
              "      <th>min</th>\n",
              "      <td>1.000000</td>\n",
              "      <td>20.000000</td>\n",
              "      <td>21.000000</td>\n",
              "      <td>1300.000000</td>\n",
              "      <td>1.000000</td>\n",
              "      <td>1.000000</td>\n",
              "      <td>1872.000000</td>\n",
              "      <td>1950.000000</td>\n",
              "      <td>0.000000</td>\n",
              "      <td>0.000000</td>\n",
              "      <td>0.000000</td>\n",
              "      <td>0.000000</td>\n",
              "      <td>0.000000</td>\n",
              "      <td>334.000000</td>\n",
              "      <td>0.000000</td>\n",
              "      <td>0.000000</td>\n",
              "      <td>334.000000</td>\n",
              "      <td>0.000000</td>\n",
              "      <td>0.000000</td>\n",
              "      <td>0.000000</td>\n",
              "      <td>0.000000</td>\n",
              "      <td>0.000000</td>\n",
              "      <td>0.000000</td>\n",
              "      <td>2.000000</td>\n",
              "      <td>0.000000</td>\n",
              "      <td>1900.000000</td>\n",
              "      <td>0.000000</td>\n",
              "      <td>0.000000</td>\n",
              "      <td>0.000000</td>\n",
              "      <td>0.000000</td>\n",
              "      <td>0.000000</td>\n",
              "      <td>0.000000</td>\n",
              "      <td>0.000000</td>\n",
              "      <td>0.000000</td>\n",
              "      <td>0.000000</td>\n",
              "      <td>1.000000</td>\n",
              "      <td>2006.000000</td>\n",
              "      <td>34900.000000</td>\n",
              "    </tr>\n",
              "    <tr>\n",
              "      <th>25%</th>\n",
              "      <td>365.750000</td>\n",
              "      <td>20.000000</td>\n",
              "      <td>59.000000</td>\n",
              "      <td>7553.500000</td>\n",
              "      <td>5.000000</td>\n",
              "      <td>5.000000</td>\n",
              "      <td>1954.000000</td>\n",
              "      <td>1967.000000</td>\n",
              "      <td>0.000000</td>\n",
              "      <td>0.000000</td>\n",
              "      <td>0.000000</td>\n",
              "      <td>223.000000</td>\n",
              "      <td>795.750000</td>\n",
              "      <td>882.000000</td>\n",
              "      <td>0.000000</td>\n",
              "      <td>0.000000</td>\n",
              "      <td>1129.500000</td>\n",
              "      <td>0.000000</td>\n",
              "      <td>0.000000</td>\n",
              "      <td>1.000000</td>\n",
              "      <td>0.000000</td>\n",
              "      <td>2.000000</td>\n",
              "      <td>1.000000</td>\n",
              "      <td>5.000000</td>\n",
              "      <td>0.000000</td>\n",
              "      <td>1961.000000</td>\n",
              "      <td>1.000000</td>\n",
              "      <td>334.500000</td>\n",
              "      <td>0.000000</td>\n",
              "      <td>0.000000</td>\n",
              "      <td>0.000000</td>\n",
              "      <td>0.000000</td>\n",
              "      <td>0.000000</td>\n",
              "      <td>0.000000</td>\n",
              "      <td>0.000000</td>\n",
              "      <td>5.000000</td>\n",
              "      <td>2007.000000</td>\n",
              "      <td>129975.000000</td>\n",
              "    </tr>\n",
              "    <tr>\n",
              "      <th>50%</th>\n",
              "      <td>730.500000</td>\n",
              "      <td>50.000000</td>\n",
              "      <td>69.000000</td>\n",
              "      <td>9478.500000</td>\n",
              "      <td>6.000000</td>\n",
              "      <td>5.000000</td>\n",
              "      <td>1973.000000</td>\n",
              "      <td>1994.000000</td>\n",
              "      <td>0.000000</td>\n",
              "      <td>383.500000</td>\n",
              "      <td>0.000000</td>\n",
              "      <td>477.500000</td>\n",
              "      <td>991.500000</td>\n",
              "      <td>1087.000000</td>\n",
              "      <td>0.000000</td>\n",
              "      <td>0.000000</td>\n",
              "      <td>1464.000000</td>\n",
              "      <td>0.000000</td>\n",
              "      <td>0.000000</td>\n",
              "      <td>2.000000</td>\n",
              "      <td>0.000000</td>\n",
              "      <td>3.000000</td>\n",
              "      <td>1.000000</td>\n",
              "      <td>6.000000</td>\n",
              "      <td>1.000000</td>\n",
              "      <td>1980.000000</td>\n",
              "      <td>2.000000</td>\n",
              "      <td>480.000000</td>\n",
              "      <td>0.000000</td>\n",
              "      <td>25.000000</td>\n",
              "      <td>0.000000</td>\n",
              "      <td>0.000000</td>\n",
              "      <td>0.000000</td>\n",
              "      <td>0.000000</td>\n",
              "      <td>0.000000</td>\n",
              "      <td>6.000000</td>\n",
              "      <td>2008.000000</td>\n",
              "      <td>163000.000000</td>\n",
              "    </tr>\n",
              "    <tr>\n",
              "      <th>75%</th>\n",
              "      <td>1095.250000</td>\n",
              "      <td>70.000000</td>\n",
              "      <td>80.000000</td>\n",
              "      <td>11601.500000</td>\n",
              "      <td>7.000000</td>\n",
              "      <td>6.000000</td>\n",
              "      <td>2000.000000</td>\n",
              "      <td>2004.000000</td>\n",
              "      <td>166.000000</td>\n",
              "      <td>712.250000</td>\n",
              "      <td>0.000000</td>\n",
              "      <td>808.000000</td>\n",
              "      <td>1298.250000</td>\n",
              "      <td>1391.250000</td>\n",
              "      <td>728.000000</td>\n",
              "      <td>0.000000</td>\n",
              "      <td>1776.750000</td>\n",
              "      <td>1.000000</td>\n",
              "      <td>0.000000</td>\n",
              "      <td>2.000000</td>\n",
              "      <td>1.000000</td>\n",
              "      <td>3.000000</td>\n",
              "      <td>1.000000</td>\n",
              "      <td>7.000000</td>\n",
              "      <td>1.000000</td>\n",
              "      <td>2002.000000</td>\n",
              "      <td>2.000000</td>\n",
              "      <td>576.000000</td>\n",
              "      <td>168.000000</td>\n",
              "      <td>68.000000</td>\n",
              "      <td>0.000000</td>\n",
              "      <td>0.000000</td>\n",
              "      <td>0.000000</td>\n",
              "      <td>0.000000</td>\n",
              "      <td>0.000000</td>\n",
              "      <td>8.000000</td>\n",
              "      <td>2009.000000</td>\n",
              "      <td>214000.000000</td>\n",
              "    </tr>\n",
              "    <tr>\n",
              "      <th>max</th>\n",
              "      <td>1460.000000</td>\n",
              "      <td>190.000000</td>\n",
              "      <td>313.000000</td>\n",
              "      <td>215245.000000</td>\n",
              "      <td>10.000000</td>\n",
              "      <td>9.000000</td>\n",
              "      <td>2010.000000</td>\n",
              "      <td>2010.000000</td>\n",
              "      <td>1600.000000</td>\n",
              "      <td>5644.000000</td>\n",
              "      <td>1474.000000</td>\n",
              "      <td>2336.000000</td>\n",
              "      <td>6110.000000</td>\n",
              "      <td>4692.000000</td>\n",
              "      <td>2065.000000</td>\n",
              "      <td>572.000000</td>\n",
              "      <td>5642.000000</td>\n",
              "      <td>3.000000</td>\n",
              "      <td>2.000000</td>\n",
              "      <td>3.000000</td>\n",
              "      <td>2.000000</td>\n",
              "      <td>8.000000</td>\n",
              "      <td>3.000000</td>\n",
              "      <td>14.000000</td>\n",
              "      <td>3.000000</td>\n",
              "      <td>2010.000000</td>\n",
              "      <td>4.000000</td>\n",
              "      <td>1418.000000</td>\n",
              "      <td>857.000000</td>\n",
              "      <td>547.000000</td>\n",
              "      <td>552.000000</td>\n",
              "      <td>508.000000</td>\n",
              "      <td>480.000000</td>\n",
              "      <td>738.000000</td>\n",
              "      <td>15500.000000</td>\n",
              "      <td>12.000000</td>\n",
              "      <td>2010.000000</td>\n",
              "      <td>755000.000000</td>\n",
              "    </tr>\n",
              "  </tbody>\n",
              "</table>\n",
              "</div>"
            ],
            "text/plain": [
              "                Id   MSSubClass  ...       YrSold      SalePrice\n",
              "count  1460.000000  1460.000000  ...  1460.000000    1460.000000\n",
              "mean    730.500000    56.897260  ...  2007.815753  180921.195890\n",
              "std     421.610009    42.300571  ...     1.328095   79442.502883\n",
              "min       1.000000    20.000000  ...  2006.000000   34900.000000\n",
              "25%     365.750000    20.000000  ...  2007.000000  129975.000000\n",
              "50%     730.500000    50.000000  ...  2008.000000  163000.000000\n",
              "75%    1095.250000    70.000000  ...  2009.000000  214000.000000\n",
              "max    1460.000000   190.000000  ...  2010.000000  755000.000000\n",
              "\n",
              "[8 rows x 38 columns]"
            ]
          },
          "metadata": {
            "tags": []
          },
          "execution_count": 4
        }
      ]
    },
    {
      "cell_type": "code",
      "metadata": {
        "colab": {
          "base_uri": "https://localhost:8080/",
          "height": 619
        },
        "id": "Zp96mYWS9IJS",
        "outputId": "d5d2420d-48be-497e-f9e5-79c44c8d9052"
      },
      "source": [
        "#generate corr heatmap\n",
        "import seaborn as sns\n",
        "corr = df.corr()\n",
        "mask = np.triu(np.ones_like(corr, dtype=bool))\n",
        "f, ax = plt.subplots(figsize=(11, 9))\n",
        "cmap = sns.diverging_palette(230, 20, as_cmap=True)\n",
        "sns.heatmap(corr, mask=mask, cmap=cmap, vmax=.3, center=0,\n",
        "            square=True, linewidths=.5, cbar_kws={\"shrink\": .5})\n",
        "plt.title('Correlation Heatmap for Numerical Data')\n",
        "plt.show()"
      ],
      "execution_count": null,
      "outputs": [
        {
          "output_type": "display_data",
          "data": {
            "image/png": "[encoded data removed]",
            "text/plain": [
              "<Figure size 792x648 with 2 Axes>"
            ]
          },
          "metadata": {
            "tags": [],
            "needs_background": "light"
          }
        }
      ]
    },
    {
      "cell_type": "code",
      "metadata": {
        "colab": {
          "base_uri": "https://localhost:8080/",
          "height": 100
        },
        "id": "LzfmFXATDFMT",
        "outputId": "0f925e3f-e28e-4d03-a3bc-82a199a38cb3"
      },
      "source": [
        "#corr of features with y\n",
        "corr[-1:]"
      ],
      "execution_count": null,
      "outputs": [
        {
          "output_type": "execute_result",
          "data": {
            "text/html": [
              "<div>\n",
              "<style scoped>\n",
              "    .dataframe tbody tr th:only-of-type {\n",
              "        vertical-align: middle;\n",
              "    }\n",
              "\n",
              "    .dataframe tbody tr th {\n",
              "        vertical-align: top;\n",
              "    }\n",
              "\n",
              "    .dataframe thead th {\n",
              "        text-align: right;\n",
              "    }\n",
              "</style>\n",
              "<table border=\"1\" class=\"dataframe\">\n",
              "  <thead>\n",
              "    <tr style=\"text-align: right;\">\n",
              "      <th></th>\n",
              "      <th>Id</th>\n",
              "      <th>MSSubClass</th>\n",
              "      <th>LotFrontage</th>\n",
              "      <th>LotArea</th>\n",
              "      <th>OverallQual</th>\n",
              "      <th>OverallCond</th>\n",
              "      <th>YearBuilt</th>\n",
              "      <th>YearRemodAdd</th>\n",
              "      <th>MasVnrArea</th>\n",
              "      <th>BsmtFinSF1</th>\n",
              "      <th>BsmtFinSF2</th>\n",
              "      <th>BsmtUnfSF</th>\n",
              "      <th>TotalBsmtSF</th>\n",
              "      <th>1stFlrSF</th>\n",
              "      <th>2ndFlrSF</th>\n",
              "      <th>LowQualFinSF</th>\n",
              "      <th>GrLivArea</th>\n",
              "      <th>BsmtFullBath</th>\n",
              "      <th>BsmtHalfBath</th>\n",
              "      <th>FullBath</th>\n",
              "      <th>HalfBath</th>\n",
              "      <th>BedroomAbvGr</th>\n",
              "      <th>KitchenAbvGr</th>\n",
              "      <th>TotRmsAbvGrd</th>\n",
              "      <th>Fireplaces</th>\n",
              "      <th>GarageYrBlt</th>\n",
              "      <th>GarageCars</th>\n",
              "      <th>GarageArea</th>\n",
              "      <th>WoodDeckSF</th>\n",
              "      <th>OpenPorchSF</th>\n",
              "      <th>EnclosedPorch</th>\n",
              "      <th>3SsnPorch</th>\n",
              "      <th>ScreenPorch</th>\n",
              "      <th>PoolArea</th>\n",
              "      <th>MiscVal</th>\n",
              "      <th>MoSold</th>\n",
              "      <th>YrSold</th>\n",
              "      <th>SalePrice</th>\n",
              "    </tr>\n",
              "  </thead>\n",
              "  <tbody>\n",
              "    <tr>\n",
              "      <th>SalePrice</th>\n",
              "      <td>-0.021917</td>\n",
              "      <td>-0.084284</td>\n",
              "      <td>0.351799</td>\n",
              "      <td>0.263843</td>\n",
              "      <td>0.790982</td>\n",
              "      <td>-0.077856</td>\n",
              "      <td>0.522897</td>\n",
              "      <td>0.507101</td>\n",
              "      <td>0.477493</td>\n",
              "      <td>0.38642</td>\n",
              "      <td>-0.011378</td>\n",
              "      <td>0.214479</td>\n",
              "      <td>0.613581</td>\n",
              "      <td>0.605852</td>\n",
              "      <td>0.319334</td>\n",
              "      <td>-0.025606</td>\n",
              "      <td>0.708624</td>\n",
              "      <td>0.227122</td>\n",
              "      <td>-0.016844</td>\n",
              "      <td>0.560664</td>\n",
              "      <td>0.284108</td>\n",
              "      <td>0.168213</td>\n",
              "      <td>-0.135907</td>\n",
              "      <td>0.533723</td>\n",
              "      <td>0.466929</td>\n",
              "      <td>0.486362</td>\n",
              "      <td>0.640409</td>\n",
              "      <td>0.623431</td>\n",
              "      <td>0.324413</td>\n",
              "      <td>0.315856</td>\n",
              "      <td>-0.128578</td>\n",
              "      <td>0.044584</td>\n",
              "      <td>0.111447</td>\n",
              "      <td>0.092404</td>\n",
              "      <td>-0.02119</td>\n",
              "      <td>0.046432</td>\n",
              "      <td>-0.028923</td>\n",
              "      <td>1.0</td>\n",
              "    </tr>\n",
              "  </tbody>\n",
              "</table>\n",
              "</div>"
            ],
            "text/plain": [
              "                 Id  MSSubClass  LotFrontage  ...    MoSold    YrSold  SalePrice\n",
              "SalePrice -0.021917   -0.084284     0.351799  ...  0.046432 -0.028923        1.0\n",
              "\n",
              "[1 rows x 38 columns]"
            ]
          },
          "metadata": {
            "tags": []
          },
          "execution_count": 6
        }
      ]
    },
    {
      "cell_type": "code",
      "metadata": {
        "colab": {
          "base_uri": "https://localhost:8080/",
          "height": 253
        },
        "id": "-YDCPqyVhKRi",
        "outputId": "46911ee1-2826-421c-e78a-d9edc924e087"
      },
      "source": [
        "#view of data\n",
        "df.head()"
      ],
      "execution_count": null,
      "outputs": [
        {
          "output_type": "execute_result",
          "data": {
            "text/html": [
              "<div>\n",
              "<style scoped>\n",
              "    .dataframe tbody tr th:only-of-type {\n",
              "        vertical-align: middle;\n",
              "    }\n",
              "\n",
              "    .dataframe tbody tr th {\n",
              "        vertical-align: top;\n",
              "    }\n",
              "\n",
              "    .dataframe thead th {\n",
              "        text-align: right;\n",
              "    }\n",
              "</style>\n",
              "<table border=\"1\" class=\"dataframe\">\n",
              "  <thead>\n",
              "    <tr style=\"text-align: right;\">\n",
              "      <th></th>\n",
              "      <th>Id</th>\n",
              "      <th>MSSubClass</th>\n",
              "      <th>MSZoning</th>\n",
              "      <th>LotFrontage</th>\n",
              "      <th>LotArea</th>\n",
              "      <th>Street</th>\n",
              "      <th>Alley</th>\n",
              "      <th>LotShape</th>\n",
              "      <th>LandContour</th>\n",
              "      <th>Utilities</th>\n",
              "      <th>LotConfig</th>\n",
              "      <th>LandSlope</th>\n",
              "      <th>Neighborhood</th>\n",
              "      <th>Condition1</th>\n",
              "      <th>Condition2</th>\n",
              "      <th>BldgType</th>\n",
              "      <th>HouseStyle</th>\n",
              "      <th>OverallQual</th>\n",
              "      <th>OverallCond</th>\n",
              "      <th>YearBuilt</th>\n",
              "      <th>YearRemodAdd</th>\n",
              "      <th>RoofStyle</th>\n",
              "      <th>RoofMatl</th>\n",
              "      <th>Exterior1st</th>\n",
              "      <th>Exterior2nd</th>\n",
              "      <th>MasVnrType</th>\n",
              "      <th>MasVnrArea</th>\n",
              "      <th>ExterQual</th>\n",
              "      <th>ExterCond</th>\n",
              "      <th>Foundation</th>\n",
              "      <th>BsmtQual</th>\n",
              "      <th>BsmtCond</th>\n",
              "      <th>BsmtExposure</th>\n",
              "      <th>BsmtFinType1</th>\n",
              "      <th>BsmtFinSF1</th>\n",
              "      <th>BsmtFinType2</th>\n",
              "      <th>BsmtFinSF2</th>\n",
              "      <th>BsmtUnfSF</th>\n",
              "      <th>TotalBsmtSF</th>\n",
              "      <th>Heating</th>\n",
              "      <th>...</th>\n",
              "      <th>CentralAir</th>\n",
              "      <th>Electrical</th>\n",
              "      <th>1stFlrSF</th>\n",
              "      <th>2ndFlrSF</th>\n",
              "      <th>LowQualFinSF</th>\n",
              "      <th>GrLivArea</th>\n",
              "      <th>BsmtFullBath</th>\n",
              "      <th>BsmtHalfBath</th>\n",
              "      <th>FullBath</th>\n",
              "      <th>HalfBath</th>\n",
              "      <th>BedroomAbvGr</th>\n",
              "      <th>KitchenAbvGr</th>\n",
              "      <th>KitchenQual</th>\n",
              "      <th>TotRmsAbvGrd</th>\n",
              "      <th>Functional</th>\n",
              "      <th>Fireplaces</th>\n",
              "      <th>FireplaceQu</th>\n",
              "      <th>GarageType</th>\n",
              "      <th>GarageYrBlt</th>\n",
              "      <th>GarageFinish</th>\n",
              "      <th>GarageCars</th>\n",
              "      <th>GarageArea</th>\n",
              "      <th>GarageQual</th>\n",
              "      <th>GarageCond</th>\n",
              "      <th>PavedDrive</th>\n",
              "      <th>WoodDeckSF</th>\n",
              "      <th>OpenPorchSF</th>\n",
              "      <th>EnclosedPorch</th>\n",
              "      <th>3SsnPorch</th>\n",
              "      <th>ScreenPorch</th>\n",
              "      <th>PoolArea</th>\n",
              "      <th>PoolQC</th>\n",
              "      <th>Fence</th>\n",
              "      <th>MiscFeature</th>\n",
              "      <th>MiscVal</th>\n",
              "      <th>MoSold</th>\n",
              "      <th>YrSold</th>\n",
              "      <th>SaleType</th>\n",
              "      <th>SaleCondition</th>\n",
              "      <th>SalePrice</th>\n",
              "    </tr>\n",
              "  </thead>\n",
              "  <tbody>\n",
              "    <tr>\n",
              "      <th>0</th>\n",
              "      <td>1</td>\n",
              "      <td>60</td>\n",
              "      <td>RL</td>\n",
              "      <td>65.0</td>\n",
              "      <td>8450</td>\n",
              "      <td>Pave</td>\n",
              "      <td>NaN</td>\n",
              "      <td>Reg</td>\n",
              "      <td>Lvl</td>\n",
              "      <td>AllPub</td>\n",
              "      <td>Inside</td>\n",
              "      <td>Gtl</td>\n",
              "      <td>CollgCr</td>\n",
              "      <td>Norm</td>\n",
              "      <td>Norm</td>\n",
              "      <td>1Fam</td>\n",
              "      <td>2Story</td>\n",
              "      <td>7</td>\n",
              "      <td>5</td>\n",
              "      <td>2003</td>\n",
              "      <td>2003</td>\n",
              "      <td>Gable</td>\n",
              "      <td>CompShg</td>\n",
              "      <td>VinylSd</td>\n",
              "      <td>VinylSd</td>\n",
              "      <td>BrkFace</td>\n",
              "      <td>196.0</td>\n",
              "      <td>Gd</td>\n",
              "      <td>TA</td>\n",
              "      <td>PConc</td>\n",
              "      <td>Gd</td>\n",
              "      <td>TA</td>\n",
              "      <td>No</td>\n",
              "      <td>GLQ</td>\n",
              "      <td>706</td>\n",
              "      <td>Unf</td>\n",
              "      <td>0</td>\n",
              "      <td>150</td>\n",
              "      <td>856</td>\n",
              "      <td>GasA</td>\n",
              "      <td>...</td>\n",
              "      <td>Y</td>\n",
              "      <td>SBrkr</td>\n",
              "      <td>856</td>\n",
              "      <td>854</td>\n",
              "      <td>0</td>\n",
              "      <td>1710</td>\n",
              "      <td>1</td>\n",
              "      <td>0</td>\n",
              "      <td>2</td>\n",
              "      <td>1</td>\n",
              "      <td>3</td>\n",
              "      <td>1</td>\n",
              "      <td>Gd</td>\n",
              "      <td>8</td>\n",
              "      <td>Typ</td>\n",
              "      <td>0</td>\n",
              "      <td>NaN</td>\n",
              "      <td>Attchd</td>\n",
              "      <td>2003.0</td>\n",
              "      <td>RFn</td>\n",
              "      <td>2</td>\n",
              "      <td>548</td>\n",
              "      <td>TA</td>\n",
              "      <td>TA</td>\n",
              "      <td>Y</td>\n",
              "      <td>0</td>\n",
              "      <td>61</td>\n",
              "      <td>0</td>\n",
              "      <td>0</td>\n",
              "      <td>0</td>\n",
              "      <td>0</td>\n",
              "      <td>NaN</td>\n",
              "      <td>NaN</td>\n",
              "      <td>NaN</td>\n",
              "      <td>0</td>\n",
              "      <td>2</td>\n",
              "      <td>2008</td>\n",
              "      <td>WD</td>\n",
              "      <td>Normal</td>\n",
              "      <td>208500</td>\n",
              "    </tr>\n",
              "    <tr>\n",
              "      <th>1</th>\n",
              "      <td>2</td>\n",
              "      <td>20</td>\n",
              "      <td>RL</td>\n",
              "      <td>80.0</td>\n",
              "      <td>9600</td>\n",
              "      <td>Pave</td>\n",
              "      <td>NaN</td>\n",
              "      <td>Reg</td>\n",
              "      <td>Lvl</td>\n",
              "      <td>AllPub</td>\n",
              "      <td>FR2</td>\n",
              "      <td>Gtl</td>\n",
              "      <td>Veenker</td>\n",
              "      <td>Feedr</td>\n",
              "      <td>Norm</td>\n",
              "      <td>1Fam</td>\n",
              "      <td>1Story</td>\n",
              "      <td>6</td>\n",
              "      <td>8</td>\n",
              "      <td>1976</td>\n",
              "      <td>1976</td>\n",
              "      <td>Gable</td>\n",
              "      <td>CompShg</td>\n",
              "      <td>MetalSd</td>\n",
              "      <td>MetalSd</td>\n",
              "      <td>None</td>\n",
              "      <td>0.0</td>\n",
              "      <td>TA</td>\n",
              "      <td>TA</td>\n",
              "      <td>CBlock</td>\n",
              "      <td>Gd</td>\n",
              "      <td>TA</td>\n",
              "      <td>Gd</td>\n",
              "      <td>ALQ</td>\n",
              "      <td>978</td>\n",
              "      <td>Unf</td>\n",
              "      <td>0</td>\n",
              "      <td>284</td>\n",
              "      <td>1262</td>\n",
              "      <td>GasA</td>\n",
              "      <td>...</td>\n",
              "      <td>Y</td>\n",
              "      <td>SBrkr</td>\n",
              "      <td>1262</td>\n",
              "      <td>0</td>\n",
              "      <td>0</td>\n",
              "      <td>1262</td>\n",
              "      <td>0</td>\n",
              "      <td>1</td>\n",
              "      <td>2</td>\n",
              "      <td>0</td>\n",
              "      <td>3</td>\n",
              "      <td>1</td>\n",
              "      <td>TA</td>\n",
              "      <td>6</td>\n",
              "      <td>Typ</td>\n",
              "      <td>1</td>\n",
              "      <td>TA</td>\n",
              "      <td>Attchd</td>\n",
              "      <td>1976.0</td>\n",
              "      <td>RFn</td>\n",
              "      <td>2</td>\n",
              "      <td>460</td>\n",
              "      <td>TA</td>\n",
              "      <td>TA</td>\n",
              "      <td>Y</td>\n",
              "      <td>298</td>\n",
              "      <td>0</td>\n",
              "      <td>0</td>\n",
              "      <td>0</td>\n",
              "      <td>0</td>\n",
              "      <td>0</td>\n",
              "      <td>NaN</td>\n",
              "      <td>NaN</td>\n",
              "      <td>NaN</td>\n",
              "      <td>0</td>\n",
              "      <td>5</td>\n",
              "      <td>2007</td>\n",
              "      <td>WD</td>\n",
              "      <td>Normal</td>\n",
              "      <td>181500</td>\n",
              "    </tr>\n",
              "    <tr>\n",
              "      <th>2</th>\n",
              "      <td>3</td>\n",
              "      <td>60</td>\n",
              "      <td>RL</td>\n",
              "      <td>68.0</td>\n",
              "      <td>11250</td>\n",
              "      <td>Pave</td>\n",
              "      <td>NaN</td>\n",
              "      <td>IR1</td>\n",
              "      <td>Lvl</td>\n",
              "      <td>AllPub</td>\n",
              "      <td>Inside</td>\n",
              "      <td>Gtl</td>\n",
              "      <td>CollgCr</td>\n",
              "      <td>Norm</td>\n",
              "      <td>Norm</td>\n",
              "      <td>1Fam</td>\n",
              "      <td>2Story</td>\n",
              "      <td>7</td>\n",
              "      <td>5</td>\n",
              "      <td>2001</td>\n",
              "      <td>2002</td>\n",
              "      <td>Gable</td>\n",
              "      <td>CompShg</td>\n",
              "      <td>VinylSd</td>\n",
              "      <td>VinylSd</td>\n",
              "      <td>BrkFace</td>\n",
              "      <td>162.0</td>\n",
              "      <td>Gd</td>\n",
              "      <td>TA</td>\n",
              "      <td>PConc</td>\n",
              "      <td>Gd</td>\n",
              "      <td>TA</td>\n",
              "      <td>Mn</td>\n",
              "      <td>GLQ</td>\n",
              "      <td>486</td>\n",
              "      <td>Unf</td>\n",
              "      <td>0</td>\n",
              "      <td>434</td>\n",
              "      <td>920</td>\n",
              "      <td>GasA</td>\n",
              "      <td>...</td>\n",
              "      <td>Y</td>\n",
              "      <td>SBrkr</td>\n",
              "      <td>920</td>\n",
              "      <td>866</td>\n",
              "      <td>0</td>\n",
              "      <td>1786</td>\n",
              "      <td>1</td>\n",
              "      <td>0</td>\n",
              "      <td>2</td>\n",
              "      <td>1</td>\n",
              "      <td>3</td>\n",
              "      <td>1</td>\n",
              "      <td>Gd</td>\n",
              "      <td>6</td>\n",
              "      <td>Typ</td>\n",
              "      <td>1</td>\n",
              "      <td>TA</td>\n",
              "      <td>Attchd</td>\n",
              "      <td>2001.0</td>\n",
              "      <td>RFn</td>\n",
              "      <td>2</td>\n",
              "      <td>608</td>\n",
              "      <td>TA</td>\n",
              "      <td>TA</td>\n",
              "      <td>Y</td>\n",
              "      <td>0</td>\n",
              "      <td>42</td>\n",
              "      <td>0</td>\n",
              "      <td>0</td>\n",
              "      <td>0</td>\n",
              "      <td>0</td>\n",
              "      <td>NaN</td>\n",
              "      <td>NaN</td>\n",
              "      <td>NaN</td>\n",
              "      <td>0</td>\n",
              "      <td>9</td>\n",
              "      <td>2008</td>\n",
              "      <td>WD</td>\n",
              "      <td>Normal</td>\n",
              "      <td>223500</td>\n",
              "    </tr>\n",
              "    <tr>\n",
              "      <th>3</th>\n",
              "      <td>4</td>\n",
              "      <td>70</td>\n",
              "      <td>RL</td>\n",
              "      <td>60.0</td>\n",
              "      <td>9550</td>\n",
              "      <td>Pave</td>\n",
              "      <td>NaN</td>\n",
              "      <td>IR1</td>\n",
              "      <td>Lvl</td>\n",
              "      <td>AllPub</td>\n",
              "      <td>Corner</td>\n",
              "      <td>Gtl</td>\n",
              "      <td>Crawfor</td>\n",
              "      <td>Norm</td>\n",
              "      <td>Norm</td>\n",
              "      <td>1Fam</td>\n",
              "      <td>2Story</td>\n",
              "      <td>7</td>\n",
              "      <td>5</td>\n",
              "      <td>1915</td>\n",
              "      <td>1970</td>\n",
              "      <td>Gable</td>\n",
              "      <td>CompShg</td>\n",
              "      <td>Wd Sdng</td>\n",
              "      <td>Wd Shng</td>\n",
              "      <td>None</td>\n",
              "      <td>0.0</td>\n",
              "      <td>TA</td>\n",
              "      <td>TA</td>\n",
              "      <td>BrkTil</td>\n",
              "      <td>TA</td>\n",
              "      <td>Gd</td>\n",
              "      <td>No</td>\n",
              "      <td>ALQ</td>\n",
              "      <td>216</td>\n",
              "      <td>Unf</td>\n",
              "      <td>0</td>\n",
              "      <td>540</td>\n",
              "      <td>756</td>\n",
              "      <td>GasA</td>\n",
              "      <td>...</td>\n",
              "      <td>Y</td>\n",
              "      <td>SBrkr</td>\n",
              "      <td>961</td>\n",
              "      <td>756</td>\n",
              "      <td>0</td>\n",
              "      <td>1717</td>\n",
              "      <td>1</td>\n",
              "      <td>0</td>\n",
              "      <td>1</td>\n",
              "      <td>0</td>\n",
              "      <td>3</td>\n",
              "      <td>1</td>\n",
              "      <td>Gd</td>\n",
              "      <td>7</td>\n",
              "      <td>Typ</td>\n",
              "      <td>1</td>\n",
              "      <td>Gd</td>\n",
              "      <td>Detchd</td>\n",
              "      <td>1998.0</td>\n",
              "      <td>Unf</td>\n",
              "      <td>3</td>\n",
              "      <td>642</td>\n",
              "      <td>TA</td>\n",
              "      <td>TA</td>\n",
              "      <td>Y</td>\n",
              "      <td>0</td>\n",
              "      <td>35</td>\n",
              "      <td>272</td>\n",
              "      <td>0</td>\n",
              "      <td>0</td>\n",
              "      <td>0</td>\n",
              "      <td>NaN</td>\n",
              "      <td>NaN</td>\n",
              "      <td>NaN</td>\n",
              "      <td>0</td>\n",
              "      <td>2</td>\n",
              "      <td>2006</td>\n",
              "      <td>WD</td>\n",
              "      <td>Abnorml</td>\n",
              "      <td>140000</td>\n",
              "    </tr>\n",
              "    <tr>\n",
              "      <th>4</th>\n",
              "      <td>5</td>\n",
              "      <td>60</td>\n",
              "      <td>RL</td>\n",
              "      <td>84.0</td>\n",
              "      <td>14260</td>\n",
              "      <td>Pave</td>\n",
              "      <td>NaN</td>\n",
              "      <td>IR1</td>\n",
              "      <td>Lvl</td>\n",
              "      <td>AllPub</td>\n",
              "      <td>FR2</td>\n",
              "      <td>Gtl</td>\n",
              "      <td>NoRidge</td>\n",
              "      <td>Norm</td>\n",
              "      <td>Norm</td>\n",
              "      <td>1Fam</td>\n",
              "      <td>2Story</td>\n",
              "      <td>8</td>\n",
              "      <td>5</td>\n",
              "      <td>2000</td>\n",
              "      <td>2000</td>\n",
              "      <td>Gable</td>\n",
              "      <td>CompShg</td>\n",
              "      <td>VinylSd</td>\n",
              "      <td>VinylSd</td>\n",
              "      <td>BrkFace</td>\n",
              "      <td>350.0</td>\n",
              "      <td>Gd</td>\n",
              "      <td>TA</td>\n",
              "      <td>PConc</td>\n",
              "      <td>Gd</td>\n",
              "      <td>TA</td>\n",
              "      <td>Av</td>\n",
              "      <td>GLQ</td>\n",
              "      <td>655</td>\n",
              "      <td>Unf</td>\n",
              "      <td>0</td>\n",
              "      <td>490</td>\n",
              "      <td>1145</td>\n",
              "      <td>GasA</td>\n",
              "      <td>...</td>\n",
              "      <td>Y</td>\n",
              "      <td>SBrkr</td>\n",
              "      <td>1145</td>\n",
              "      <td>1053</td>\n",
              "      <td>0</td>\n",
              "      <td>2198</td>\n",
              "      <td>1</td>\n",
              "      <td>0</td>\n",
              "      <td>2</td>\n",
              "      <td>1</td>\n",
              "      <td>4</td>\n",
              "      <td>1</td>\n",
              "      <td>Gd</td>\n",
              "      <td>9</td>\n",
              "      <td>Typ</td>\n",
              "      <td>1</td>\n",
              "      <td>TA</td>\n",
              "      <td>Attchd</td>\n",
              "      <td>2000.0</td>\n",
              "      <td>RFn</td>\n",
              "      <td>3</td>\n",
              "      <td>836</td>\n",
              "      <td>TA</td>\n",
              "      <td>TA</td>\n",
              "      <td>Y</td>\n",
              "      <td>192</td>\n",
              "      <td>84</td>\n",
              "      <td>0</td>\n",
              "      <td>0</td>\n",
              "      <td>0</td>\n",
              "      <td>0</td>\n",
              "      <td>NaN</td>\n",
              "      <td>NaN</td>\n",
              "      <td>NaN</td>\n",
              "      <td>0</td>\n",
              "      <td>12</td>\n",
              "      <td>2008</td>\n",
              "      <td>WD</td>\n",
              "      <td>Normal</td>\n",
              "      <td>250000</td>\n",
              "    </tr>\n",
              "  </tbody>\n",
              "</table>\n",
              "<p>5 rows × 81 columns</p>\n",
              "</div>"
            ],
            "text/plain": [
              "   Id  MSSubClass MSZoning  ...  SaleType  SaleCondition SalePrice\n",
              "0   1          60       RL  ...        WD         Normal    208500\n",
              "1   2          20       RL  ...        WD         Normal    181500\n",
              "2   3          60       RL  ...        WD         Normal    223500\n",
              "3   4          70       RL  ...        WD        Abnorml    140000\n",
              "4   5          60       RL  ...        WD         Normal    250000\n",
              "\n",
              "[5 rows x 81 columns]"
            ]
          },
          "metadata": {
            "tags": []
          },
          "execution_count": 7
        }
      ]
    },
    {
      "cell_type": "code",
      "metadata": {
        "colab": {
          "base_uri": "https://localhost:8080/"
        },
        "id": "MUmRqc3fzIPR",
        "outputId": "1b59f46d-10dc-49cc-dfe6-af9d111bc937"
      },
      "source": [
        "df['SalePrice']"
      ],
      "execution_count": null,
      "outputs": [
        {
          "output_type": "execute_result",
          "data": {
            "text/plain": [
              "0       208500\n",
              "1       181500\n",
              "2       223500\n",
              "3       140000\n",
              "4       250000\n",
              "         ...  \n",
              "1455    175000\n",
              "1456    210000\n",
              "1457    266500\n",
              "1458    142125\n",
              "1459    147500\n",
              "Name: SalePrice, Length: 1460, dtype: int64"
            ]
          },
          "metadata": {
            "tags": []
          },
          "execution_count": 8
        }
      ]
    },
    {
      "cell_type": "code",
      "metadata": {
        "colab": {
          "base_uri": "https://localhost:8080/"
        },
        "id": "3sbjSUxm0vqk",
        "outputId": "9bf8302c-f7c2-458f-c65a-e6af99792b5f"
      },
      "source": [
        "df = pd.read_csv('housetrain.csv')\n",
        "df.iloc[:,1].dtype"
      ],
      "execution_count": 3,
      "outputs": [
        {
          "output_type": "execute_result",
          "data": {
            "text/plain": [
              "dtype('int64')"
            ]
          },
          "metadata": {
            "tags": []
          },
          "execution_count": 3
        }
      ]
    },
    {
      "cell_type": "code",
      "metadata": {
        "colab": {
          "base_uri": "https://localhost:8080/"
        },
        "id": "4xS_6byUMVhy",
        "outputId": "64a2d578-d617-4bea-df0a-a8969da149d1"
      },
      "source": [
        "#PREPROCESSING\n",
        "df = pd.read_csv('housetrain.csv')\n",
        "y = df['SalePrice']\n",
        "#convert data type to categorical data \n",
        "nrow, ncol = df.shape\n",
        "for i in range(0, ncol - 1): \n",
        "    if df.iloc[:,i].dtype == 'O':\n",
        "        df.iloc[:,i] = df.iloc[:,i].astype('category')\n",
        "#manually set some categorical data to ordered, specify order types [According to Data Dictionary]\n",
        "#use numeric encoding for ORDERED categorical columns\n",
        "#use ONE HOT encoding for NOMINAL categorical columns\n",
        "pd.Categorical(df['OverallQual'], ordered=True) #of int type (do not need to convert)\n",
        "\n",
        "df['ExterQual'] = df['ExterQual'].cat.reorder_categories(['Fa','TA','Gd','Ex'], ordered = True)\n",
        "df['ExterQual'] = df['ExterQual'].cat.codes\n",
        "\n",
        "df['ExterCond'] = df['ExterCond'].cat.reorder_categories(['Po','Fa','TA','Gd','Ex'], ordered = True)\n",
        "df['ExterCond'] = df['ExterCond'].cat.codes\n",
        "\n",
        "df['BsmtQual'] = df['BsmtQual'].cat.reorder_categories(['Fa','TA','Gd','Ex'], ordered = True)\n",
        "df['BsmtQual'] = df['BsmtQual'].cat.codes\n",
        "\n",
        "df['BsmtCond'] = df['BsmtCond'].cat.reorder_categories(['Po','Fa','TA','Gd'], ordered = True)\n",
        "df['BsmtCond'] = df['BsmtCond'].cat.codes\n",
        "\n",
        "df['BsmtFinType1'] = df['BsmtFinType1'].cat.reorder_categories(['Unf','LwQ','Rec','BLQ','ALQ','GLQ'], ordered = True)\n",
        "df['BsmtFinType1'] = df['BsmtFinType1'].cat.codes\n",
        "\n",
        "df['BsmtFinType2']= df['BsmtFinType2'].cat.reorder_categories(['Unf','LwQ','Rec','BLQ','ALQ','GLQ'], ordered = True)\n",
        "df['BsmtFinType2']= df['BsmtFinType2'].cat.codes\n",
        "\n",
        "df['HeatingQC'] = df['HeatingQC'].cat.reorder_categories(['Po','Fa','TA','Gd','Ex'], ordered = True)\n",
        "df['HeatingQC'] = df['HeatingQC'].cat.codes\n",
        "\n",
        "df['KitchenQual'] = df['KitchenQual'].cat.reorder_categories(['Fa','TA','Gd','Ex'], ordered = True)\n",
        "df['KitchenQual'] = df['KitchenQual'].cat.codes\n",
        "\n",
        "df['FireplaceQu']= df['FireplaceQu'].cat.reorder_categories(['Po','Fa','TA','Gd','Ex'], ordered = True)\n",
        "df['FireplaceQu']= df['FireplaceQu'].cat.codes\n",
        "\n",
        "df['GarageQual'] = df['GarageQual'].cat.reorder_categories(['Po','Fa','TA','Gd','Ex'], ordered = True)\n",
        "df['GarageQual'] = df['GarageQual'].cat.codes\n",
        "\n",
        "df['GarageCond'] = df['GarageCond'].cat.reorder_categories(['Po','Fa','TA','Gd','Ex'], ordered = True)\n",
        "df['GarageCond'] = df['GarageCond'].cat.codes\n",
        "\n",
        "print(df.shape)\n",
        "#DROP columns that contain too many NaN\n",
        "df = df.drop(columns=['PoolQC','Id','SalePrice'])\n",
        "print(df.shape)\n",
        "#use ONE HOT encoding for NOMINAL categorical columns \n",
        "df = pd.get_dummies(df)\n",
        "print(df.shape)"
      ],
      "execution_count": 3,
      "outputs": [
        {
          "output_type": "stream",
          "text": [
            "(1460, 81)\n",
            "(1460, 78)\n",
            "(1460, 243)\n"
          ],
          "name": "stdout"
        }
      ]
    },
    {
      "cell_type": "code",
      "metadata": {
        "colab": {
          "base_uri": "https://localhost:8080/"
        },
        "id": "yEQe3PcCnONO",
        "outputId": "607457a0-6e90-4d78-8872-4017bb2dc30a"
      },
      "source": [
        "#take a look at sale Price\n",
        "y.head()"
      ],
      "execution_count": 5,
      "outputs": [
        {
          "output_type": "execute_result",
          "data": {
            "text/plain": [
              "0    208500\n",
              "1    181500\n",
              "2    223500\n",
              "3    140000\n",
              "4    250000\n",
              "Name: SalePrice, dtype: int64"
            ]
          },
          "metadata": {
            "tags": []
          },
          "execution_count": 5
        }
      ]
    },
    {
      "cell_type": "code",
      "metadata": {
        "colab": {
          "base_uri": "https://localhost:8080/",
          "height": 253
        },
        "id": "epD4SKEk8whM",
        "outputId": "64c51609-78c9-4eee-ab6d-e86b5b6cdd29"
      },
      "source": [
        "df.head()"
      ],
      "execution_count": null,
      "outputs": [
        {
          "output_type": "execute_result",
          "data": {
            "text/html": [
              "<div>\n",
              "<style scoped>\n",
              "    .dataframe tbody tr th:only-of-type {\n",
              "        vertical-align: middle;\n",
              "    }\n",
              "\n",
              "    .dataframe tbody tr th {\n",
              "        vertical-align: top;\n",
              "    }\n",
              "\n",
              "    .dataframe thead th {\n",
              "        text-align: right;\n",
              "    }\n",
              "</style>\n",
              "<table border=\"1\" class=\"dataframe\">\n",
              "  <thead>\n",
              "    <tr style=\"text-align: right;\">\n",
              "      <th></th>\n",
              "      <th>MSSubClass</th>\n",
              "      <th>LotFrontage</th>\n",
              "      <th>LotArea</th>\n",
              "      <th>OverallQual</th>\n",
              "      <th>OverallCond</th>\n",
              "      <th>YearBuilt</th>\n",
              "      <th>YearRemodAdd</th>\n",
              "      <th>MasVnrArea</th>\n",
              "      <th>ExterQual</th>\n",
              "      <th>ExterCond</th>\n",
              "      <th>BsmtQual</th>\n",
              "      <th>BsmtCond</th>\n",
              "      <th>BsmtFinType1</th>\n",
              "      <th>BsmtFinSF1</th>\n",
              "      <th>BsmtFinType2</th>\n",
              "      <th>BsmtFinSF2</th>\n",
              "      <th>BsmtUnfSF</th>\n",
              "      <th>TotalBsmtSF</th>\n",
              "      <th>HeatingQC</th>\n",
              "      <th>1stFlrSF</th>\n",
              "      <th>2ndFlrSF</th>\n",
              "      <th>LowQualFinSF</th>\n",
              "      <th>GrLivArea</th>\n",
              "      <th>BsmtFullBath</th>\n",
              "      <th>BsmtHalfBath</th>\n",
              "      <th>FullBath</th>\n",
              "      <th>HalfBath</th>\n",
              "      <th>BedroomAbvGr</th>\n",
              "      <th>KitchenAbvGr</th>\n",
              "      <th>KitchenQual</th>\n",
              "      <th>TotRmsAbvGrd</th>\n",
              "      <th>Fireplaces</th>\n",
              "      <th>FireplaceQu</th>\n",
              "      <th>GarageYrBlt</th>\n",
              "      <th>GarageCars</th>\n",
              "      <th>GarageArea</th>\n",
              "      <th>GarageQual</th>\n",
              "      <th>GarageCond</th>\n",
              "      <th>WoodDeckSF</th>\n",
              "      <th>OpenPorchSF</th>\n",
              "      <th>...</th>\n",
              "      <th>Functional_Min1</th>\n",
              "      <th>Functional_Min2</th>\n",
              "      <th>Functional_Mod</th>\n",
              "      <th>Functional_Sev</th>\n",
              "      <th>Functional_Typ</th>\n",
              "      <th>GarageType_2Types</th>\n",
              "      <th>GarageType_Attchd</th>\n",
              "      <th>GarageType_Basment</th>\n",
              "      <th>GarageType_BuiltIn</th>\n",
              "      <th>GarageType_CarPort</th>\n",
              "      <th>GarageType_Detchd</th>\n",
              "      <th>GarageFinish_Fin</th>\n",
              "      <th>GarageFinish_RFn</th>\n",
              "      <th>GarageFinish_Unf</th>\n",
              "      <th>PavedDrive_N</th>\n",
              "      <th>PavedDrive_P</th>\n",
              "      <th>PavedDrive_Y</th>\n",
              "      <th>Fence_GdPrv</th>\n",
              "      <th>Fence_GdWo</th>\n",
              "      <th>Fence_MnPrv</th>\n",
              "      <th>Fence_MnWw</th>\n",
              "      <th>MiscFeature_Gar2</th>\n",
              "      <th>MiscFeature_Othr</th>\n",
              "      <th>MiscFeature_Shed</th>\n",
              "      <th>MiscFeature_TenC</th>\n",
              "      <th>SaleType_COD</th>\n",
              "      <th>SaleType_CWD</th>\n",
              "      <th>SaleType_Con</th>\n",
              "      <th>SaleType_ConLD</th>\n",
              "      <th>SaleType_ConLI</th>\n",
              "      <th>SaleType_ConLw</th>\n",
              "      <th>SaleType_New</th>\n",
              "      <th>SaleType_Oth</th>\n",
              "      <th>SaleType_WD</th>\n",
              "      <th>SaleCondition_Abnorml</th>\n",
              "      <th>SaleCondition_AdjLand</th>\n",
              "      <th>SaleCondition_Alloca</th>\n",
              "      <th>SaleCondition_Family</th>\n",
              "      <th>SaleCondition_Normal</th>\n",
              "      <th>SaleCondition_Partial</th>\n",
              "    </tr>\n",
              "  </thead>\n",
              "  <tbody>\n",
              "    <tr>\n",
              "      <th>0</th>\n",
              "      <td>60</td>\n",
              "      <td>65.0</td>\n",
              "      <td>8450</td>\n",
              "      <td>7</td>\n",
              "      <td>5</td>\n",
              "      <td>2003</td>\n",
              "      <td>2003</td>\n",
              "      <td>196.0</td>\n",
              "      <td>2</td>\n",
              "      <td>2</td>\n",
              "      <td>2</td>\n",
              "      <td>2</td>\n",
              "      <td>5</td>\n",
              "      <td>706</td>\n",
              "      <td>0</td>\n",
              "      <td>0</td>\n",
              "      <td>150</td>\n",
              "      <td>856</td>\n",
              "      <td>4</td>\n",
              "      <td>856</td>\n",
              "      <td>854</td>\n",
              "      <td>0</td>\n",
              "      <td>1710</td>\n",
              "      <td>1</td>\n",
              "      <td>0</td>\n",
              "      <td>2</td>\n",
              "      <td>1</td>\n",
              "      <td>3</td>\n",
              "      <td>1</td>\n",
              "      <td>2</td>\n",
              "      <td>8</td>\n",
              "      <td>0</td>\n",
              "      <td>-1</td>\n",
              "      <td>2003.0</td>\n",
              "      <td>2</td>\n",
              "      <td>548</td>\n",
              "      <td>2</td>\n",
              "      <td>2</td>\n",
              "      <td>0</td>\n",
              "      <td>61</td>\n",
              "      <td>...</td>\n",
              "      <td>0</td>\n",
              "      <td>0</td>\n",
              "      <td>0</td>\n",
              "      <td>0</td>\n",
              "      <td>1</td>\n",
              "      <td>0</td>\n",
              "      <td>1</td>\n",
              "      <td>0</td>\n",
              "      <td>0</td>\n",
              "      <td>0</td>\n",
              "      <td>0</td>\n",
              "      <td>0</td>\n",
              "      <td>1</td>\n",
              "      <td>0</td>\n",
              "      <td>0</td>\n",
              "      <td>0</td>\n",
              "      <td>1</td>\n",
              "      <td>0</td>\n",
              "      <td>0</td>\n",
              "      <td>0</td>\n",
              "      <td>0</td>\n",
              "      <td>0</td>\n",
              "      <td>0</td>\n",
              "      <td>0</td>\n",
              "      <td>0</td>\n",
              "      <td>0</td>\n",
              "      <td>0</td>\n",
              "      <td>0</td>\n",
              "      <td>0</td>\n",
              "      <td>0</td>\n",
              "      <td>0</td>\n",
              "      <td>0</td>\n",
              "      <td>0</td>\n",
              "      <td>1</td>\n",
              "      <td>0</td>\n",
              "      <td>0</td>\n",
              "      <td>0</td>\n",
              "      <td>0</td>\n",
              "      <td>1</td>\n",
              "      <td>0</td>\n",
              "    </tr>\n",
              "    <tr>\n",
              "      <th>1</th>\n",
              "      <td>20</td>\n",
              "      <td>80.0</td>\n",
              "      <td>9600</td>\n",
              "      <td>6</td>\n",
              "      <td>8</td>\n",
              "      <td>1976</td>\n",
              "      <td>1976</td>\n",
              "      <td>0.0</td>\n",
              "      <td>1</td>\n",
              "      <td>2</td>\n",
              "      <td>2</td>\n",
              "      <td>2</td>\n",
              "      <td>4</td>\n",
              "      <td>978</td>\n",
              "      <td>0</td>\n",
              "      <td>0</td>\n",
              "      <td>284</td>\n",
              "      <td>1262</td>\n",
              "      <td>4</td>\n",
              "      <td>1262</td>\n",
              "      <td>0</td>\n",
              "      <td>0</td>\n",
              "      <td>1262</td>\n",
              "      <td>0</td>\n",
              "      <td>1</td>\n",
              "      <td>2</td>\n",
              "      <td>0</td>\n",
              "      <td>3</td>\n",
              "      <td>1</td>\n",
              "      <td>1</td>\n",
              "      <td>6</td>\n",
              "      <td>1</td>\n",
              "      <td>2</td>\n",
              "      <td>1976.0</td>\n",
              "      <td>2</td>\n",
              "      <td>460</td>\n",
              "      <td>2</td>\n",
              "      <td>2</td>\n",
              "      <td>298</td>\n",
              "      <td>0</td>\n",
              "      <td>...</td>\n",
              "      <td>0</td>\n",
              "      <td>0</td>\n",
              "      <td>0</td>\n",
              "      <td>0</td>\n",
              "      <td>1</td>\n",
              "      <td>0</td>\n",
              "      <td>1</td>\n",
              "      <td>0</td>\n",
              "      <td>0</td>\n",
              "      <td>0</td>\n",
              "      <td>0</td>\n",
              "      <td>0</td>\n",
              "      <td>1</td>\n",
              "      <td>0</td>\n",
              "      <td>0</td>\n",
              "      <td>0</td>\n",
              "      <td>1</td>\n",
              "      <td>0</td>\n",
              "      <td>0</td>\n",
              "      <td>0</td>\n",
              "      <td>0</td>\n",
              "      <td>0</td>\n",
              "      <td>0</td>\n",
              "      <td>0</td>\n",
              "      <td>0</td>\n",
              "      <td>0</td>\n",
              "      <td>0</td>\n",
              "      <td>0</td>\n",
              "      <td>0</td>\n",
              "      <td>0</td>\n",
              "      <td>0</td>\n",
              "      <td>0</td>\n",
              "      <td>0</td>\n",
              "      <td>1</td>\n",
              "      <td>0</td>\n",
              "      <td>0</td>\n",
              "      <td>0</td>\n",
              "      <td>0</td>\n",
              "      <td>1</td>\n",
              "      <td>0</td>\n",
              "    </tr>\n",
              "    <tr>\n",
              "      <th>2</th>\n",
              "      <td>60</td>\n",
              "      <td>68.0</td>\n",
              "      <td>11250</td>\n",
              "      <td>7</td>\n",
              "      <td>5</td>\n",
              "      <td>2001</td>\n",
              "      <td>2002</td>\n",
              "      <td>162.0</td>\n",
              "      <td>2</td>\n",
              "      <td>2</td>\n",
              "      <td>2</td>\n",
              "      <td>2</td>\n",
              "      <td>5</td>\n",
              "      <td>486</td>\n",
              "      <td>0</td>\n",
              "      <td>0</td>\n",
              "      <td>434</td>\n",
              "      <td>920</td>\n",
              "      <td>4</td>\n",
              "      <td>920</td>\n",
              "      <td>866</td>\n",
              "      <td>0</td>\n",
              "      <td>1786</td>\n",
              "      <td>1</td>\n",
              "      <td>0</td>\n",
              "      <td>2</td>\n",
              "      <td>1</td>\n",
              "      <td>3</td>\n",
              "      <td>1</td>\n",
              "      <td>2</td>\n",
              "      <td>6</td>\n",
              "      <td>1</td>\n",
              "      <td>2</td>\n",
              "      <td>2001.0</td>\n",
              "      <td>2</td>\n",
              "      <td>608</td>\n",
              "      <td>2</td>\n",
              "      <td>2</td>\n",
              "      <td>0</td>\n",
              "      <td>42</td>\n",
              "      <td>...</td>\n",
              "      <td>0</td>\n",
              "      <td>0</td>\n",
              "      <td>0</td>\n",
              "      <td>0</td>\n",
              "      <td>1</td>\n",
              "      <td>0</td>\n",
              "      <td>1</td>\n",
              "      <td>0</td>\n",
              "      <td>0</td>\n",
              "      <td>0</td>\n",
              "      <td>0</td>\n",
              "      <td>0</td>\n",
              "      <td>1</td>\n",
              "      <td>0</td>\n",
              "      <td>0</td>\n",
              "      <td>0</td>\n",
              "      <td>1</td>\n",
              "      <td>0</td>\n",
              "      <td>0</td>\n",
              "      <td>0</td>\n",
              "      <td>0</td>\n",
              "      <td>0</td>\n",
              "      <td>0</td>\n",
              "      <td>0</td>\n",
              "      <td>0</td>\n",
              "      <td>0</td>\n",
              "      <td>0</td>\n",
              "      <td>0</td>\n",
              "      <td>0</td>\n",
              "      <td>0</td>\n",
              "      <td>0</td>\n",
              "      <td>0</td>\n",
              "      <td>0</td>\n",
              "      <td>1</td>\n",
              "      <td>0</td>\n",
              "      <td>0</td>\n",
              "      <td>0</td>\n",
              "      <td>0</td>\n",
              "      <td>1</td>\n",
              "      <td>0</td>\n",
              "    </tr>\n",
              "    <tr>\n",
              "      <th>3</th>\n",
              "      <td>70</td>\n",
              "      <td>60.0</td>\n",
              "      <td>9550</td>\n",
              "      <td>7</td>\n",
              "      <td>5</td>\n",
              "      <td>1915</td>\n",
              "      <td>1970</td>\n",
              "      <td>0.0</td>\n",
              "      <td>1</td>\n",
              "      <td>2</td>\n",
              "      <td>1</td>\n",
              "      <td>3</td>\n",
              "      <td>4</td>\n",
              "      <td>216</td>\n",
              "      <td>0</td>\n",
              "      <td>0</td>\n",
              "      <td>540</td>\n",
              "      <td>756</td>\n",
              "      <td>3</td>\n",
              "      <td>961</td>\n",
              "      <td>756</td>\n",
              "      <td>0</td>\n",
              "      <td>1717</td>\n",
              "      <td>1</td>\n",
              "      <td>0</td>\n",
              "      <td>1</td>\n",
              "      <td>0</td>\n",
              "      <td>3</td>\n",
              "      <td>1</td>\n",
              "      <td>2</td>\n",
              "      <td>7</td>\n",
              "      <td>1</td>\n",
              "      <td>3</td>\n",
              "      <td>1998.0</td>\n",
              "      <td>3</td>\n",
              "      <td>642</td>\n",
              "      <td>2</td>\n",
              "      <td>2</td>\n",
              "      <td>0</td>\n",
              "      <td>35</td>\n",
              "      <td>...</td>\n",
              "      <td>0</td>\n",
              "      <td>0</td>\n",
              "      <td>0</td>\n",
              "      <td>0</td>\n",
              "      <td>1</td>\n",
              "      <td>0</td>\n",
              "      <td>0</td>\n",
              "      <td>0</td>\n",
              "      <td>0</td>\n",
              "      <td>0</td>\n",
              "      <td>1</td>\n",
              "      <td>0</td>\n",
              "      <td>0</td>\n",
              "      <td>1</td>\n",
              "      <td>0</td>\n",
              "      <td>0</td>\n",
              "      <td>1</td>\n",
              "      <td>0</td>\n",
              "      <td>0</td>\n",
              "      <td>0</td>\n",
              "      <td>0</td>\n",
              "      <td>0</td>\n",
              "      <td>0</td>\n",
              "      <td>0</td>\n",
              "      <td>0</td>\n",
              "      <td>0</td>\n",
              "      <td>0</td>\n",
              "      <td>0</td>\n",
              "      <td>0</td>\n",
              "      <td>0</td>\n",
              "      <td>0</td>\n",
              "      <td>0</td>\n",
              "      <td>0</td>\n",
              "      <td>1</td>\n",
              "      <td>1</td>\n",
              "      <td>0</td>\n",
              "      <td>0</td>\n",
              "      <td>0</td>\n",
              "      <td>0</td>\n",
              "      <td>0</td>\n",
              "    </tr>\n",
              "    <tr>\n",
              "      <th>4</th>\n",
              "      <td>60</td>\n",
              "      <td>84.0</td>\n",
              "      <td>14260</td>\n",
              "      <td>8</td>\n",
              "      <td>5</td>\n",
              "      <td>2000</td>\n",
              "      <td>2000</td>\n",
              "      <td>350.0</td>\n",
              "      <td>2</td>\n",
              "      <td>2</td>\n",
              "      <td>2</td>\n",
              "      <td>2</td>\n",
              "      <td>5</td>\n",
              "      <td>655</td>\n",
              "      <td>0</td>\n",
              "      <td>0</td>\n",
              "      <td>490</td>\n",
              "      <td>1145</td>\n",
              "      <td>4</td>\n",
              "      <td>1145</td>\n",
              "      <td>1053</td>\n",
              "      <td>0</td>\n",
              "      <td>2198</td>\n",
              "      <td>1</td>\n",
              "      <td>0</td>\n",
              "      <td>2</td>\n",
              "      <td>1</td>\n",
              "      <td>4</td>\n",
              "      <td>1</td>\n",
              "      <td>2</td>\n",
              "      <td>9</td>\n",
              "      <td>1</td>\n",
              "      <td>2</td>\n",
              "      <td>2000.0</td>\n",
              "      <td>3</td>\n",
              "      <td>836</td>\n",
              "      <td>2</td>\n",
              "      <td>2</td>\n",
              "      <td>192</td>\n",
              "      <td>84</td>\n",
              "      <td>...</td>\n",
              "      <td>0</td>\n",
              "      <td>0</td>\n",
              "      <td>0</td>\n",
              "      <td>0</td>\n",
              "      <td>1</td>\n",
              "      <td>0</td>\n",
              "      <td>1</td>\n",
              "      <td>0</td>\n",
              "      <td>0</td>\n",
              "      <td>0</td>\n",
              "      <td>0</td>\n",
              "      <td>0</td>\n",
              "      <td>1</td>\n",
              "      <td>0</td>\n",
              "      <td>0</td>\n",
              "      <td>0</td>\n",
              "      <td>1</td>\n",
              "      <td>0</td>\n",
              "      <td>0</td>\n",
              "      <td>0</td>\n",
              "      <td>0</td>\n",
              "      <td>0</td>\n",
              "      <td>0</td>\n",
              "      <td>0</td>\n",
              "      <td>0</td>\n",
              "      <td>0</td>\n",
              "      <td>0</td>\n",
              "      <td>0</td>\n",
              "      <td>0</td>\n",
              "      <td>0</td>\n",
              "      <td>0</td>\n",
              "      <td>0</td>\n",
              "      <td>0</td>\n",
              "      <td>1</td>\n",
              "      <td>0</td>\n",
              "      <td>0</td>\n",
              "      <td>0</td>\n",
              "      <td>0</td>\n",
              "      <td>1</td>\n",
              "      <td>0</td>\n",
              "    </tr>\n",
              "  </tbody>\n",
              "</table>\n",
              "<p>5 rows × 244 columns</p>\n",
              "</div>"
            ],
            "text/plain": [
              "   MSSubClass  LotFrontage  ...  SaleCondition_Normal  SaleCondition_Partial\n",
              "0          60         65.0  ...                     1                      0\n",
              "1          20         80.0  ...                     1                      0\n",
              "2          60         68.0  ...                     1                      0\n",
              "3          70         60.0  ...                     0                      0\n",
              "4          60         84.0  ...                     1                      0\n",
              "\n",
              "[5 rows x 244 columns]"
            ]
          },
          "metadata": {
            "tags": []
          },
          "execution_count": 11
        }
      ]
    },
    {
      "cell_type": "markdown",
      "metadata": {
        "id": "ldXrpuvADKW_"
      },
      "source": [
        "## Linear Regression Model\n"
      ]
    },
    {
      "cell_type": "code",
      "metadata": {
        "id": "Vh2-K-xokqmH"
      },
      "source": [
        "#Split test and training sample\n",
        "#fill NaN\n",
        "df = df.fillna(df.mean())\n",
        "from sklearn.model_selection import train_test_split\n",
        "X = df\n",
        "X_train, X_test, y_train, y_test = train_test_split(X, y, test_size=0.2, random_state=42)"
      ],
      "execution_count": 4,
      "outputs": []
    },
    {
      "cell_type": "code",
      "metadata": {
        "colab": {
          "base_uri": "https://localhost:8080/"
        },
        "id": "whITjXYmDcpa",
        "outputId": "e741b749-a5d4-4feb-9ec6-2286c276b159"
      },
      "source": [
        "#linear regression as basis\n",
        "#standaridization (fit scaler on TRAINING data only)\n",
        "from sklearn.preprocessing import StandardScaler \n",
        "standardizer = StandardScaler()\n",
        "Xstandardized = pd.DataFrame(standardizer.fit_transform(X_train))\n",
        "test_Xstandardized = pd.DataFrame(standardizer.transform(X_test))\n",
        "\n",
        "#vanilla linear regression\n",
        "from sklearn.linear_model import LinearRegression\n",
        "linear = LinearRegression()\n",
        "linear.fit(Xstandardized, y_train)\n",
        "y_train_predict = linear.predict(Xstandardized)\n",
        "\n",
        "#MSE train\n",
        "from sklearn.metrics import mean_squared_error\n",
        "train_RMSE = mean_squared_error(y_train, y_train_predict, squared = False)\n",
        "print('train RMSE', train_RMSE)\n",
        "#MSE Test\n",
        "y_test_predict = linear.predict(test_Xstandardized)\n",
        "test_RMSE = mean_squared_error(y_test, y_test_predict, squared = False)\n",
        "print('test RMSE', test_RMSE)"
      ],
      "execution_count": 5,
      "outputs": [
        {
          "output_type": "stream",
          "text": [
            "train RMSE 21141.58259678246\n",
            "test RMSE 190212133572100.1\n"
          ],
          "name": "stdout"
        }
      ]
    },
    {
      "cell_type": "code",
      "metadata": {
        "colab": {
          "base_uri": "https://localhost:8080/",
          "height": 281
        },
        "id": "Si2AT3xgzSiP",
        "outputId": "63567777-6e45-4969-f0dd-ef9611ad0154"
      },
      "source": [
        "#Visualize Linear Coefficients: Few variables with strong predictive power, the rest is close to 0\n",
        "#max is over 7000, min is close to -300\n",
        "linear_coef = pd.DataFrame(linear.coef_)\n",
        "plt.plot(linear_coef)\n",
        "plt.title('Plot of Linear Coefficients')\n",
        "plt.show()"
      ],
      "execution_count": 8,
      "outputs": [
        {
          "output_type": "display_data",
          "data": {
            "image/png": "[encoded data removed]",
            "text/plain": [
              "<Figure size 432x288 with 1 Axes>"
            ]
          },
          "metadata": {
            "tags": [],
            "needs_background": "light"
          }
        }
      ]
    },
    {
      "cell_type": "markdown",
      "metadata": {
        "id": "c3nFJaUtZS3O"
      },
      "source": [
        "**Log Transform of y to satisfy normality assumption**\n",
        "\n",
        "\n",
        "*   Histogram shows that applying log to house sale price (y) reduces the positive skewness\n",
        "*   Result: has (unexplicable) higher MSE value (RMSE^2)\n",
        "*   Coefficients do not have extreme values\n",
        "\n",
        "\n",
        "\n"
      ]
    },
    {
      "cell_type": "code",
      "metadata": {
        "colab": {
          "base_uri": "https://localhost:8080/",
          "height": 281
        },
        "id": "7QUUij0tI8Vy",
        "outputId": "82e91792-f864-4df5-c606-0eb1ee57c1cf"
      },
      "source": [
        "#log transformation of y \n",
        "fig, axs = plt.subplots(nrows = 1, ncols=2)\n",
        "axs[0].hist(y_train)\n",
        "axs[0].set_title(\"House Sale Price\")\n",
        "axs[1].hist(y_train.apply(np.log))\n",
        "axs[1].set_title(\"Log Transform of House Sale Price\")\n",
        "plt.show()\n",
        "#log transform satisfies the normality assumption "
      ],
      "execution_count": 9,
      "outputs": [
        {
          "output_type": "display_data",
          "data": {
            "image/png": "[encoded data removed]",
            "text/plain": [
              "<Figure size 432x288 with 2 Axes>"
            ]
          },
          "metadata": {
            "tags": [],
            "needs_background": "light"
          }
        }
      ]
    },
    {
      "cell_type": "code",
      "metadata": {
        "colab": {
          "base_uri": "https://localhost:8080/"
        },
        "id": "5ZB3-LSoQ6wu",
        "outputId": "8297c2bd-7e99-48d6-8a51-7c00ef27bd7a"
      },
      "source": [
        "###linear regression with log-transformed y###\n",
        "\n",
        "from sklearn.linear_model import LinearRegression\n",
        "log_linear = LinearRegression()\n",
        "log_y_train = y_train.apply(np.log) #log transformation\n",
        "log_linear.fit(Xstandardized, log_y_train)\n",
        "y_train_predict = log_linear.predict(Xstandardized)\n",
        "\n",
        "#MSE train\n",
        "from sklearn.metrics import mean_squared_error\n",
        "exp_y_train_predict = pd.DataFrame(y_train_predict).apply(np.exp)\n",
        "\n",
        "#train_MSE = mean_squared_error(y_train, exp_y_train_predict, squared=False)\n",
        "train_MSE = mean_squared_error(pd.DataFrame(y_train), y_train_predict, squared=False)\n",
        "print('train RMSE', train_MSE)\n",
        "\n",
        "#MSE test\n",
        "y_test_predict = log_linear.predict(test_Xstandardized)\n",
        "exp_y_test_predict = pd.DataFrame(y_test_predict).apply(np.exp)\n",
        "#log_y_test = y_test.apply(np.log) #apply same log transform\n",
        "#test_MSE = mean_squared_error(y_test, exp_y_test_predict, squared=False)\n",
        "test_MSE = mean_squared_error(pd.DataFrame(y_test_predict).apply(np.log), y_test_predict, squared=False)\n",
        "print('test RMSE', test_MSE)"
      ],
      "execution_count": 6,
      "outputs": [
        {
          "output_type": "stream",
          "text": [
            "train RMSE 197183.07089738976\n",
            "test RMSE 47337528.596290186\n"
          ],
          "name": "stdout"
        }
      ]
    },
    {
      "cell_type": "code",
      "metadata": {
        "colab": {
          "base_uri": "https://localhost:8080/",
          "height": 281
        },
        "id": "Io0sFfrH1pXK",
        "outputId": "102be418-a68b-40fb-d690-d01ac304b424"
      },
      "source": [
        "#visualize log_y linear model coefficients\n",
        "#less extreme but \n",
        "log_linear_coef = pd.DataFrame(log_linear.coef_)\n",
        "plt.plot(log_linear_coef) \n",
        "plt.title('Plot of Coefficient for Log Linear Model')\n",
        "plt.show()"
      ],
      "execution_count": 11,
      "outputs": [
        {
          "output_type": "display_data",
          "data": {
            "image/png": "[encoded data removed]",
            "text/plain": [
              "<Figure size 432x288 with 1 Axes>"
            ]
          },
          "metadata": {
            "tags": [],
            "needs_background": "light"
          }
        }
      ]
    },
    {
      "cell_type": "markdown",
      "metadata": {
        "id": "Pz3MFThyZk-5"
      },
      "source": [
        "##Linear Model with Regularization"
      ]
    },
    {
      "cell_type": "markdown",
      "metadata": {
        "id": "VLsD0i5taSgR"
      },
      "source": [
        "Select the best learning rate for Ridge and Lasso regression using validation set"
      ]
    },
    {
      "cell_type": "code",
      "metadata": {
        "id": "1M74iEIlUSXv"
      },
      "source": [
        "#tune learning rate alpha function\n",
        "from sklearn.linear_model import Ridge\n",
        "from sklearn.linear_model import Lasso\n",
        "from sklearn.model_selection import cross_val_score\n",
        "def tune_lambda(alpha_list, regNorm, X, y):\n",
        "    'use cross validation to choose learning rate with min test MSE'\n",
        "    min_RMSE = 10e100 \n",
        "    alpha = -1\n",
        "    RMSE_list = []\n",
        "    for a in alpha_list:\n",
        "        if regNorm == 2:\n",
        "            clf = Ridge(alpha = a)\n",
        "            scores = cross_val_score(clf, X, y, cv=5, scoring = 'neg_root_mean_squared_error')           \n",
        "            l2_rmse = (-1)*scores.mean()\n",
        "            RMSE_list.append(l2_rmse)\n",
        "            if l2_rmse < min_RMSE:\n",
        "                min_RMSE = l2_rmse\n",
        "                alpha = a\n",
        "            \n",
        "        \n",
        "        if regNorm == 1: \n",
        "            l1m = Lasso(alpha = a, tol=0.001, max_iter=100000)\n",
        "            scores = cross_val_score(l1m, X, y, cv=5, scoring = 'neg_root_mean_squared_error')\n",
        "            l1_rmse = (-1)*scores.mean()\n",
        "            RMSE_list.append(l1_rmse)\n",
        "            if l1_rmse < min_RMSE:\n",
        "                min_RMSE = l1_rmse\n",
        "                alpha = a\n",
        "    \n",
        "    return alpha, min_RMSE, RMSE_list"
      ],
      "execution_count": 7,
      "outputs": []
    },
    {
      "cell_type": "code",
      "metadata": {
        "id": "bZ4TztBUoGGE"
      },
      "source": [
        "def plot_loss_lambda(alpha, regNorm, X_train, y_train, X_test, y_test):\n",
        "    '''\n",
        "    alpha: list of possible alpha values\n",
        "    title: string, title of the plot\n",
        "    regNorm: type of regularization applied\n",
        "    return: a plot that plots train and test loss with respect to different alpha values\n",
        "    '''\n",
        "    from sklearn.linear_model import Ridge\n",
        "    from sklearn.linear_model import Lasso\n",
        "    loss_train = []\n",
        "    loss_test = []\n",
        "    for a in alpha:\n",
        "        if regNorm == 2:\n",
        "            clf = Ridge(alpha = a)\n",
        "            clf.fit(X_train, y_train)\n",
        "            #l2_train_predict = clf.predict(Xstandardized)\n",
        "            #l2_loss_train = mean_squared_error(y_train, l2_train_predict)\n",
        "            #loss_train.append(l2_loss_train)\n",
        "            \n",
        "            l2_test_predict = clf.predict(X_test)\n",
        "            l2_loss_test = mean_squared_error(y_test, l2_test_predict, squared=False)\n",
        "            loss_test.append(l2_loss_test)\n",
        "            \n",
        "        \n",
        "        if regNorm == 1: \n",
        "            l1m = Lasso(alpha = a)\n",
        "            l1m.fit(X_train, y_train)\n",
        "            #l1_train_predict = l1m.predict(Xstandardized)\n",
        "            #l1_loss_train = mean_squared_error(y_train, l1_train_predict)\n",
        "            #loss_train.append(l1_loss_train)\n",
        "\n",
        "            l1_test_predict = l1m.predict(X_test)\n",
        "            l1_loss_test = mean_squared_error(y_test, l1_test_predict, squared=False)\n",
        "            loss_test.append(l1_loss_test * 1000)\n",
        "    \n",
        "    #print('loss_train', loss_train)\n",
        "    print('loss_test',loss_test)\n",
        "    return loss_test\n",
        "    '''\n",
        "    fig, ax = plt.subplots()\n",
        "    ax.set_xlabel('alpha')\n",
        "    ax.set_ylabel('Training Loss')\n",
        "    ax2 = ax.twinx()\n",
        "    ax2.set_ylabel('Test Loss',color = 'blue')\n",
        "   \n",
        "    ax.plot(alpha, loss_train)\n",
        "    ax2.plot(alpha, loss_test)\n",
        "    fig.tight_layout()\n",
        "    plt.title(title)\n",
        "    plt.show()\n",
        "    '''"
      ],
      "execution_count": 13,
      "outputs": []
    },
    {
      "cell_type": "code",
      "metadata": {
        "colab": {
          "base_uri": "https://localhost:8080/"
        },
        "id": "BkpHZO-woLON",
        "outputId": "786c5878-5942-4cfb-9178-ab209846e307"
      },
      "source": [
        "lambdalist=[l*0.01 for l in range(1,500)]\n",
        "\n",
        "lambda2, min_RMSE, RMSE_list = tune_lambda(lambdalist, 2, Xstandardized, y_train)\n",
        "print('[L2 regularization] best lambda is', lambda2, 'min MSE is', min_RMSE)"
      ],
      "execution_count": 16,
      "outputs": [
        {
          "output_type": "stream",
          "text": [
            "[L2 regularization] best lambda is 4.99 min MSE is 36465.72138069916\n"
          ],
          "name": "stdout"
        }
      ]
    },
    {
      "cell_type": "code",
      "metadata": {
        "colab": {
          "base_uri": "https://localhost:8080/",
          "height": 352
        },
        "id": "GNZ_clKBpRE4",
        "outputId": "a8d224d8-6376-497d-ae34-70eb8362b6bf"
      },
      "source": [
        "#plot CV and test RMSE\n",
        "rmse_test2 = plot_loss_lambda(lambdalist,2, Xstandardized, y_train, test_Xstandardized, y_test)\n",
        "\n",
        "fig, ax = plt.subplots()\n",
        "ax.set_xlabel('lambda')\n",
        "ax.set_ylabel('CV RMSE', color = \"red\")\n",
        "ax2 = ax.twinx()\n",
        "ax2.set_ylabel('test RMSE',color = 'blue')\n",
        "   \n",
        "ax.plot(lambdalist, RMSE_list ,color = \"red\")\n",
        "ax2.plot(lambdalist, rmse_test2, color=\"blue\")\n",
        "fig.tight_layout()\n",
        "plt.title(\"Plot of RMSE for L2 Regularization\")\n",
        "plt.show()"
      ],
      "execution_count": 17,
      "outputs": [
        {
          "output_type": "stream",
          "text": [
            "loss_test [29469.85013006087, 29469.518286669067, 29469.187466466585, 29468.85766205462, 29468.528866134948, 29468.201071486612, 29467.87427095486, 29467.54845747325, 29467.223624044364, 29466.89976373851, 29466.576869702432, 29466.25493515328, 29465.933953372863, 29465.61391771915, 29465.294821611653, 29464.976658540385, 29464.659422060795, 29464.343105790973, 29464.027703419335, 29463.713208692596, 29463.39961542258, 29463.086917484874, 29462.775108813472, 29462.464183402815, 29462.154135311448, 29461.84495865232, 29461.53664759891, 29461.229196382938, 29460.922599294212, 29460.61685067361, 29460.31194492403, 29460.00787649837, 29459.704639906475, 29459.402229713396, 29459.10064053236, 29458.799867032358, 29458.499903933814, 29458.20074600686, 29457.90238807486, 29457.604825007606, 29457.3080517262, 29457.012063200527, 29456.71685444832, 29456.422420533545, 29456.12875656938, 29455.835857713813, 29455.543719172183, 29455.25233619293, 29454.961704071953, 29454.67181814735, 29454.38267380228, 29454.09426646325, 29453.80659159735, 29453.519644717595, 29453.23342137485, 29452.947917164045, 29452.663127720938, 29452.379048719176, 29452.095675875305, 29451.813004943084, 29451.531031716506, 29451.24975202705, 29450.969161745386, 29450.68925677893, 29450.410033072803, 29450.131486608974, 29449.853613405707, 29449.57640951683, 29449.29987103246, 29449.0239940775, 29448.748774811367, 29448.47420942844, 29448.20029415628, 29447.92702525737, 29447.65439902605, 29447.382411790433, 29447.111059910734, 29446.840339778915, 29446.570247819884, 29446.300780489277, 29446.031934273735, 29445.763705690184, 29445.496091287787, 29445.229087643555, 29444.96269136555, 29444.696899090988, 29444.4317074864, 29444.167113246363, 29443.903113094657, 29443.63970378293, 29443.376882091005, 29443.114644825433, 29442.852988821112, 29442.59191093919, 29442.331408067974, 29442.07147712161, 29441.812115040382, 29441.55331879118, 29441.29508536537, 29441.037411780984, 29440.78029507909, 29440.52373232773, 29440.267720617263, 29440.012257064343, 29439.757338807998, 29439.50296301223, 29439.24912686302, 29438.99582757116, 29438.743062368983, 29438.490828512557, 29438.239123280433, 29437.987943973018, 29437.737287913063, 29437.487152444235, 29437.237534933403, 29436.98843276735, 29436.739843354604, 29436.491764124843, 29436.24419252812, 29435.997126034934, 29435.750562136007, 29435.50449834228, 29435.258932185123, 29435.013861214586, 29434.76928300054, 29434.52519513265, 29434.281595218803, 29434.038480886637, 29433.795849781858, 29433.553699568663, 29433.31202793012, 29433.070832566817, 29432.830111197767, 29432.589861559332, 29432.35008140619, 29432.1107685093, 29431.87192065789, 29431.633535657802, 29431.395611331845, 29431.158145519625, 29430.921136077282, 29430.68458087755, 29430.44847780898, 29430.212824776572, 29429.97761970117, 29429.742860519196, 29429.508545183387, 29429.27467166089, 29429.04123793483, 29428.808242003768, 29428.57568188044, 29428.343555593347, 29428.111861184938, 29427.880596712854, 29427.649760248885, 29427.41934987914, 29427.189363704132, 29426.959799838125, 29426.73065640953, 29426.50193156028, 29426.27362344612, 29426.045730236052, 29425.81825011302, 29425.591181272986, 29425.364521924275, 29425.13827028953, 29424.912424603237, 29424.686983113243, 29424.46194407981, 29424.23730577544, 29424.01306648564, 29423.789224507822, 29423.565778151547, 29423.342725738723, 29423.120065602874, 29422.897796089594, 29422.6759155562, 29422.454422371524, 29422.233314915793, 29422.0125915809, 29421.79225076981, 29421.572290897133, 29421.352710387764, 29421.13350767868, 29420.914681216753, 29420.69622945996, 29420.478150877396, 29420.260443948267, 29420.04310716238, 29419.82613902012, 29419.60953803172, 29419.393302718647, 29419.177431611017, 29418.961923250477, 29418.74677618785, 29418.53198898329, 29418.317560208296, 29418.103488442313, 29417.88977227564, 29417.67641030714, 29417.4634011461, 29417.250743410288, 29417.038435727, 29416.826476733215, 29416.61486507411, 29416.403599404523, 29416.192678387906, 29415.982100696954, 29415.771865012823, 29415.5619700252, 29415.352414433004, 29415.143196942983, 29414.934316271083, 29414.725771141093, 29414.51756028543, 29414.3096824448, 29414.102136367637, 29413.89492081096, 29413.688034539955, 29413.48147632743, 29413.275244954042, 29413.06933920864, 29412.86375788768, 29412.658499795343, 29412.453563743355, 29412.248948550936, 29412.044653045363, 29411.84067606068, 29411.637016438748, 29411.43367302865, 29411.230644686708, 29411.0279302763, 29410.825528668127, 29410.623438740073, 29410.421659376956, 29410.220189470212, 29410.019027918766, 29409.818173628017, 29409.617625510124, 29409.41738248402, 29409.217443475765, 29409.01780741731, 29408.81847324763, 29408.61943991219, 29408.42070636277, 29408.22227155762, 29408.024134461448, 29407.826294044935, 29407.628749285497, 29407.4314991663, 29407.234542676993, 29407.037878813102, 29406.84150657629, 29406.645424974235, 29406.44963302057, 29406.254129734585, 29406.05891414221, 29405.86398527389, 29405.669342167144, 29405.47498386424, 29405.280909413665, 29405.087117869418, 29404.893608290804, 29404.700379743226, 29404.50743129688, 29404.314762028007, 29404.12237101799, 29403.93025735341, 29403.738420126494, 29403.54685843456, 29403.355571380165, 29403.16455807109, 29402.973817620354, 29402.78334914597, 29402.593151771016, 29402.40322462368, 29402.21356683704, 29402.024177549272, 29401.835055903415, 29401.64620104736, 29401.457612133716, 29401.269288320167, 29401.081228768868, 29400.89343264704, 29400.70589912608, 29400.518627382804, 29400.331616597978, 29400.144865957034, 29399.958374650294, 29399.77214187237, 29399.586166822326, 29399.400448703935, 29399.214986724906, 29399.029780097742, 29398.84482803926, 29398.660129770204, 29398.47568451603, 29398.291491506272, 29398.107549974735, 29397.9238591594, 29397.740418302248, 29397.557226649627, 29397.374283451772, 29397.191587963054, 29397.009139441947, 29396.82693715067, 29396.644980356006, 29396.463268327763, 29396.281800340646, 29396.10057567217, 29395.919593604933, 29395.738853424456, 29395.55835442029, 29395.378095885917, 29395.198077118344, 29395.018297418315, 29394.838756090554, 29394.659452443084, 29394.480385787698, 29394.301555439884, 29394.122960718414, 29393.944600946164, 29393.76647544893, 29393.588583556495, 29393.41092460177, 29393.23349792142, 29393.05630285514, 29392.879338746494, 29392.702604942166, 29392.526100792173, 29392.349825650075, 29392.17377887236, 29391.99795981913, 29391.82236785386, 29391.647002342685, 29391.47186265565, 29391.29694816543, 29391.122258248404, 29390.947792283463, 29390.77354965323, 29390.599529743035, 29390.42573194145, 29390.252155640126, 29390.078800233503, 29389.905665119542, 29389.7327496988, 29389.56005337478, 29389.387575554203, 29389.21531564647, 29389.043273064126, 29388.871447222507, 29388.6998375398, 29388.528443436935, 29388.357264338003, 29388.186299669596, 29388.01554886132, 29387.84501134532, 29387.674686556686, 29387.504573933395, 29387.33467291555, 29387.164982946677, 29386.995503472564, 29386.82623394175, 29386.65717380546, 29386.48832251739, 29386.319679534256, 29386.151244314842, 29385.983016320846, 29385.814995016553, 29385.64717986838, 29385.479570345775, 29385.31216592058, 29385.144966066844, 29384.977970261316, 29384.811177983203, 29384.644588714054, 29384.478201938135, 29384.312017141474, 29384.146033813384, 29383.98025144478, 29383.814669529253, 29383.64928756287, 29383.4841050439, 29383.3191214728, 29383.154336352465, 29382.98974918817, 29382.82535948729, 29382.661166759503, 29382.497170516886, 29382.333370273336, 29382.16976554539, 29382.00635585171, 29381.843140712826, 29381.68011965182, 29381.51729219393, 29381.35465786611, 29381.19221619782, 29381.029966720507, 29380.867908967848, 29380.706042475344, 29380.544366780825, 29380.382881424168, 29380.221585947133, 29380.060479893567, 29379.899562809474, 29379.73883424277, 29379.57829374319, 29379.417940862866, 29379.25777515551, 29379.09779617698, 29378.938003485135, 29378.778396639605, 29378.618975201967, 29378.45973873594, 29378.30068680681, 29378.14181898202, 29377.98313483074, 29377.824633924007, 29377.666315834722, 29377.508180137775, 29377.35022640974, 29377.192454228818, 29377.03486317548, 29376.87745283166, 29376.720222781143, 29376.563172609436, 29376.406301903997, 29376.24961025392, 29376.0930972499, 29375.936762484664, 29375.78060555231, 29375.624626048986, 29375.468823572355, 29375.313197721665, 29375.157748098154, 29375.002474304583, 29374.847375945144, 29374.69245262595, 29374.537703954735, 29374.383129540816, 29374.228728995015, 29374.07450193007, 29373.92044795986, 29373.7665667002, 29373.61285776855, 29373.459320783655, 29373.305955365882, 29373.152761137313, 29372.99973772157, 29372.846884743587, 29372.694201830112, 29372.54168860909, 29372.389344710424, 29372.237169764878, 29372.08516340527, 29371.933325265683, 29371.781654981667, 29371.630152190308, 29371.47881653012, 29371.32764764091, 29371.176645164058, 29371.0258087425, 29370.875138020467, 29370.724632643487, 29370.574292258723, 29370.42411651447, 29370.274105060726, 29370.124257548625, 29369.974573630894, 29369.82505296135, 29369.6756951953, 29369.52649998949, 29369.3774670019, 29369.228595891982, 29369.079886320273, 29368.931337948798, 29368.782950440953, 29368.634723461302, 29368.486656675715, 29368.338749751398, 29368.19100235693, 29368.04341416196, 29367.895984837654, 29367.74871405615, 29367.60160149109, 29367.454646817307, 29367.307849710724, 29367.161209848735, 29367.014726909816, 29366.86840057353, 29366.722230521053, 29366.576216434398, 29366.430357996865, 29366.284654892996, 29366.139106808645, 29365.993713430576, 29365.848474446946, 29365.703389546903, 29365.558458421026]\n"
          ],
          "name": "stdout"
        },
        {
          "output_type": "display_data",
          "data": {
            "image/png": "[encoded data removed]",
            "text/plain": [
              "<Figure size 432x288 with 2 Axes>"
            ]
          },
          "metadata": {
            "tags": [],
            "needs_background": "light"
          }
        }
      ]
    },
    {
      "cell_type": "code",
      "metadata": {
        "colab": {
          "base_uri": "https://localhost:8080/",
          "height": 389
        },
        "id": "rCBcRRsspneT",
        "outputId": "557e5c7d-d853-4d28-9dec-65001738d6cb"
      },
      "source": [
        "#plot RMSE for L1 Regularization\n",
        "\n",
        "alphalist=[l*0.01 for l in range(1,200)]\n",
        "rmse_test = plot_loss_lambda(alphalist,1, Xstandardized, y_train/1000, test_Xstandardized, y_test/1000) #return test RMSE for the same list of regularization param \n",
        "\n",
        "fig, ax = plt.subplots()\n",
        "ax.set_xlabel('lambda')\n",
        "ax.set_ylabel('CV RMSE',color = \"red\")\n",
        "ax2 = ax.twinx()\n",
        "ax2.set_ylabel('Test Loss',color = 'blue')\n",
        "   \n",
        "ax.plot(alphalist, np.multiply(1000, RMSE_list1), color = \"red\")\n",
        "ax2.plot(alphalist, rmse_test, color=\"blue\")\n",
        "fig.tight_layout()\n",
        "plt.title(\"Plot of RMSE for L1 Regularization\")\n",
        "plt.show()"
      ],
      "execution_count": 21,
      "outputs": [
        {
          "output_type": "stream",
          "text": [
            "/usr/local/lib/python3.7/dist-packages/sklearn/linear_model/_coordinate_descent.py:476: ConvergenceWarning: Objective did not converge. You might want to increase the number of iterations. Duality gap: 821.15898724203, tolerance: 696.6594843571944\n",
            "  positive)\n"
          ],
          "name": "stderr"
        },
        {
          "output_type": "stream",
          "text": [
            "loss_test [29266.473369115054, 29233.441311075454, 29219.209009462404, 29212.541335958722, 29217.391822797712, 29229.428693072223, 29215.60508746103, 29181.905540606334, 29143.686094947225, 29106.00017367866, 29074.872796467233, 29048.45754985086, 29026.08479321695, 29006.83189089769, 28989.454549490056, 28977.913865119666, 28966.888109998385, 28956.447300668977, 28949.653970383093, 28947.028375639617, 28941.95946190989, 28937.874690674165, 28935.490950079646, 28935.180001275203, 28936.104532348145, 28935.808691694154, 28936.74129363348, 28938.978778962253, 28941.31166065394, 28943.0932540529, 28942.167115377524, 28942.277419937785, 28942.72156534489, 28944.50917442332, 28947.961999232386, 28950.877465745045, 28953.715507913348, 28957.400554403564, 28961.688603057974, 28966.267680399633, 28971.214698900425, 28976.762326136926, 28982.941450238683, 28986.56956200594, 28988.788934737877, 28990.64868482421, 28992.9456856185, 28995.480362689395, 28995.51509020034, 28995.02948526783, 28994.844844062543, 28995.03720103399, 28995.959948185322, 28997.27981899118, 28999.22770894216, 29001.741690794315, 29004.723086173548, 29006.913241965125, 29008.0539818535, 29010.72918328468, 29014.17983413925, 29018.51409435, 29023.853259791515, 29029.905704569443, 29035.737844120653, 29041.70413390543, 29048.03515881372, 29054.848144407817, 29062.25475498985, 29070.435611811605, 29079.123270609012, 29087.131705354263, 29095.41647456968, 29103.854748821228, 29112.61681230163, 29121.4603578584, 29130.750994678983, 29140.258783477195, 29150.122281379234, 29160.537690929177, 29171.754422287915, 29183.447442806857, 29196.327203793662, 29209.466960398015, 29222.788267812684, 29236.403939692816, 29250.314599124828, 29264.530118544688, 29279.046684778787, 29293.711679682794, 29308.961608468962, 29324.58606504944, 29340.481052508116, 29356.735325319547, 29373.167620449298, 29389.868274044926, 29406.92638038141, 29424.162336406935, 29441.664613121968, 29459.432756399732, 29477.114203722645, 29494.829181989953, 29512.946060982507, 29532.342298135874, 29551.904422714684, 29571.485078414516, 29588.843003182115, 29606.472621853984, 29624.164615877744, 29641.33651307771, 29657.188649388983, 29673.232141032706, 29689.391648597244, 29705.723175068968, 29722.130328895637, 29738.91553671272, 29756.573201285162, 29774.53961785614, 29792.355382441277, 29809.668973014268, 29826.769167088478, 29844.01555330239, 29861.357389924826, 29878.80947292082, 29895.600698699338, 29912.381954491808, 29929.304304279336, 29946.368796175197, 29963.575238373254, 29980.923787618864, 29998.878011114317, 30018.068685575658, 30037.391871182255, 30056.847224987887, 30076.434309487544, 30096.15312079301, 30116.00374099279, 30135.985712076465, 30156.099079417312, 30174.81215294618, 30193.156235586, 30209.81615780809, 30226.593390864255, 30243.488840454283, 30259.164557386328, 30274.242435544595, 30289.50685199356, 30304.876658952326, 30320.09411677703, 30334.825228632155, 30349.42951599866, 30364.012639383895, 30378.79578782695, 30393.704293064024, 30408.717880638054, 30423.7574816513, 30438.981138566804, 30454.309785312293, 30469.77756130186, 30485.350153670825, 30500.964103549828, 30516.56425890595, 30532.18000993777, 30547.96732977572, 30563.847974964952, 30579.8218442552, 30595.888652950925, 30612.048226237872, 30628.223879630776, 30644.59727322255, 30661.11394410641, 30677.723442151808, 30694.425590989264, 30710.951177889943, 30726.13280856717, 30741.476159085803, 30756.904905530337, 30772.418937948645, 30788.018153045337, 30803.702482351207, 30819.396777056336, 30835.250830871097, 30851.189927470576, 30866.15759457382, 30881.181548861357, 30896.287523335523, 30911.475407828242, 30926.672199924193, 30942.02371721324, 30957.456786552033, 30972.971389354414, 30988.567419042854, 31004.46646601638, 31020.866466067713, 31037.255859655757, 31052.99949575383, 31068.82437092771, 31084.73031715587, 31100.716578316216]\n"
          ],
          "name": "stdout"
        },
        {
          "output_type": "display_data",
          "data": {
            "image/png": "[encoded data removed]",
            "text/plain": [
              "<Figure size 432x288 with 2 Axes>"
            ]
          },
          "metadata": {
            "tags": [],
            "needs_background": "light"
          }
        }
      ]
    },
    {
      "cell_type": "code",
      "metadata": {
        "colab": {
          "base_uri": "https://localhost:8080/"
        },
        "id": "LPqCjlwBpcnj",
        "outputId": "155f69e8-6e6a-48ba-be9f-cb645968b503"
      },
      "source": [
        "#use cross validation to select best lambda\n",
        "lambda1, min_RMSE1, RMSE_list1 = tune_lambda(alphalist, 1, Xstandardized, y_train/1000)\n",
        "print('[L1 regularization] best lambda is', lambda1, 'min MSE is', min_RMSE1*1000)"
      ],
      "execution_count": 20,
      "outputs": [
        {
          "output_type": "stream",
          "text": [
            "[L1 regularization] best lambda is 1.9000000000000001 min MSE is 33830.038429188215\n"
          ],
          "name": "stdout"
        }
      ]
    },
    {
      "cell_type": "code",
      "metadata": {
        "colab": {
          "base_uri": "https://localhost:8080/"
        },
        "id": "bGHQZigxV_gZ",
        "outputId": "e6a3c107-846d-4b4f-f82b-1c0cd9e4985a"
      },
      "source": [
        "#Linear Regression with Regularization Terms \n",
        "#L2\n",
        "from sklearn.linear_model import Ridge\n",
        "clf = Ridge(alpha = 4.99)\n",
        "clf.fit(Xstandardized, y_train)\n",
        "l2_train_predict = clf.predict(Xstandardized)\n",
        "#MSE train\n",
        "from sklearn.metrics import mean_squared_error\n",
        "train_rmse = mean_squared_error(y_train, l2_train_predict, squared=False)\n",
        "print('train rmse', train_rmse)\n",
        "#MSE Test\n",
        " \n",
        "l2_y_test_predict = clf.predict(test_Xstandardized)\n",
        "test_rmse = mean_squared_error(y_test, l2_y_test_predict,squared=False)\n",
        "print('test rmse', test_rmse)\n",
        "##Plot Test and Train Loss as a function of alpha\n",
        "#TODO:\n"
      ],
      "execution_count": 8,
      "outputs": [
        {
          "output_type": "stream",
          "text": [
            "train rmse 21159.487033602825\n",
            "test rmse 29365.55845842088\n"
          ],
          "name": "stdout"
        }
      ]
    },
    {
      "cell_type": "code",
      "metadata": {
        "colab": {
          "base_uri": "https://localhost:8080/",
          "height": 281
        },
        "id": "eMeQM4S9qJkK",
        "outputId": "7d99f509-5439-4087-90bf-a036740f9aaa"
      },
      "source": [
        "clf_coef = pd.DataFrame(clf.coef_)\n",
        "plt.plot(clf_coef) \n",
        "#plt.ylim(-25, 25)\n",
        "plt.title('Plot of Linear Coefficients with L2 Regularization (alpha = 0.05)')\n",
        "plt.show()"
      ],
      "execution_count": 23,
      "outputs": [
        {
          "output_type": "display_data",
          "data": {
            "image/png": "[encoded data removed]",
            "text/plain": [
              "<Figure size 432x288 with 1 Axes>"
            ]
          },
          "metadata": {
            "tags": [],
            "needs_background": "light"
          }
        }
      ]
    },
    {
      "cell_type": "code",
      "metadata": {
        "colab": {
          "base_uri": "https://localhost:8080/"
        },
        "id": "L4TtCncDqOUo",
        "outputId": "b4f28b56-4904-4909-c3ee-23a14209d08f"
      },
      "source": [
        "#L1 Regression\n",
        "#Todo: \n",
        "from sklearn.linear_model import Lasso\n",
        "l1m = Lasso(alpha = 0.25)\n",
        "l1m.fit(Xstandardized, y_train)\n",
        "l1_train_predict = l1m.predict(Xstandardized)\n",
        "\n",
        "#Train MSE:\n",
        "from sklearn.metrics import mean_squared_error\n",
        "l1_train_rmse = mean_squared_error(y_train, l1_train_predict,squared=False)\n",
        "print(\"l1 train rmse:\", l1_train_rmse)\n",
        "\n",
        "#Test MSE:\n",
        "l1_y_test_predict = l1m.predict(test_Xstandardized)\n",
        "l1_test_rmse = mean_squared_error(y_test, l1_y_test_predict,squared=False)\n",
        "print(\"l1 test rmse:\", l1_test_rmse)\n",
        "\n"
      ],
      "execution_count": 9,
      "outputs": [
        {
          "output_type": "stream",
          "text": [
            "l1 train rmse: 21141.573248420973\n",
            "l1 test rmse: 29346.492176766496\n"
          ],
          "name": "stdout"
        },
        {
          "output_type": "stream",
          "text": [
            "/usr/local/lib/python3.7/dist-packages/sklearn/linear_model/_coordinate_descent.py:476: ConvergenceWarning: Objective did not converge. You might want to increase the number of iterations. Duality gap: 33512200980.737305, tolerance: 696659484.3571944\n",
            "  positive)\n"
          ],
          "name": "stderr"
        }
      ]
    },
    {
      "cell_type": "code",
      "metadata": {
        "colab": {
          "base_uri": "https://localhost:8080/",
          "height": 281
        },
        "id": "wcRbvfWrqRVy",
        "outputId": "b4af641e-cb77-4142-e6c0-87c685378619"
      },
      "source": [
        "l1m_coef = pd.DataFrame(l1m.coef_)\n",
        "plt.plot(l1m_coef) \n",
        "#plt.ylim(-100, 100)\n",
        "plt.title('Plot of Linear Coefficients with L1 Regularization (alpha = 0.25)')\n",
        "plt.show()"
      ],
      "execution_count": 25,
      "outputs": [
        {
          "output_type": "display_data",
          "data": {
            "image/png": "[encoded data removed]",
            "text/plain": [
              "<Figure size 432x288 with 1 Axes>"
            ]
          },
          "metadata": {
            "tags": [],
            "needs_background": "light"
          }
        }
      ]
    },
    {
      "cell_type": "markdown",
      "metadata": {
        "id": "18EhPz3zqq4_"
      },
      "source": [
        "# Log Transform of Y with Regularization"
      ]
    },
    {
      "cell_type": "code",
      "metadata": {
        "colab": {
          "base_uri": "https://localhost:8080/"
        },
        "id": "ZlA9gRWZq0FI",
        "outputId": "6c0e1726-c3db-4480-f001-58bf39cc2279"
      },
      "source": [
        "#train L2 reg with CV\n",
        "lambda2, min_RMSE, RMSE_list = tune_lambda(lambdalist, 2, Xstandardized, log_y_train)\n",
        "print('[L2 regularization + log transform] best lambda is', lambda2, 'min RMSE is', min_RMSE)"
      ],
      "execution_count": 26,
      "outputs": [
        {
          "output_type": "stream",
          "text": [
            "[L2 regularization + log transform] best lambda is 4.99 min RMSE is 0.15420080840590972\n"
          ],
          "name": "stdout"
        }
      ]
    },
    {
      "cell_type": "code",
      "metadata": {
        "id": "l9V3yN60q3N1"
      },
      "source": [
        "#plot l2 reg CV and test RMSE\n",
        "log_y_test = pd.DataFrame(y_test).apply(np.log)\n",
        "\n",
        "rmse_test2 = plot_loss_lambda(lambdalist,2, Xstandardized, log_y_train, test_Xstandardized, log_y_test)\n",
        "fig, ax = plt.subplots()\n",
        "ax.set_xlabel('lambda')\n",
        "ax.set_ylabel('CV RMSE', color = \"red\")\n",
        "ax2 = ax.twinx()\n",
        "ax2.set_ylabel('test RMSE',color = 'blue')\n",
        "   \n",
        "ax.plot(lambdalist, RMSE_list,color = \"red\")\n",
        "ax2.plot(lambdalist, rmse_test2, color=\"blue\")\n",
        "fig.tight_layout()\n",
        "plt.title(\"Plot of RMSE for L2 Regularization with Log Transform\")\n",
        "plt.show()"
      ],
      "execution_count": null,
      "outputs": []
    },
    {
      "cell_type": "code",
      "metadata": {
        "colab": {
          "base_uri": "https://localhost:8080/"
        },
        "id": "4fzW5fnNq7md",
        "outputId": "e6a57c41-bf50-4493-b330-835f37825099"
      },
      "source": [
        "#train l2 reg with CV\n",
        "lambda1, min_RMSE1, RMSE_list1 = tune_lambda(alphalist, 1, Xstandardized, log_y_train)\n",
        "print('[L1 regularization + log transform] best lambda is', lambda1, 'min RMSE is', min_RMSE1)"
      ],
      "execution_count": 29,
      "outputs": [
        {
          "output_type": "stream",
          "text": [
            "[L1 regularization + log transform] best lambda is 0.01 min RMSE is 0.14636773193179414\n"
          ],
          "name": "stdout"
        }
      ]
    },
    {
      "cell_type": "code",
      "metadata": {
        "colab": {
          "base_uri": "https://localhost:8080/",
          "height": 350
        },
        "id": "uAIJbJKqq-3l",
        "outputId": "4d247ab8-3bd4-4d1c-e780-74c988e8b72b"
      },
      "source": [
        "##plot l1 reg CV and test RMSE\n",
        "rmse_test2 = plot_loss_lambda(alphalist, 1, Xstandardized, log_y_train, test_Xstandardized, log_y_test)\n",
        "\n",
        "fig, ax = plt.subplots()\n",
        "ax.set_xlabel('lambda')\n",
        "ax.set_ylabel('CV RMSE',color = \"red\")\n",
        "ax2 = ax.twinx()\n",
        "ax2.set_ylabel('Test Loss',color = 'blue')\n",
        "   \n",
        "ax.plot(alphalist, RMSE_list1, color = \"red\")\n",
        "ax2.plot(alphalist, rmse_test2, color=\"blue\")\n",
        "fig.tight_layout()\n",
        "plt.title(\"Plot of RMSE for L1 Regularization\")\n",
        "plt.show()"
      ],
      "execution_count": 30,
      "outputs": [
        {
          "output_type": "stream",
          "text": [
            "loss_test [130.3518517446117, 153.13377429346306, 168.18103584589878, 179.54679062649427, 190.12417822086584, 200.81238685979088, 211.12945179251008, 220.50543002950772, 229.81991215297703, 239.29867194674353, 248.71764844471562, 258.01303957895374, 267.62495282298966, 276.59423525205796, 285.81065414525716, 295.28068319406236, 304.9836391646993, 314.89503902935354, 324.9968984681403, 335.04911868279277, 343.6702827821927, 351.63051714154847, 359.7246619482093, 367.94387989631554, 376.27997502316697, 384.72535004155344, 393.2729647924416, 401.9162962851319, 410.649300636637, 419.4663771007634, 428.3623342844245, 433.24686081152134, 433.24686081152134, 433.24686081152134, 433.24686081152134, 433.24686081152134, 433.24686081152134, 433.24686081152134, 433.24686081152134, 433.24686081152134, 433.24686081152134, 433.24686081152134, 433.24686081152134, 433.24686081152134, 433.24686081152134, 433.24686081152134, 433.24686081152134, 433.24686081152134, 433.24686081152134, 433.24686081152134, 433.24686081152134, 433.24686081152134, 433.24686081152134, 433.24686081152134, 433.24686081152134, 433.24686081152134, 433.24686081152134, 433.24686081152134, 433.24686081152134, 433.24686081152134, 433.24686081152134, 433.24686081152134, 433.24686081152134, 433.24686081152134, 433.24686081152134, 433.24686081152134, 433.24686081152134, 433.24686081152134, 433.24686081152134, 433.24686081152134, 433.24686081152134, 433.24686081152134, 433.24686081152134, 433.24686081152134, 433.24686081152134, 433.24686081152134, 433.24686081152134, 433.24686081152134, 433.24686081152134, 433.24686081152134, 433.24686081152134, 433.24686081152134, 433.24686081152134, 433.24686081152134, 433.24686081152134, 433.24686081152134, 433.24686081152134, 433.24686081152134, 433.24686081152134, 433.24686081152134, 433.24686081152134, 433.24686081152134, 433.24686081152134, 433.24686081152134, 433.24686081152134, 433.24686081152134, 433.24686081152134, 433.24686081152134, 433.24686081152134, 433.24686081152134, 433.24686081152134, 433.24686081152134, 433.24686081152134, 433.24686081152134, 433.24686081152134, 433.24686081152134, 433.24686081152134, 433.24686081152134, 433.24686081152134, 433.24686081152134, 433.24686081152134, 433.24686081152134, 433.24686081152134, 433.24686081152134, 433.24686081152134, 433.24686081152134, 433.24686081152134, 433.24686081152134, 433.24686081152134, 433.24686081152134, 433.24686081152134, 433.24686081152134, 433.24686081152134, 433.24686081152134, 433.24686081152134, 433.24686081152134, 433.24686081152134, 433.24686081152134, 433.24686081152134, 433.24686081152134, 433.24686081152134, 433.24686081152134, 433.24686081152134, 433.24686081152134, 433.24686081152134, 433.24686081152134, 433.24686081152134, 433.24686081152134, 433.24686081152134, 433.24686081152134, 433.24686081152134, 433.24686081152134, 433.24686081152134, 433.24686081152134, 433.24686081152134, 433.24686081152134, 433.24686081152134, 433.24686081152134, 433.24686081152134, 433.24686081152134, 433.24686081152134, 433.24686081152134, 433.24686081152134, 433.24686081152134, 433.24686081152134, 433.24686081152134, 433.24686081152134, 433.24686081152134, 433.24686081152134, 433.24686081152134, 433.24686081152134, 433.24686081152134, 433.24686081152134, 433.24686081152134, 433.24686081152134, 433.24686081152134, 433.24686081152134, 433.24686081152134, 433.24686081152134, 433.24686081152134, 433.24686081152134, 433.24686081152134, 433.24686081152134, 433.24686081152134, 433.24686081152134, 433.24686081152134, 433.24686081152134, 433.24686081152134, 433.24686081152134, 433.24686081152134, 433.24686081152134, 433.24686081152134, 433.24686081152134, 433.24686081152134, 433.24686081152134, 433.24686081152134, 433.24686081152134, 433.24686081152134, 433.24686081152134, 433.24686081152134, 433.24686081152134, 433.24686081152134, 433.24686081152134, 433.24686081152134, 433.24686081152134, 433.24686081152134, 433.24686081152134, 433.24686081152134, 433.24686081152134]\n"
          ],
          "name": "stdout"
        },
        {
          "output_type": "display_data",
          "data": {
            "image/png": "[encoded data removed]",
            "text/plain": [
              "<Figure size 432x288 with 2 Axes>"
            ]
          },
          "metadata": {
            "tags": [],
            "needs_background": "light"
          }
        }
      ]
    },
    {
      "cell_type": "code",
      "metadata": {
        "colab": {
          "base_uri": "https://localhost:8080/"
        },
        "id": "_rrZyVy9rAjh",
        "outputId": "6a47527e-334d-4f10-abc2-81f68cc5c80f"
      },
      "source": [
        "from sklearn.linear_model import RidgeCV\n",
        "l2_test = RidgeCV(alphas = lambdalist).fit(Xstandardized, log_y_train)\n",
        "l2_test.alpha_"
      ],
      "execution_count": 31,
      "outputs": [
        {
          "output_type": "execute_result",
          "data": {
            "text/plain": [
              "4.99"
            ]
          },
          "metadata": {
            "tags": []
          },
          "execution_count": 31
        }
      ]
    },
    {
      "cell_type": "code",
      "metadata": {
        "colab": {
          "base_uri": "https://localhost:8080/"
        },
        "id": "7QQKuxP3rCY3",
        "outputId": "006de173-106b-4a2f-aa7e-f6a97e379d12"
      },
      "source": [
        "#use build in function to test cv result\n",
        "from sklearn.linear_model import LassoCV\n",
        "l1_test = LassoCV(alphas = lambdalist).fit(Xstandardized, log_y_train)\n",
        "l1_test.alpha_"
      ],
      "execution_count": 32,
      "outputs": [
        {
          "output_type": "execute_result",
          "data": {
            "text/plain": [
              "0.01"
            ]
          },
          "metadata": {
            "tags": []
          },
          "execution_count": 32
        }
      ]
    },
    {
      "cell_type": "markdown",
      "metadata": {
        "id": "Ws9966nOaykI"
      },
      "source": [
        "##Feature Selection Using PCA\n"
      ]
    },
    {
      "cell_type": "code",
      "metadata": {
        "colab": {
          "base_uri": "https://localhost:8080/"
        },
        "id": "FCAeEhhoa1bG",
        "outputId": "44d1e4a1-4136-4db0-9d32-9f5f5764c375"
      },
      "source": [
        "from sklearn.decomposition import PCA\n",
        "pca = PCA(.80) #retain 80% of the total variance\n",
        "pca.fit(Xstandardized)\n",
        "explain_var_percent = pca.explained_variance_ratio_\n",
        "print('number of components PCA has retained', pca.n_components_)"
      ],
      "execution_count": 11,
      "outputs": [
        {
          "output_type": "stream",
          "text": [
            "number of components PCA has retained 97\n"
          ],
          "name": "stdout"
        }
      ]
    },
    {
      "cell_type": "code",
      "metadata": {
        "colab": {
          "base_uri": "https://localhost:8080/",
          "height": 281
        },
        "id": "grdG8yOxZ81a",
        "outputId": "d75b2a45-9b12-4a70-91d6-54f308fa3626"
      },
      "source": [
        "#plot explained varianc aka the elbow curve\n",
        "plt.plot(explain_var_percent)\n",
        "plt.title('Plot of Explained Variance Percentage on Feature Dimensions')\n",
        "plt.show()"
      ],
      "execution_count": 12,
      "outputs": [
        {
          "output_type": "display_data",
          "data": {
            "image/png": "[encoded data removed]",
            "text/plain": [
              "<Figure size 432x288 with 1 Axes>"
            ]
          },
          "metadata": {
            "tags": [],
            "needs_background": "light"
          }
        }
      ]
    },
    {
      "cell_type": "code",
      "metadata": {
        "id": "bTvAEGRPaCIK"
      },
      "source": [
        "#Reduce Dimension \n",
        "D = len(explain_var_percent) #reduce 244 cols to 97 cols\n",
        "train_components = pca.transform(Xstandardized) #transform training set to 97 variables\n",
        "test_components = pca.transform(test_Xstandardized) #transform test set to 97 variables\n"
      ],
      "execution_count": 13,
      "outputs": []
    },
    {
      "cell_type": "code",
      "metadata": {
        "colab": {
          "base_uri": "https://localhost:8080/"
        },
        "id": "AQjYUDdl0jla",
        "outputId": "cf49ce09-18ef-40c7-b820-66909877e34d"
      },
      "source": [
        "#check shape\n",
        "print('train X shape', pd.DataFrame(train_components).shape)\n",
        "print('test X shape' , pd.DataFrame(test_components).shape)"
      ],
      "execution_count": 76,
      "outputs": [
        {
          "output_type": "stream",
          "text": [
            "train X shape (1168, 97)\n",
            "test X shape (292, 97)\n"
          ],
          "name": "stdout"
        }
      ]
    },
    {
      "cell_type": "markdown",
      "metadata": {
        "id": "71vua0_S3QcD"
      },
      "source": [
        "#Linear Regression Model on PCA dataset (D' = 97)"
      ]
    },
    {
      "cell_type": "code",
      "metadata": {
        "colab": {
          "base_uri": "https://localhost:8080/"
        },
        "id": "61P8ZvCR22kY",
        "outputId": "b895815d-2873-4293-ee5f-c1f2e488cae2"
      },
      "source": [
        "#apply linear regression on principal components\n",
        "from sklearn.linear_model import LinearRegression\n",
        "pca_linear = LinearRegression()\n",
        "pca_linear.fit(train_components, y_train)\n",
        "pca_y_train_predict = pca_linear.predict(train_components)\n",
        "\n",
        "#MSE train\n",
        "from sklearn.metrics import mean_squared_error\n",
        "pca_train_RMSE = mean_squared_error(y_train, pca_y_train_predict, squared=False)\n",
        "print('PCA train RMSE', pca_train_RMSE)\n",
        "\n",
        "#MSE Test\n",
        "pca_y_test_predict = pca_linear.predict(test_components)\n",
        "pca_test_RMSE = mean_squared_error(y_test, pca_y_test_predict, squared=False)\n",
        "print('PCA test RMSE', pca_test_RMSE)"
      ],
      "execution_count": 14,
      "outputs": [
        {
          "output_type": "stream",
          "text": [
            "PCA train RMSE 28818.64666261907\n",
            "PCA test RMSE 36668.748943213744\n"
          ],
          "name": "stdout"
        }
      ]
    },
    {
      "cell_type": "code",
      "metadata": {
        "colab": {
          "base_uri": "https://localhost:8080/",
          "height": 281
        },
        "id": "8YUYniJx7ORO",
        "outputId": "cfaf13ca-db9f-4839-cd53-fb134320cc8d"
      },
      "source": [
        "pca_coef = pd.DataFrame(pca_linear.coef_)\n",
        "plt.plot(pca_coef) \n",
        "#plt.ylim(-25, 25)\n",
        "plt.title('Plot of PCA Linear Regression Coefficients')\n",
        "plt.show()"
      ],
      "execution_count": 73,
      "outputs": [
        {
          "output_type": "display_data",
          "data": {
            "image/png": "[encoded data removed]",
            "text/plain": [
              "<Figure size 432x288 with 1 Axes>"
            ]
          },
          "metadata": {
            "tags": [],
            "needs_background": "light"
          }
        }
      ]
    },
    {
      "cell_type": "markdown",
      "metadata": {
        "id": "TUfE5baU8jAC"
      },
      "source": [
        "PCA with Log Transform of Y\n",
        "\n",
        "\n",
        "*   The bias term is significantly higher than the other coefficents\n",
        "*   Log transform of Y may resolve this issue\n",
        "\n"
      ]
    },
    {
      "cell_type": "code",
      "metadata": {
        "colab": {
          "base_uri": "https://localhost:8080/"
        },
        "id": "6kWrJZTw7jcz",
        "outputId": "c7707a60-7649-40c7-cba7-2f4961840d69"
      },
      "source": [
        "#PCA with Log Transform of Y\n",
        "\n",
        "pca_log_linear = LinearRegression()\n",
        "pca_log_linear.fit(train_components, log_y_train)\n",
        "pca_logy_train_predict = pca_log_linear.predict(train_components)\n",
        "\n",
        "#MSE train\n",
        "pca_exp_y_train_predict = pd.DataFrame(pca_logy_train_predict).apply(np.exp)\n",
        "pca_log_train_RMSE = mean_squared_error(y_train, pca_exp_y_train_predict, squared=False)\n",
        "print('pca log y train RMSE', pca_log_train_RMSE)\n",
        "\n",
        "#MSE test\n",
        "pca_logy_test_predict = pca_log_linear.predict(test_components)\n",
        "pca_expy_test_predict = pd.DataFrame(pca_logy_test_predict).apply(np.exp)\n",
        "pca_log_test_RMSE = mean_squared_error(y_test, pca_expy_test_predict, squared= False)\n",
        "print('pca log y test RMSE', pca_log_test_RMSE)"
      ],
      "execution_count": 15,
      "outputs": [
        {
          "output_type": "stream",
          "text": [
            "pca log y train RMSE 24840.12627567631\n",
            "pca log y test RMSE 29331.92165333755\n"
          ],
          "name": "stdout"
        }
      ]
    },
    {
      "cell_type": "markdown",
      "metadata": {
        "id": "jWb2OKdy90nH"
      },
      "source": [
        "PCA with Log Y has reduced the RMSE. The predicted value is only 23k away from the real sale price "
      ]
    },
    {
      "cell_type": "code",
      "metadata": {
        "colab": {
          "base_uri": "https://localhost:8080/",
          "height": 281
        },
        "id": "eseef0899z6f",
        "outputId": "1daeea6e-77e6-4464-de5a-68296c3e3cbb"
      },
      "source": [
        "pca_log_coef = pd.DataFrame(pca_log_linear.coef_)\n",
        "plt.plot(pca_log_coef) \n",
        "#plt.ylim(-25, 25)\n",
        "plt.title('Plot of PCA Linear Regression with Y Transformation Coefficients')\n",
        "plt.show()"
      ],
      "execution_count": 39,
      "outputs": [
        {
          "output_type": "display_data",
          "data": {
            "image/png": "[encoded data removed]",
            "text/plain": [
              "<Figure size 432x288 with 1 Axes>"
            ]
          },
          "metadata": {
            "tags": [],
            "needs_background": "light"
          }
        }
      ]
    },
    {
      "cell_type": "code",
      "metadata": {
        "id": "9niUJEgl-TOF"
      },
      "source": [
        ""
      ],
      "execution_count": null,
      "outputs": []
    },
    {
      "cell_type": "markdown",
      "metadata": {
        "id": "b5LGhT480j-Q"
      },
      "source": [
        "# Support Vector Regression"
      ]
    },
    {
      "cell_type": "markdown",
      "metadata": {
        "id": "fJPXHbZyeEmc"
      },
      "source": [
        "Running initial models"
      ]
    },
    {
      "cell_type": "code",
      "metadata": {
        "colab": {
          "base_uri": "https://localhost:8080/"
        },
        "id": "QnUgMB9y05bn",
        "outputId": "75774748-22db-4560-f30f-b9abb4b6abce"
      },
      "source": [
        "from sklearn.svm import SVR\n",
        "\n",
        "\n",
        "#-----Linear kernel-------\n",
        "svr_linear = SVR(kernel = \"linear\")\n",
        "svr_linear.fit(Xstandardized, y_train)\n",
        "svr_linear_y_train_predict = svr_linear.predict(Xstandardized)\n",
        "\n",
        "#MSE train\n",
        "\n",
        "linear_train_MSE = mean_squared_error(y_train, svr_linear_y_train_predict)\n",
        "print('Linear kernel train MSE', linear_train_MSE)\n",
        "#MSE Test\n",
        "svr_linear_y_test_predict = svr_linear.predict(test_Xstandardized)\n",
        "linear_test_MSE = mean_squared_error(y_test, svr_linear_y_test_predict)\n",
        "print('Linear kernel test MSE', linear_test_MSE)\n",
        "\n",
        "\n",
        "#-----rbf kernel-----------\n",
        "svr_rbf = SVR()\n",
        "svr_rbf.fit(Xstandardized, y_train)\n",
        "svr_rbf_y_train_predict = svr_rbf.predict(Xstandardized)\n",
        "\n",
        "#MSE train\n",
        "\n",
        "rbf_train_MSE = mean_squared_error(y_train, svr_rbf_y_train_predict)\n",
        "print('rbf kernel train MSE', rbf_train_MSE)\n",
        "print('rbf kernel train RMSE', mean_squared_error(y_train, svr_rbf_y_train_predict, squared = False))\n",
        "#MSE Test\n",
        "svr_rbf_y_test_predict = svr_rbf.predict(test_Xstandardized)\n",
        "rbf_test_MSE = mean_squared_error(y_test, svr_rbf_y_test_predict)\n",
        "print('rbf kernel test MSE', rbf_test_MSE)\n",
        "print('rbf kernel test RMSE', mean_squared_error(y_test, svr_rbf_y_test_predict, squared = False))\n",
        "\n",
        "\n",
        "#-----sigmoid kernel-----------\n",
        "svr_sigmoid = SVR(kernel = \"sigmoid\")\n",
        "svr_sigmoid.fit(Xstandardized, y_train)\n",
        "svr_sigmoid_y_train_predict = svr_sigmoid.predict(Xstandardized)\n",
        "\n",
        "#MSE train\n",
        "\n",
        "sigmoid_train_MSE = mean_squared_error(y_train, svr_sigmoid_y_train_predict)\n",
        "print('sigmoid kernel train MSE', sigmoid_train_MSE)\n",
        "#MSE Test\n",
        "svr_sigmoid_y_test_predict = svr_sigmoid.predict(test_Xstandardized)\n",
        "sigmoid_test_MSE = mean_squared_error(y_test, svr_sigmoid_y_test_predict)\n",
        "print('sigmoid kernel test MSE', sigmoid_test_MSE)\n",
        "\n",
        "\n",
        "#-----poly kernel-----------\n",
        "svr_poly = SVR(kernel = \"poly\")\n",
        "svr_poly.fit(Xstandardized, y_train)\n",
        "svr_poly_y_train_predict = svr_poly.predict(Xstandardized)\n",
        "\n",
        "#MSE train\n",
        "\n",
        "poly_train_MSE = mean_squared_error(y_train, svr_poly_y_train_predict)\n",
        "print('poly kernel train MSE', poly_train_MSE)\n",
        "#MSE Test\n",
        "svr_poly_y_test_predict = svr_poly.predict(test_Xstandardized)\n",
        "poly_test_MSE = mean_squared_error(y_test, svr_poly_y_test_predict)\n",
        "print('poly kernel test MSE', poly_test_MSE)\n",
        "\n",
        "\n",
        "\n",
        "\n",
        "\n"
      ],
      "execution_count": 16,
      "outputs": [
        {
          "output_type": "stream",
          "text": [
            "Linear kernel train MSE 4720835713.702892\n",
            "Linear kernel test MSE 6068540581.826603\n",
            "rbf kernel train MSE 6231747451.445648\n",
            "rbf kernel train RMSE 78941.41784542287\n",
            "rbf kernel test MSE 7858364136.617225\n",
            "rbf kernel test RMSE 88647.41472043742\n",
            "sigmoid kernel train MSE 6227667415.345335\n",
            "sigmoid kernel test MSE 7853357444.2264805\n",
            "poly kernel train MSE 6233106679.902313\n",
            "poly kernel test MSE 7860861925.030521\n"
          ],
          "name": "stdout"
        }
      ]
    },
    {
      "cell_type": "code",
      "metadata": {
        "id": "t7KcPWxIvb9T"
      },
      "source": [
        "fig, ax = plt.subplots()\n",
        "ax.set_xlabel('Sample')\n",
        "ax.set_ylabel('Predicted price',color = \"red\")\n",
        "ax2 = ax.twinx()\n",
        "ax2.set_ylabel('Actual price',color = 'blue')\n",
        "   \n",
        "ax.plot(svr_linear_y_test_predict, color = \"red\")\n",
        "ax2.plot(y_test, color=\"blue\")\n",
        "fig.tight_layout()\n",
        "plt.title(\"SVR Basic Linear Kernel\")\n",
        "plt.show()"
      ],
      "execution_count": null,
      "outputs": []
    },
    {
      "cell_type": "markdown",
      "metadata": {
        "id": "PUmSzPsJd7jD"
      },
      "source": [
        "Tuning of parameters"
      ]
    },
    {
      "cell_type": "code",
      "metadata": {
        "id": "RRWJ7Zt1_PlV"
      },
      "source": [
        "#kernels = ['linear', 'poly', 'rbf', 'sigmoid']\n",
        "kernels = ['linear']\n",
        "#Cs = [1, 1.25, 1.5, 2, 0.75, 0.5, 0.25, 0.1, 0.01]\n",
        "#Cs = [2, 2.5, 3, 3.5]\n",
        "#Cs = [3.5, 4, 5, 10, 15, 20]\n",
        "Cs = [20, 40, 60, 100, 140, 200]\n",
        "#Cs = [200, 1000, 5000 ,10000]\n",
        "coef0s = [0, 0.01, 0.005, 0.1, 0.2, 0.5, 1]\n",
        "#tols = [0.01, 0.005, 0.001, 0.0001, 0.00001]\n",
        "#tols = [0.002, 0.0015, 0.001, 0.00095, 0.0009]\n",
        "tols = [0.002, 0.00175, 0.0015, 0.00125, 0.001]\n",
        "#tols = [0.001]\n",
        "#epsilons = [0.001, 0.005, 0.1, 0.2, 0.5]\n",
        "#epsilons = [0.002, 0.0015, 0.001, 0.00095, 0.0009]\n",
        "epsilons = [0.0009, 0.0008, 0.0007, 0.0001, 0.00001]\n",
        "#epsilons = [0.0001]\n",
        "\n",
        "best_kernel = ''\n",
        "best_params = []\n",
        "best_test_MSE = 7860771631\n",
        "best_test_RMSE = 0\n",
        "for k in kernels:\n",
        "  for big_c in Cs:\n",
        "    for t in tols:\n",
        "      for e in epsilons:\n",
        "        if k == 'poly' or k == 'sigmoid':\n",
        "          for co in coef0s:\n",
        "            svr = SVR(kernel = k, C = big_c, tol = t, epsilon = e, coef0 = co)\n",
        "            svr.fit(Xstandardized, y_train)\n",
        "            svr_y_train_predict = svr.predict(Xstandardized)\n",
        "\n",
        "            #MSE train\n",
        "            from sklearn.metrics import mean_squared_error\n",
        "            svr_train_MSE = mean_squared_error(y_train, svr_y_train_predict)\n",
        "            #MSE Test\n",
        "            svr_y_test_predict = svr.predict(test_Xstandardized)\n",
        "            svr_test_MSE = mean_squared_error(y_test, svr_y_test_predict)\n",
        "            print(\"Kernel: \", k, \"Tollerance: \", t, \"C:\", big_c, \"Epsilon: \", e, \"Coef0\", co, 'Train MSE: ', svr_train_MSE, 'Test MSE: ', svr_test_MSE)\n",
        "            if svr_test_MSE < best_test_MSE:\n",
        "              best_test_MSE = svr_test_MSE\n",
        "              best_params = [big_c, t, e, co]\n",
        "              best_kernel = k\n",
        "        else:\n",
        "          svr = SVR(kernel = k, C = big_c, tol = t, epsilon = e)\n",
        "          svr.fit(Xstandardized, y_train)\n",
        "          svr_y_train_predict = svr.predict(Xstandardized)\n",
        "\n",
        "          #MSE train\n",
        "          from sklearn.metrics import mean_squared_error\n",
        "          svr_train_MSE = mean_squared_error(y_train, svr_y_train_predict)\n",
        "          #MSE Test\n",
        "          svr_y_test_predict = svr.predict(test_Xstandardized)\n",
        "          svr_test_MSE = mean_squared_error(y_test, svr_y_test_predict)\n",
        "          svr_test_RMSE = mean_squared_error(y_test, svr_y_test_predict, squared=False)\n",
        "          print(\"Kernel: \", k, \"Tollerance: \", t, \"C:\", big_c, \"Epsilon: \", e, 'Train MSE: ', svr_train_MSE, 'Test MSE: ', svr_test_MSE)\n",
        "          if svr_test_MSE < best_test_MSE:\n",
        "              best_test_MSE = svr_test_MSE\n",
        "              best_params = [big_c, t, e]\n",
        "              best_kernel = k\n",
        "              best_test_RMSE = svr_test_RMSE\n",
        "# first batch best params = [2, 0.005, 0.001]\n",
        "# second batch [3.5, 0.0015, 0.0009], mse 3401946370.8068585\n",
        "# third batch [20, 0.001, 1e-05],     mse 1166076823.5728486\n",
        "# fourth batch [200, 0.001, 1e-05]    mse 159648068.97768006\n",
        "# Correct batch [200, 0.0015, 0.0009]"
      ],
      "execution_count": null,
      "outputs": []
    },
    {
      "cell_type": "code",
      "metadata": {
        "colab": {
          "base_uri": "https://localhost:8080/"
        },
        "id": "K5WF3sOOHRXv",
        "outputId": "032f3fb4-4610-4afe-b552-6f65aed93853"
      },
      "source": [
        "print(best_params)\n",
        "print(best_test_MSE)"
      ],
      "execution_count": 21,
      "outputs": [
        {
          "output_type": "stream",
          "text": [
            "[200, 0.0015, 0.0009]\n",
            "1019789438.5888727\n"
          ],
          "name": "stdout"
        }
      ]
    },
    {
      "cell_type": "code",
      "metadata": {
        "colab": {
          "base_uri": "https://localhost:8080/"
        },
        "id": "5U56unM_fcoy",
        "outputId": "faf2a896-dd86-4715-e688-4b300c4723eb"
      },
      "source": [
        "params_svr1 = {\n",
        "    'kernel': ['linear', 'poly', 'rbf', 'sigmoid'],\n",
        "    'C': [3.5, 4, 5, 10, 15, 20], \n",
        "    'epsilon': [0.0009, 0.0008, 0.0007, 0.0001, 0.00001],\n",
        "    'tol': [0.002, 0.00175, 0.0015, 0.00125, 0.001]\n",
        "}\n",
        "\n",
        "from sklearn.model_selection import GridSearchCV\n",
        "\n",
        "grid_svr1 = GridSearchCV(svr_rbf, params_svr1, n_jobs=-1)\n",
        "grid_svr1.fit(Xstandardized, y_train)\n",
        "\n",
        "print('Best parameters found:', grid_svr1.best_params_)"
      ],
      "execution_count": 63,
      "outputs": [
        {
          "output_type": "stream",
          "text": [
            "Best parameters found: {'C': 20, 'epsilon': 0.0009, 'kernel': 'linear', 'tol': 0.00175}\n"
          ],
          "name": "stdout"
        }
      ]
    },
    {
      "cell_type": "code",
      "metadata": {
        "id": "gjSGcGIryf9L"
      },
      "source": [
        "grid_svr1_scores = grid_svr1.cv_results_"
      ],
      "execution_count": 71,
      "outputs": []
    },
    {
      "cell_type": "code",
      "metadata": {
        "colab": {
          "base_uri": "https://localhost:8080/"
        },
        "id": "6j7_BtdmjSEk",
        "outputId": "3360d6e2-e740-42d1-a8ba-e506a731052d"
      },
      "source": [
        "params_svr2 = {\n",
        "    'kernel': ['linear', 'poly', 'rbf', 'sigmoid'],\n",
        "    'C': [20, 40, 60, 100, 140, 200], \n",
        "    'epsilon': [0.1, 0.01, 0.005, 0.0025, 0.001, 0.0009],\n",
        "    'tol': [0.002, 0.00185, 0.00175, 0.00165, 0.0015]\n",
        "}\n",
        "\n",
        "grid_svr2 = GridSearchCV(svr_rbf, params_svr2, n_jobs=-1)\n",
        "grid_svr2.fit(Xstandardized, y_train)\n",
        "\n",
        "print('Best parameters found:', grid_svr2.best_params_)"
      ],
      "execution_count": 18,
      "outputs": [
        {
          "output_type": "stream",
          "text": [
            "Best parameters found: {'C': 100, 'epsilon': 0.001, 'kernel': 'linear', 'tol': 0.0015}\n"
          ],
          "name": "stdout"
        }
      ]
    },
    {
      "cell_type": "markdown",
      "metadata": {
        "id": "nE7xAdCceKR1"
      },
      "source": [
        "Running a model with the tuned parameters"
      ]
    },
    {
      "cell_type": "code",
      "metadata": {
        "colab": {
          "base_uri": "https://localhost:8080/"
        },
        "id": "CGmEFtSxjxAh",
        "outputId": "ce115333-6f58-4685-bd9a-ff4a19b054ed"
      },
      "source": [
        "svr_best = SVR(kernel = 'linear', C = 100, tol = 0.0015, epsilon = 0.001)\n",
        "svr_best.fit(Xstandardized, y_train)\n",
        "svr_best_y_train_predict = svr_best.predict(Xstandardized)\n",
        "\n",
        "#MSE train\n",
        "\n",
        "svr_best_train_MSE = mean_squared_error(y_train, svr_best_y_train_predict)\n",
        "print('Best train MSE', svr_best_train_MSE)\n",
        "print('Best train RMSE', mean_squared_error(y_train, svr_best_y_train_predict, squared = False))\n",
        "#MSE Test\n",
        "svr_best_y_test_predict = svr_best.predict(test_Xstandardized)\n",
        "svr_best_test_MSE = mean_squared_error(y_test, svr_best_y_test_predict)\n",
        "print('Best test MSE', svr_best_test_MSE)\n",
        "print('Best test RMSE', mean_squared_error(y_test, svr_best_y_test_predict, squared = False))"
      ],
      "execution_count": 17,
      "outputs": [
        {
          "output_type": "stream",
          "text": [
            "Best train MSE 812262761.2122934\n",
            "Best train RMSE 28500.22388003809\n",
            "Best test MSE 1087655306.7424948\n",
            "Best test RMSE 32979.61956637\n"
          ],
          "name": "stdout"
        }
      ]
    },
    {
      "cell_type": "markdown",
      "metadata": {
        "id": "JDRD4kTKJsYj"
      },
      "source": [
        "# Random forests"
      ]
    },
    {
      "cell_type": "markdown",
      "metadata": {
        "id": "qYKaAoz_eP-I"
      },
      "source": [
        "Running an initial model"
      ]
    },
    {
      "cell_type": "code",
      "metadata": {
        "colab": {
          "base_uri": "https://localhost:8080/"
        },
        "id": "8BiNtVzAJyRB",
        "outputId": "dabd648d-a4a0-4e89-b461-ff2767741268"
      },
      "source": [
        "from sklearn.ensemble import RandomForestRegressor\n",
        "\n",
        "rf_basic = RandomForestRegressor()\n",
        "rf_basic.fit(Xstandardized, y_train)\n",
        "rf_basic_y_train_predict = rf_basic.predict(Xstandardized)\n",
        "\n",
        "#MSE train\n",
        "\n",
        "rf_basic_train_MSE = mean_squared_error(y_train, rf_basic_y_train_predict)\n",
        "print('train MSE', rf_basic_train_MSE)\n",
        "print('train RMSE', mean_squared_error(y_train, rf_basic_y_train_predict, squared = False))\n",
        "#MSE Test\n",
        "rf_basic_y_test_predict = rf_basic.predict(test_Xstandardized)\n",
        "rf_basic_test_MSE = mean_squared_error(y_test, rf_basic_y_test_predict)\n",
        "print('test MSE', rf_basic_test_MSE)\n",
        "print('test RMSE', mean_squared_error(y_test, rf_basic_y_test_predict, squared = False))"
      ],
      "execution_count": 18,
      "outputs": [
        {
          "output_type": "stream",
          "text": [
            "train MSE 126798365.39735188\n",
            "train RMSE 11260.478027035613\n",
            "test MSE 845414881.8236113\n",
            "test RMSE 29076.019016082846\n"
          ],
          "name": "stdout"
        }
      ]
    },
    {
      "cell_type": "markdown",
      "metadata": {
        "id": "P35w1jY7eVE6"
      },
      "source": [
        "Tuning parameters"
      ]
    },
    {
      "cell_type": "code",
      "metadata": {
        "colab": {
          "base_uri": "https://localhost:8080/"
        },
        "id": "1FmKNIbKNa0l",
        "outputId": "827e54d9-ddfc-4bb9-e65d-b0c3ed129504"
      },
      "source": [
        "n_estimators = [30, 50, 75, 100, 125, 150]\n",
        "max_depth = [5, 4, 3]\n",
        "min_samples_split = [2, 3, 4, 10, 100]\n",
        "\n",
        "rf_params = []\n",
        "rf_mse = 84243219000\n",
        "\n",
        "for n in n_estimators:\n",
        "  for d in max_depth:\n",
        "    for a in min_samples_split:\n",
        "      rf = RandomForestRegressor(n_estimators = n, max_depth=d, min_samples_split=a)\n",
        "      rf.fit(Xstandardized, y_train)\n",
        "      rf_y_train_predict = rf.predict(Xstandardized)\n",
        "      #MSE train\n",
        "      from sklearn.metrics import mean_squared_error\n",
        "      rf_train_MSE = mean_squared_error(y_train, rf_y_train_predict)\n",
        "      #MSE Test\n",
        "      rf_y_test_predict = rf.predict(test_Xstandardized)\n",
        "      rf_test_MSE = mean_squared_error(y_test, rf_y_test_predict)\n",
        "      print('n_estimators =', n, 'max_depth = ', d, 'min_samples_split=', a, 'train MSE', rf_train_MSE, 'test MSE', rf_test_MSE)\n",
        "      if rf_test_MSE < rf_mse:\n",
        "        rf_params = [n, d, a]\n",
        "        rf_mse = rf_test_MSE\n",
        "\n",
        "# first run params [50, 5, 3] error = 81196663.46111205"
      ],
      "execution_count": 26,
      "outputs": [
        {
          "output_type": "stream",
          "text": [
            "n_estimators = 30 max_depth =  5 min_samples_split= 2 train MSE 587894434.4654243 test MSE 1070385079.3573884\n",
            "n_estimators = 30 max_depth =  5 min_samples_split= 3 train MSE 586274706.11494 test MSE 981323299.82976\n",
            "n_estimators = 30 max_depth =  5 min_samples_split= 4 train MSE 558807340.8475844 test MSE 1156502939.4046757\n",
            "n_estimators = 30 max_depth =  5 min_samples_split= 10 train MSE 579126577.6152018 test MSE 1072818106.6030589\n",
            "n_estimators = 30 max_depth =  5 min_samples_split= 100 train MSE 1044938071.2274488 test MSE 1500631621.7959933\n",
            "n_estimators = 30 max_depth =  4 min_samples_split= 2 train MSE 819109639.6766194 test MSE 1202099908.6941557\n",
            "n_estimators = 30 max_depth =  4 min_samples_split= 3 train MSE 805306919.3541858 test MSE 1295353368.5172923\n",
            "n_estimators = 30 max_depth =  4 min_samples_split= 4 train MSE 819642508.0050054 test MSE 1252217252.666252\n",
            "n_estimators = 30 max_depth =  4 min_samples_split= 10 train MSE 817143398.3140666 test MSE 1223786278.7024665\n",
            "n_estimators = 30 max_depth =  4 min_samples_split= 100 train MSE 1234660396.97794 test MSE 1693748018.9908798\n",
            "n_estimators = 30 max_depth =  3 min_samples_split= 2 train MSE 1264654222.151369 test MSE 1632358056.988016\n",
            "n_estimators = 30 max_depth =  3 min_samples_split= 3 train MSE 1207816058.7638931 test MSE 1553021725.4802656\n",
            "n_estimators = 30 max_depth =  3 min_samples_split= 4 train MSE 1184428939.4992917 test MSE 1590637259.7711496\n",
            "n_estimators = 30 max_depth =  3 min_samples_split= 10 train MSE 1200380898.971849 test MSE 1581269760.7581294\n",
            "n_estimators = 30 max_depth =  3 min_samples_split= 100 train MSE 1393700199.4033363 test MSE 1878781100.268257\n",
            "n_estimators = 50 max_depth =  5 min_samples_split= 2 train MSE 552806448.9416604 test MSE 1016774330.0449114\n",
            "n_estimators = 50 max_depth =  5 min_samples_split= 3 train MSE 535773745.47995895 test MSE 1099885674.5252807\n",
            "n_estimators = 50 max_depth =  5 min_samples_split= 4 train MSE 555272538.0963649 test MSE 1080061230.327811\n",
            "n_estimators = 50 max_depth =  5 min_samples_split= 10 train MSE 580928158.7528232 test MSE 1118292049.1045084\n",
            "n_estimators = 50 max_depth =  5 min_samples_split= 100 train MSE 1117410081.6446965 test MSE 1592460625.7686777\n",
            "n_estimators = 50 max_depth =  4 min_samples_split= 2 train MSE 819141406.7646785 test MSE 1261273811.2728517\n",
            "n_estimators = 50 max_depth =  4 min_samples_split= 3 train MSE 794922276.3707422 test MSE 1300703466.0454197\n",
            "n_estimators = 50 max_depth =  4 min_samples_split= 4 train MSE 819039449.4871138 test MSE 1236902196.2686234\n",
            "n_estimators = 50 max_depth =  4 min_samples_split= 10 train MSE 810019540.8569181 test MSE 1299325609.0027475\n",
            "n_estimators = 50 max_depth =  4 min_samples_split= 100 train MSE 1204715329.492034 test MSE 1681189355.660725\n",
            "n_estimators = 50 max_depth =  3 min_samples_split= 2 train MSE 1199217309.6691706 test MSE 1573007517.146521\n",
            "n_estimators = 50 max_depth =  3 min_samples_split= 3 train MSE 1204567753.715646 test MSE 1579453543.1052911\n",
            "n_estimators = 50 max_depth =  3 min_samples_split= 4 train MSE 1218716830.6526942 test MSE 1538251443.345007\n",
            "n_estimators = 50 max_depth =  3 min_samples_split= 10 train MSE 1203406123.4008949 test MSE 1536446927.7571516\n",
            "n_estimators = 50 max_depth =  3 min_samples_split= 100 train MSE 1395538109.2508626 test MSE 1885810420.8597806\n",
            "n_estimators = 75 max_depth =  5 min_samples_split= 2 train MSE 552811645.0617536 test MSE 1039975512.3759011\n",
            "n_estimators = 75 max_depth =  5 min_samples_split= 3 train MSE 550282673.0519024 test MSE 1046628232.0572438\n",
            "n_estimators = 75 max_depth =  5 min_samples_split= 4 train MSE 565892304.3888738 test MSE 1070285053.6127436\n",
            "n_estimators = 75 max_depth =  5 min_samples_split= 10 train MSE 574678629.0292771 test MSE 1096132135.9758868\n",
            "n_estimators = 75 max_depth =  5 min_samples_split= 100 train MSE 1115266602.0615435 test MSE 1601463098.9581459\n",
            "n_estimators = 75 max_depth =  4 min_samples_split= 2 train MSE 818797919.7888397 test MSE 1284901947.2469826\n",
            "n_estimators = 75 max_depth =  4 min_samples_split= 3 train MSE 792393435.6664739 test MSE 1208073175.0675492\n",
            "n_estimators = 75 max_depth =  4 min_samples_split= 4 train MSE 801901511.3775735 test MSE 1236190532.7233307\n",
            "n_estimators = 75 max_depth =  4 min_samples_split= 10 train MSE 830135035.5639051 test MSE 1283061097.8841374\n",
            "n_estimators = 75 max_depth =  4 min_samples_split= 100 train MSE 1210861950.6857033 test MSE 1740338202.2513053\n",
            "n_estimators = 75 max_depth =  3 min_samples_split= 2 train MSE 1201006440.776586 test MSE 1562454827.480738\n",
            "n_estimators = 75 max_depth =  3 min_samples_split= 3 train MSE 1196192313.645178 test MSE 1590173323.7347374\n",
            "n_estimators = 75 max_depth =  3 min_samples_split= 4 train MSE 1200998718.8581195 test MSE 1577107879.1855695\n",
            "n_estimators = 75 max_depth =  3 min_samples_split= 10 train MSE 1204665299.1610744 test MSE 1582670421.16829\n",
            "n_estimators = 75 max_depth =  3 min_samples_split= 100 train MSE 1383502416.8582199 test MSE 1821433840.75913\n",
            "n_estimators = 100 max_depth =  5 min_samples_split= 2 train MSE 533398611.17111737 test MSE 1048980657.5741214\n",
            "n_estimators = 100 max_depth =  5 min_samples_split= 3 train MSE 555100119.4226693 test MSE 1010648867.2715654\n",
            "n_estimators = 100 max_depth =  5 min_samples_split= 4 train MSE 560125013.2601278 test MSE 1085683252.7943077\n",
            "n_estimators = 100 max_depth =  5 min_samples_split= 10 train MSE 561452715.4508561 test MSE 1067224642.8988162\n",
            "n_estimators = 100 max_depth =  5 min_samples_split= 100 train MSE 1102953610.215711 test MSE 1558575472.3624012\n",
            "n_estimators = 100 max_depth =  4 min_samples_split= 2 train MSE 796485644.3661685 test MSE 1257240141.0580118\n",
            "n_estimators = 100 max_depth =  4 min_samples_split= 3 train MSE 807643556.8365339 test MSE 1233466392.9234135\n",
            "n_estimators = 100 max_depth =  4 min_samples_split= 4 train MSE 795579140.0898987 test MSE 1241380051.6503966\n",
            "n_estimators = 100 max_depth =  4 min_samples_split= 10 train MSE 800293539.7626787 test MSE 1261732232.4357586\n",
            "n_estimators = 100 max_depth =  4 min_samples_split= 100 train MSE 1167822184.4124196 test MSE 1630523369.9106195\n",
            "n_estimators = 100 max_depth =  3 min_samples_split= 2 train MSE 1193234253.8767996 test MSE 1554463234.9037747\n",
            "n_estimators = 100 max_depth =  3 min_samples_split= 3 train MSE 1189500587.981643 test MSE 1581793096.6066334\n",
            "n_estimators = 100 max_depth =  3 min_samples_split= 4 train MSE 1190208452.481872 test MSE 1569207193.7027328\n",
            "n_estimators = 100 max_depth =  3 min_samples_split= 10 train MSE 1211080859.5330386 test MSE 1581606215.6635382\n",
            "n_estimators = 100 max_depth =  3 min_samples_split= 100 train MSE 1360164158.7346997 test MSE 1799711547.0043662\n",
            "n_estimators = 125 max_depth =  5 min_samples_split= 2 train MSE 539227015.4359177 test MSE 1035283678.0108563\n",
            "n_estimators = 125 max_depth =  5 min_samples_split= 3 train MSE 544131640.5755392 test MSE 1020669875.9971013\n",
            "n_estimators = 125 max_depth =  5 min_samples_split= 4 train MSE 567201524.752633 test MSE 1082706644.428192\n",
            "n_estimators = 125 max_depth =  5 min_samples_split= 10 train MSE 571591399.7310704 test MSE 1081872534.61226\n",
            "n_estimators = 125 max_depth =  5 min_samples_split= 100 train MSE 1104044495.5026257 test MSE 1559999016.3483515\n",
            "n_estimators = 125 max_depth =  4 min_samples_split= 2 train MSE 790496288.8535001 test MSE 1248217974.8735034\n",
            "n_estimators = 125 max_depth =  4 min_samples_split= 3 train MSE 794143081.8108311 test MSE 1235832961.6175458\n",
            "n_estimators = 125 max_depth =  4 min_samples_split= 4 train MSE 794739138.6017905 test MSE 1254812048.5166655\n",
            "n_estimators = 125 max_depth =  4 min_samples_split= 10 train MSE 798705443.4101518 test MSE 1235953258.3040855\n",
            "n_estimators = 125 max_depth =  4 min_samples_split= 100 train MSE 1177845368.3513727 test MSE 1656043184.691614\n",
            "n_estimators = 125 max_depth =  3 min_samples_split= 2 train MSE 1171798638.424192 test MSE 1542486657.5881271\n",
            "n_estimators = 125 max_depth =  3 min_samples_split= 3 train MSE 1192445472.7934046 test MSE 1587027828.8205733\n",
            "n_estimators = 125 max_depth =  3 min_samples_split= 4 train MSE 1201180992.975166 test MSE 1531062778.6682422\n",
            "n_estimators = 125 max_depth =  3 min_samples_split= 10 train MSE 1191595073.3306801 test MSE 1582512889.218496\n",
            "n_estimators = 125 max_depth =  3 min_samples_split= 100 train MSE 1351946313.2682934 test MSE 1810130663.9840286\n",
            "n_estimators = 150 max_depth =  5 min_samples_split= 2 train MSE 551279719.7935146 test MSE 1075960061.6575356\n",
            "n_estimators = 150 max_depth =  5 min_samples_split= 3 train MSE 541275226.6972654 test MSE 1056599464.9446353\n",
            "n_estimators = 150 max_depth =  5 min_samples_split= 4 train MSE 559648227.5346456 test MSE 1065194491.2572418\n",
            "n_estimators = 150 max_depth =  5 min_samples_split= 10 train MSE 569126438.7048709 test MSE 1065407698.0112216\n",
            "n_estimators = 150 max_depth =  5 min_samples_split= 100 train MSE 1114682249.343557 test MSE 1599894345.7792466\n",
            "n_estimators = 150 max_depth =  4 min_samples_split= 2 train MSE 799327942.6422414 test MSE 1221021095.4358006\n",
            "n_estimators = 150 max_depth =  4 min_samples_split= 3 train MSE 802948452.0506272 test MSE 1286275912.1892657\n",
            "n_estimators = 150 max_depth =  4 min_samples_split= 4 train MSE 799162970.387164 test MSE 1222879783.9841793\n",
            "n_estimators = 150 max_depth =  4 min_samples_split= 10 train MSE 809262156.7236797 test MSE 1278137612.7326431\n",
            "n_estimators = 150 max_depth =  4 min_samples_split= 100 train MSE 1152620119.2338476 test MSE 1612735274.0291376\n",
            "n_estimators = 150 max_depth =  3 min_samples_split= 2 train MSE 1204885798.747763 test MSE 1570114807.718338\n",
            "n_estimators = 150 max_depth =  3 min_samples_split= 3 train MSE 1202602835.0932407 test MSE 1596054695.5492315\n",
            "n_estimators = 150 max_depth =  3 min_samples_split= 4 train MSE 1173881596.2717357 test MSE 1585507396.5368626\n",
            "n_estimators = 150 max_depth =  3 min_samples_split= 10 train MSE 1195498501.012267 test MSE 1550050539.1673212\n",
            "n_estimators = 150 max_depth =  3 min_samples_split= 100 train MSE 1357257815.7136385 test MSE 1796947755.031796\n"
          ],
          "name": "stdout"
        }
      ]
    },
    {
      "cell_type": "code",
      "metadata": {
        "colab": {
          "base_uri": "https://localhost:8080/"
        },
        "id": "P2TuZnc6RoUW",
        "outputId": "b1d017e6-c098-4b65-9948-b103ed4f0249"
      },
      "source": [
        "print(rf_params)\n",
        "print(rf_mse)"
      ],
      "execution_count": 27,
      "outputs": [
        {
          "output_type": "stream",
          "text": [
            "[30, 5, 3]\n",
            "981323299.82976\n"
          ],
          "name": "stdout"
        }
      ]
    },
    {
      "cell_type": "code",
      "metadata": {
        "colab": {
          "base_uri": "https://localhost:8080/"
        },
        "id": "BB8wP82sDOyv",
        "outputId": "e998ea90-1eb0-4f8e-8f57-53963743fa7a"
      },
      "source": [
        "params_rf = {\n",
        "    'n_estimators': [50, 75, 100, 125, 150],\n",
        "    'bootstrap': [True, False]\n",
        "    'max_depth': [4, 5, 6, 10, 7, 8],\n",
        "    'min_samples_split': [3, 4, 5], # [2, 3, 4, 10, 100],\n",
        "}\n",
        "\n",
        "grid_rf = GridSearchCV(rf_basic, params_rf, n_jobs=-1)\n",
        "grid_rf.fit(Xstandardized, y_train)\n",
        "\n",
        "print('Best parameters found:', grid_rf.best_params_)"
      ],
      "execution_count": 23,
      "outputs": [
        {
          "output_type": "stream",
          "text": [
            "Best parameters found: {'bootstrap': True, 'max_depth': 10, 'min_samples_split': 5, 'n_estimators': 75}\n"
          ],
          "name": "stdout"
        }
      ]
    },
    {
      "cell_type": "code",
      "metadata": {
        "id": "sHsJqPZ-G9Fp"
      },
      "source": [
        "'''Best parameters found: {'bootstrap': True, 'max_depth': 10, 'min_samples_split': 5, 'n_estimators': 75}'''\n",
        "'''Best parameters found: {'bootstrap': True, 'max_depth': 6, 'min_samples_split': 3, 'n_estimators': 20}'''\n",
        "'''Best parameters found: {'bootstrap': True, 'max_depth': 5, 'min_samples_split': 4, 'n_estimators': 30}'''"
      ],
      "execution_count": null,
      "outputs": []
    },
    {
      "cell_type": "markdown",
      "metadata": {
        "id": "2Vv-6oHdecP8"
      },
      "source": [
        "Running a model with the tuned parameters"
      ]
    },
    {
      "cell_type": "code",
      "metadata": {
        "colab": {
          "base_uri": "https://localhost:8080/"
        },
        "id": "IPGQAr6XHA91",
        "outputId": "77705cf2-1ed0-488f-ad4d-463a0dedfdc2"
      },
      "source": [
        "rf_best = RandomForestRegressor(n_estimators = 75, max_depth = 10, bootstrap = True, min_samples_split = 5)\n",
        "rf_best.fit(Xstandardized, y_train)\n",
        "rf_best_y_train_predict = rf_best.predict(Xstandardized)\n",
        "\n",
        "#MSE train\n",
        "rf_best_train_MSE = mean_squared_error(y_train, rf_best_y_train_predict)\n",
        "print('Best train MSE', rf_best_train_MSE)\n",
        "print('train RMSE', mean_squared_error(y_train, rf_best_y_train_predict, squared = False))\n",
        "#MSE Test\n",
        "rf_best_y_test_predict = rf_best.predict(test_Xstandardized)\n",
        "rf_best_test_MSE = mean_squared_error(y_test, rf_best_y_test_predict)\n",
        "print('Best test MSE', rf_best_test_MSE)\n",
        "print('Best test RMSE', mean_squared_error(y_test, rf_best_y_test_predict, squared = False))"
      ],
      "execution_count": 19,
      "outputs": [
        {
          "output_type": "stream",
          "text": [
            "Best train MSE 185191050.11460105\n",
            "train RMSE 13608.49183835597\n",
            "Best test MSE 854002291.8107531\n",
            "Best test RMSE 29223.31760445335\n"
          ],
          "name": "stdout"
        }
      ]
    },
    {
      "cell_type": "markdown",
      "metadata": {
        "id": "ySMdbqKVJyyE"
      },
      "source": [
        "# Neural Net Regression"
      ]
    },
    {
      "cell_type": "markdown",
      "metadata": {
        "id": "Xf17fSgVepV0"
      },
      "source": [
        "Running an initial model"
      ]
    },
    {
      "cell_type": "code",
      "metadata": {
        "colab": {
          "base_uri": "https://localhost:8080/"
        },
        "id": "bQ8di8cWYno6",
        "outputId": "195c3655-28a2-4c00-b296-c70c819e6b74"
      },
      "source": [
        "from sklearn.neural_network import MLPRegressor\n",
        "\n",
        "\n",
        "mlp_basic = MLPRegressor(learning_rate='adaptive', learning_rate_init=0.001)\n",
        "mlp_basic.fit(Xstandardized, y_train)\n",
        "mlp_basic_y_train_predict = mlp_basic.predict(Xstandardized)\n",
        "\n",
        "#MSE train\n",
        "mlp_basic_train_MSE = mean_squared_error(y_train, mlp_basic_y_train_predict)\n",
        "print('train MSE', mlp_basic_train_MSE)\n",
        "print('train RMSE', mean_squared_error(y_train, mlp_basic_y_train_predict, squared = False))\n",
        "#MSE Test\n",
        "mlp_basic_y_test_predict = mlp_basic.predict(test_Xstandardized)\n",
        "mlp_basic_test_MSE = mean_squared_error(y_test, mlp_basic_y_test_predict)\n",
        "print('test MSE', mlp_basic_test_MSE)\n",
        "print('test RMSE', mean_squared_error(y_test, mlp_basic_y_test_predict, squared = False))"
      ],
      "execution_count": 20,
      "outputs": [
        {
          "output_type": "stream",
          "text": [
            "train MSE 36851026752.584\n",
            "train RMSE 191966.2125286218\n",
            "test MSE 37588818835.52033\n",
            "test RMSE 193878.3609264333\n"
          ],
          "name": "stdout"
        },
        {
          "output_type": "stream",
          "text": [
            "/usr/local/lib/python3.7/dist-packages/sklearn/neural_network/_multilayer_perceptron.py:571: ConvergenceWarning: Stochastic Optimizer: Maximum iterations (200) reached and the optimization hasn't converged yet.\n",
            "  % self.max_iter, ConvergenceWarning)\n"
          ],
          "name": "stderr"
        }
      ]
    },
    {
      "cell_type": "code",
      "metadata": {
        "colab": {
          "base_uri": "https://localhost:8080/"
        },
        "id": "vdIpCXt5WbOA",
        "outputId": "aa666984-39f1-4070-ae69-94e912839a67"
      },
      "source": [
        "print(Xstandardized.isnull().values.any())"
      ],
      "execution_count": 9,
      "outputs": [
        {
          "output_type": "stream",
          "text": [
            "False\n"
          ],
          "name": "stdout"
        }
      ]
    },
    {
      "cell_type": "code",
      "metadata": {
        "colab": {
          "base_uri": "https://localhost:8080/"
        },
        "id": "rHLtFkfqW0QV",
        "outputId": "870c543c-f8ac-4751-bbbc-30627bfc477f"
      },
      "source": [
        "print(y_train.isnull().values.any())"
      ],
      "execution_count": 10,
      "outputs": [
        {
          "output_type": "stream",
          "text": [
            "False\n"
          ],
          "name": "stdout"
        }
      ]
    },
    {
      "cell_type": "markdown",
      "metadata": {
        "id": "Vz5f7Kkzer0g"
      },
      "source": [
        "Tuning parameters"
      ]
    },
    {
      "cell_type": "code",
      "metadata": {
        "colab": {
          "base_uri": "https://localhost:8080/"
        },
        "id": "yLacg_I6YnO4",
        "outputId": "7559daa1-7357-4c9d-9fb0-f60ca2fd25e2"
      },
      "source": [
        "params_mlp = {\n",
        "    'hidden_layer_sizes': [(50,50,50), (50,100,50), (100,)],\n",
        "    'activation': ['identity', 'logistic', 'tanh', 'relu'],\n",
        "    'solver': ['adam'], #['sgd', 'adam'], - sgd throws errors / maybe mention in the repport - lbfgs didnot converge\n",
        "    'alpha': [0.0001, 0.001, 0.01],\n",
        "    'learning_rate': ['invscaling', 'constant','adaptive'],\n",
        "    'learning_rate_init': [0.001, 0.005, 0.01]\n",
        "}\n",
        "\n",
        "\n",
        "grid_mlp = GridSearchCV(mlp_basic, params_mlp, n_jobs=-1)\n",
        "grid_mlp.fit(Xstandardized, y_train)\n",
        "\n",
        "print('Best parameters found:', grid_mlp.best_params_)"
      ],
      "execution_count": 26,
      "outputs": [
        {
          "output_type": "stream",
          "text": [
            "Best parameters found: {'activation': 'relu', 'alpha': 0.001, 'hidden_layer_sizes': (50, 100, 50), 'learning_rate': 'invscaling', 'learning_rate_init': 0.01, 'solver': 'adam'}\n"
          ],
          "name": "stdout"
        },
        {
          "output_type": "stream",
          "text": [
            "/usr/local/lib/python3.7/dist-packages/sklearn/neural_network/_multilayer_perceptron.py:571: ConvergenceWarning: Stochastic Optimizer: Maximum iterations (200) reached and the optimization hasn't converged yet.\n",
            "  % self.max_iter, ConvergenceWarning)\n"
          ],
          "name": "stderr"
        }
      ]
    },
    {
      "cell_type": "code",
      "metadata": {
        "id": "wLZIgMsv2HEx"
      },
      "source": [
        "'''Best parameters found: {'activation': 'relu', 'alpha': 0.001, 'hidden_layer_sizes': (50, 100, 50), 'learning_rate': 'invscaling', 'learning_rate_init': 0.01, 'solver': 'adam'}\n",
        "\n",
        "/usr/local/lib/python3.7/dist-packages/sklearn/neural_network/_multilayer_perceptron.py:571: ConvergenceWarning: Stochastic Optimizer: Maximum iterations (200) reached and the optimization hasn't converged yet.\n",
        "  % self.max_iter, ConvergenceWarning)\n",
        "'''\n",
        "\n",
        "'''Best parameters found: {'activation': 'relu', 'alpha': 0.001, 'hidden_layer_sizes': (50, 100, 50), 'learning_rate': 'adaptive', 'learning_rate_init': 0.01, 'solver': 'adam'}\n",
        "\n",
        "/usr/local/lib/python3.7/dist-packages/sklearn/neural_network/_multilayer_perceptron.py:571: ConvergenceWarning: Stochastic Optimizer: Maximum iterations (200) reached and the optimization hasn't converged yet.\n",
        "  % self.max_iter, ConvergenceWarning)\n",
        "'''\n",
        "\n",
        "'''Best parameters found: {'activation': 'relu', 'alpha': 0.0001, 'hidden_layer_sizes': (50, 100, 50), 'learning_rate': 'constant', 'learning_rate_init': 0.01, 'solver': 'adam'}\n",
        "\n",
        "/usr/local/lib/python3.7/dist-packages/sklearn/neural_network/_multilayer_perceptron.py:571: ConvergenceWarning: Stochastic Optimizer: Maximum iterations (200) reached and the optimization hasn't converged yet.\n",
        "  % self.max_iter, ConvergenceWarning)'''\n",
        "\n",
        "\n",
        "\n",
        "'''Best parameters found: {'activation': 'identity', 'alpha': 0.0001, 'hidden_layer_sizes': (20, 20, 20), 'learning_rate': 'invscaling', 'learning_rate_init': 0.01, 'solver': 'lbfgs'}\n",
        "\n",
        "/usr/local/lib/python3.7/dist-packages/sklearn/neural_network/_multilayer_perceptron.py:470: ConvergenceWarning: lbfgs failed to converge (status=1):\n",
        "STOP: TOTAL NO. of ITERATIONS REACHED LIMIT.'''"
      ],
      "execution_count": null,
      "outputs": []
    },
    {
      "cell_type": "markdown",
      "metadata": {
        "id": "vSeVAaJxevYT"
      },
      "source": [
        "Running a model with the tuned parameters"
      ]
    },
    {
      "cell_type": "code",
      "metadata": {
        "colab": {
          "base_uri": "https://localhost:8080/"
        },
        "id": "gFmP8OQpY19A",
        "outputId": "5744c250-0e57-430e-e8c4-c92ed411f8a8"
      },
      "source": [
        "mlp_best = MLPRegressor(learning_rate='invscaling', learning_rate_init=0.01, solver = 'adam', hidden_layer_sizes = (50, 100, 50), alpha = 0.001, activation='relu')\n",
        "mlp_best.fit(Xstandardized, y_train)\n",
        "mlp_best_y_train_predict = mlp_best.predict(Xstandardized)\n",
        "\n",
        "#MSE train\n",
        "mlp_best_train_MSE = mean_squared_error(y_train, mlp_best_y_train_predict)\n",
        "print('Best train MSE', mlp_best_train_MSE)\n",
        "print('train RMSE', mean_squared_error(y_train, mlp_best_y_train_predict, squared = False))\n",
        "#MSE Test\n",
        "mlp_best_y_test_predict = mlp_best.predict(test_Xstandardized)\n",
        "mlp_best_test_MSE = mean_squared_error(y_test, mlp_best_y_test_predict)\n",
        "print('Best test MSE', mlp_best_test_MSE)\n",
        "print('Best test RMSE', mean_squared_error(y_test, mlp_best_y_test_predict, squared = False))"
      ],
      "execution_count": 21,
      "outputs": [
        {
          "output_type": "stream",
          "text": [
            "Best train MSE 49782509.95448622\n",
            "train RMSE 7055.672183037292\n",
            "Best test MSE 987289765.3336955\n",
            "Best test RMSE 31421.16747248096\n"
          ],
          "name": "stdout"
        },
        {
          "output_type": "stream",
          "text": [
            "/usr/local/lib/python3.7/dist-packages/sklearn/neural_network/_multilayer_perceptron.py:571: ConvergenceWarning: Stochastic Optimizer: Maximum iterations (200) reached and the optimization hasn't converged yet.\n",
            "  % self.max_iter, ConvergenceWarning)\n"
          ],
          "name": "stderr"
        }
      ]
    },
    {
      "cell_type": "markdown",
      "metadata": {
        "id": "thvwyEi4NHP_"
      },
      "source": [
        "# Gradient Boosting Regression"
      ]
    },
    {
      "cell_type": "markdown",
      "metadata": {
        "id": "CkHBxOg5e0FB"
      },
      "source": [
        "Running an initial model"
      ]
    },
    {
      "cell_type": "code",
      "metadata": {
        "id": "2Kj6rJ_6NGrb"
      },
      "source": [
        "from sklearn.ensemble import GradientBoostingRegressor"
      ],
      "execution_count": 22,
      "outputs": []
    },
    {
      "cell_type": "code",
      "metadata": {
        "colab": {
          "base_uri": "https://localhost:8080/"
        },
        "id": "Hg7NyL-dQhBx",
        "outputId": "98a0c59d-593a-4253-a81c-27e7d8fb5dc3"
      },
      "source": [
        "gbr_basic = GradientBoostingRegressor()\n",
        "gbr_basic.fit(Xstandardized, y_train)\n",
        "\n",
        "gbr_basic_y_train_predict = gbr_basic.predict(Xstandardized)\n",
        "gbr_basic_train_MSE = mean_squared_error(y_train, gbr_basic_y_train_predict)\n",
        "print('train MSE', gbr_basic_train_MSE)\n",
        "print('train RMSE', mean_squared_error(y_train, gbr_basic_y_train_predict, squared = False))\n",
        "gbr_basic_y_test_predict = gbr_basic.predict(test_Xstandardized)\n",
        "gbr_basic_test_MSE = mean_squared_error(y_test, gbr_basic_y_test_predict)\n",
        "print('test MSE', gbr_basic_test_MSE)\n",
        "print('test RMSE', mean_squared_error(y_test, gbr_basic_y_test_predict, squared = False))"
      ],
      "execution_count": 23,
      "outputs": [
        {
          "output_type": "stream",
          "text": [
            "train MSE 175641222.36657235\n",
            "train RMSE 13252.97032240593\n",
            "test MSE 759395185.7039105\n",
            "test RMSE 27557.125860726304\n"
          ],
          "name": "stdout"
        }
      ]
    },
    {
      "cell_type": "markdown",
      "metadata": {
        "id": "WuSfD6E0e3Bv"
      },
      "source": [
        "Tuning parameters"
      ]
    },
    {
      "cell_type": "code",
      "metadata": {
        "colab": {
          "base_uri": "https://localhost:8080/"
        },
        "id": "_P0Upd2MRisu",
        "outputId": "bc7a4b0f-269a-40fa-a8d5-fdf7f048c5b4"
      },
      "source": [
        "params_gbr1 = {\n",
        "    'loss': ['squared_error', 'ls', 'lad', 'huber', 'quantile'],\n",
        "    'learning_rate': [0.001, 0.01, 0.1, 0.2, 0.8],\n",
        "    'n_estimators': [10, 25, 50, 100, 200],\n",
        "    'max_depth': [2, 3, 5, 7],\n",
        "    'validation_fraction': [0.1, 0.15, 0.2]\n",
        "}\n",
        "\n",
        "from sklearn.model_selection import GridSearchCV\n",
        "grid_gbr1 = GridSearchCV(gbr_basic, params_gbr1, n_jobs=-1)\n",
        "grid_gbr1.fit(Xstandardized, y_train)\n",
        "\n",
        "print('Best parameters found:', grid_gbr1.best_params_)"
      ],
      "execution_count": 29,
      "outputs": [
        {
          "output_type": "stream",
          "text": [
            "Best parameters found: {'learning_rate': 0.1, 'loss': 'huber', 'max_depth': 3, 'n_estimators': 200, 'validation_fraction': 0.15}\n"
          ],
          "name": "stdout"
        }
      ]
    },
    {
      "cell_type": "code",
      "metadata": {
        "id": "GG-o-hMMbD8Q"
      },
      "source": [
        "'''Best parameters found: {'learning_rate': 0.1, 'loss': 'lad', 'max_depth': 7, 'n_estimators': 200, 'validation_fraction': 0.1}'''\n",
        "'''Best parameters found: {'learning_rate': 0.1, 'loss': 'huber', 'max_depth': 3, 'n_estimators': 200, 'validation_fraction': 0.15}'''"
      ],
      "execution_count": null,
      "outputs": []
    },
    {
      "cell_type": "code",
      "metadata": {
        "id": "8o5nUZmsRGVw"
      },
      "source": [
        "params_gbr2 = {\n",
        "    'loss': ['squared_error', 'lad', 'huber'],\n",
        "    'learning_rate': [0.1],\n",
        "    'n_estimators': [200, 220, 250, 270, 300],\n",
        "    'max_depth': [3],\n",
        "    'validation_fraction': [0.15]\n",
        "}\n",
        "\n",
        "from sklearn.model_selection import GridSearchCV\n",
        "grid_gbr2 = GridSearchCV(gbr_basic, params_gbr2, n_jobs=-1)\n",
        "grid_gbr2.fit(Xstandardized, y_train)\n",
        "\n",
        "print('Best parameters found:', grid_gbr2.best_params_)"
      ],
      "execution_count": null,
      "outputs": []
    },
    {
      "cell_type": "markdown",
      "metadata": {
        "id": "TNXP1veEe6ft"
      },
      "source": [
        "Running a model with tuned parameters"
      ]
    },
    {
      "cell_type": "code",
      "metadata": {
        "colab": {
          "base_uri": "https://localhost:8080/"
        },
        "id": "SnM6ggirbHp-",
        "outputId": "5849955f-0274-4253-ea76-de4b35c5253f"
      },
      "source": [
        "gbr_best = GradientBoostingRegressor(learning_rate=0.1, loss='huber', max_depth=3, n_estimators=270, validation_fraction=0.15)\n",
        "gbr_best.fit(Xstandardized, y_train)\n",
        "\n",
        "gbr_best_y_train_predict = gbr_best.predict(Xstandardized)\n",
        "gbr_best_train_MSE = mean_squared_error(y_train, gbr_best_y_train_predict)\n",
        "print('Best train MSE', gbr_best_train_MSE)\n",
        "print('train RMSE', mean_squared_error(y_train, gbr_best_y_train_predict, squared = False))\n",
        "gbr_best_y_test_predict = gbr_best.predict(test_Xstandardized)\n",
        "gbr_best_test_MSE = mean_squared_error(y_test, gbr_best_y_test_predict)\n",
        "print('Best test MSE', gbr_best_test_MSE)\n",
        "print('Best test RMSE', mean_squared_error(y_test, gbr_best_y_test_predict, squared = False))"
      ],
      "execution_count": 23,
      "outputs": [
        {
          "output_type": "stream",
          "text": [
            "Best train MSE 121079395.8742803\n",
            "train RMSE 11003.60831156218\n",
            "Best test MSE 699722130.1151145\n",
            "Best test RMSE 26452.261342182344\n"
          ],
          "name": "stdout"
        }
      ]
    },
    {
      "cell_type": "markdown",
      "metadata": {
        "id": "GGMVm34th12e"
      },
      "source": [
        "# Ensamble dataset"
      ]
    },
    {
      "cell_type": "markdown",
      "metadata": {
        "id": "wQvrJ7X9e_Yh"
      },
      "source": [
        "Creating the new train and test regressor sets"
      ]
    },
    {
      "cell_type": "code",
      "metadata": {
        "id": "UsiXDidAh1R2"
      },
      "source": [
        "#Combining the predictions of our models into a new train and test sets\n",
        "X_train_new_r = pd.concat([pd.DataFrame(gbr_best_y_train_predict), pd.DataFrame(mlp_best_y_train_predict),\n",
        "                         pd.DataFrame(rf_best_y_train_predict), pd.DataFrame(svr_best_y_train_predict), \n",
        "                         pd.DataFrame(pca_exp_y_train_predict), pd.DataFrame(l2_train_predict), \n",
        "                         pd.DataFrame(l1_train_predict), pd.DataFrame(y_train_predict)], axis = 1)\n",
        "X_test_new_r = pd.concat([pd.DataFrame(gbr_best_y_test_predict), pd.DataFrame(mlp_best_y_test_predict), \n",
        "                        pd.DataFrame(rf_best_y_test_predict), pd.DataFrame(svr_best_y_test_predict), \n",
        "                        pd.DataFrame(pca_expy_test_predict), pd.DataFrame(l2_y_test_predict), \n",
        "                        pd.DataFrame(l1_y_test_predict), pd.DataFrame(y_test_predict)], axis = 1)\n",
        "\n",
        "standardizer = StandardScaler()\n",
        "X_train_new = pd.DataFrame(standardizer.fit_transform(X_train_new_r))\n",
        "X_test_new = pd.DataFrame(standardizer.transform(X_test_new_r))"
      ],
      "execution_count": 24,
      "outputs": []
    },
    {
      "cell_type": "markdown",
      "metadata": {
        "id": "H-diP7y3fJar"
      },
      "source": [
        "Running an initial model"
      ]
    },
    {
      "cell_type": "code",
      "metadata": {
        "colab": {
          "base_uri": "https://localhost:8080/"
        },
        "id": "DMd3kU4zmj78",
        "outputId": "87d23958-1c95-47b2-fc93-1b5d8f0a5d0e"
      },
      "source": [
        "#As it had the best results during standalone testing, we will use GradientBoostingRegressor as our top layer in our ensemble\n",
        "ensemble_basic = GradientBoostingRegressor()\n",
        "ensemble_basic.fit(X_train_new, y_train)\n",
        "\n",
        "ensemble_basic_y_train_predict = ensemble_basic.predict(X_train_new)\n",
        "ensemble_basic_train_MSE = mean_squared_error(y_train, ensemble_basic_y_train_predict)\n",
        "print('train MSE', ensemble_basic_train_MSE)\n",
        "print('train RMSE', mean_squared_error(y_train, ensemble_basic_y_train_predict, squared = False))\n",
        "\n",
        "ensemble_basic_y_test_predict = ensemble_basic.predict(X_test_new)\n",
        "ensemble_basic_test_MSE = mean_squared_error(y_test, ensemble_basic_y_test_predict)\n",
        "print('test MSE', ensemble_basic_test_MSE)\n",
        "print('test RMSE', mean_squared_error(y_test, ensemble_basic_y_test_predict, squared = False))"
      ],
      "execution_count": 25,
      "outputs": [
        {
          "output_type": "stream",
          "text": [
            "train MSE 15163577.016942084\n",
            "train RMSE 3894.043787239954\n",
            "test MSE 783128694.3843942\n",
            "test RMSE 27984.43664582859\n"
          ],
          "name": "stdout"
        }
      ]
    },
    {
      "cell_type": "markdown",
      "metadata": {
        "id": "201R2KhmfLh8"
      },
      "source": [
        "Tuning parameters"
      ]
    },
    {
      "cell_type": "code",
      "metadata": {
        "colab": {
          "base_uri": "https://localhost:8080/"
        },
        "id": "WQ13ii11pHuv",
        "outputId": "7347a547-e372-4d67-ca51-ea0ca3ee064d"
      },
      "source": [
        "params_ensemble1 = {\n",
        "    'loss': ['squared_error', 'lad', 'huber'],\n",
        "    'learning_rate': [0.01, 0.1, 0.2, 0.8],\n",
        "    'n_estimators': [50, 100, 200],\n",
        "    'max_depth': [2, 3, 5, 7],\n",
        "    'validation_fraction': [0.1, 0.15, 0.2]\n",
        "}\n",
        "\n",
        "from sklearn.model_selection import GridSearchCV\n",
        "\n",
        "grid_gbr1 = GridSearchCV(ensemble_basic, params_ensemble1, n_jobs=-1)\n",
        "grid_gbr1.fit(X_train_new, y_train)\n",
        "\n",
        "print('Best parameters found:', grid_gbr1.best_params_)"
      ],
      "execution_count": 26,
      "outputs": [
        {
          "output_type": "stream",
          "text": [
            "Best parameters found: {'learning_rate': 0.1, 'loss': 'huber', 'max_depth': 3, 'n_estimators': 200, 'validation_fraction': 0.2}\n"
          ],
          "name": "stdout"
        }
      ]
    },
    {
      "cell_type": "code",
      "metadata": {
        "colab": {
          "base_uri": "https://localhost:8080/"
        },
        "id": "grUQZc7waxBE",
        "outputId": "82326dad-b888-4078-926a-f4c7cf9b900a"
      },
      "source": [
        "params_ensemble2 = {\n",
        "    'loss': ['lad', 'huber'],\n",
        "    'learning_rate': [0.1, 0.11, 0.12],\n",
        "    'n_estimators': [200, 220, 250, 270],\n",
        "    'max_depth': [3],\n",
        "    'validation_fraction': [0.15, 0.175, 0.2]\n",
        "}\n",
        "\n",
        "from sklearn.model_selection import GridSearchCV\n",
        "\n",
        "grid_gbr2 = GridSearchCV(ensemble_basic, params_ensemble2, n_jobs=-1)\n",
        "grid_gbr2.fit(X_train_new, y_train)\n",
        "\n",
        "print('Best parameters found:', grid_gbr2.best_params_)"
      ],
      "execution_count": 27,
      "outputs": [
        {
          "output_type": "stream",
          "text": [
            "Best parameters found: {'learning_rate': 0.12, 'loss': 'huber', 'max_depth': 3, 'n_estimators': 250, 'validation_fraction': 0.2}\n"
          ],
          "name": "stdout"
        }
      ]
    },
    {
      "cell_type": "code",
      "metadata": {
        "colab": {
          "base_uri": "https://localhost:8080/"
        },
        "id": "77HmKI5gfL1A",
        "outputId": "afb9702d-1dbc-486f-90a4-02e070f7b64f"
      },
      "source": [
        "params_ensemble3 = {\n",
        "    'loss': ['huber'],\n",
        "    'learning_rate': [0.12, 0.14, 0.16, 0.18, 0.2],\n",
        "    'n_estimators': [220, 250, 270, 280],\n",
        "    'max_depth': [3],\n",
        "    'validation_fraction': [0.2, 0.225, 0.25, 0.27, 0.3]\n",
        "}\n",
        "\n",
        "from sklearn.model_selection import GridSearchCV\n",
        "\n",
        "grid_gbr3 = GridSearchCV(ensemble_basic, params_ensemble3, n_jobs=-1)\n",
        "grid_gbr3.fit(X_train_new, y_train)\n",
        "\n",
        "print('Best parameters found:', grid_gbr3.best_params_)"
      ],
      "execution_count": 30,
      "outputs": [
        {
          "output_type": "stream",
          "text": [
            "Best parameters found: {'learning_rate': 0.12, 'loss': 'huber', 'max_depth': 3, 'n_estimators': 220, 'validation_fraction': 0.2}\n"
          ],
          "name": "stdout"
        }
      ]
    },
    {
      "cell_type": "markdown",
      "metadata": {
        "id": "iNBLOEJcfN8O"
      },
      "source": [
        "Running a model with the tuned parameters"
      ]
    },
    {
      "cell_type": "code",
      "metadata": {
        "colab": {
          "base_uri": "https://localhost:8080/"
        },
        "id": "3CT7fWENxQ1V",
        "outputId": "bfd80179-a3cf-4f54-f242-9edc11924f09"
      },
      "source": [
        "ensemble_best = GradientBoostingRegressor(learning_rate=0.12, loss='huber', max_depth=3, n_estimators=220, validation_fraction=0.2)\n",
        "ensemble_best.fit(X_train_new, y_train)\n",
        "\n",
        "ensemble_best_y_train_predict = ensemble_best.predict(X_train_new)\n",
        "ensemble_best_train_MSE = mean_squared_error(y_train, ensemble_best_y_train_predict)\n",
        "print('Best train MSE', ensemble_best_train_MSE)\n",
        "print('Best train RMSE', mean_squared_error(y_train, ensemble_best_y_train_predict, squared=False))\n",
        "\n",
        "ensemble_best_y_test_predict = ensemble_best.predict(X_test_new)\n",
        "ensemble_best_test_MSE = mean_squared_error(y_test, ensemble_best_y_test_predict)\n",
        "print('Best test MSE', ensemble_best_test_MSE)\n",
        "print('Best test RMSE', mean_squared_error(y_test, ensemble_best_y_test_predict, squared = False))"
      ],
      "execution_count": 31,
      "outputs": [
        {
          "output_type": "stream",
          "text": [
            "Best train MSE 12826791.023503989\n",
            "Best train RMSE 3581.4509662291885\n",
            "Best test MSE 836299150.4555476\n",
            "Best test RMSE 28918.83729432336\n"
          ],
          "name": "stdout"
        }
      ]
    },
    {
      "cell_type": "markdown",
      "metadata": {
        "id": "Obbh9C6PgO8k"
      },
      "source": [
        "Removing svr, pca and mlp from the ensamble"
      ]
    },
    {
      "cell_type": "code",
      "metadata": {
        "id": "sxI0yAX1gkqv"
      },
      "source": [
        "#Combining the predictions of our models into a new train and test sets\n",
        "\n",
        "'''X_train_new1 = pd.concat([pd.DataFrame(gbr_best_y_train_predict), pd.DataFrame(mlp_best_y_train_predict),\n",
        "                         pd.DataFrame(rf_best_y_train_predict), pd.DataFrame(svr_best_y_train_predict), \n",
        "                         pd.DataFrame(pca_exp_y_train_predict), pd.DataFrame(l2_train_predict), \n",
        "                         pd.DataFrame(l1_train_predict), pd.DataFrame(y_train_predict)], axis = 1)\n",
        "X_test_new1 = pd.concat([pd.DataFrame(gbr_best_y_test_predict), pd.DataFrame(mlp_best_y_test_predict), \n",
        "                        pd.DataFrame(rf_best_y_test_predict), pd.DataFrame(svr_best_y_test_predict), \n",
        "                        pd.DataFrame(pca_expy_test_predict), pd.DataFrame(l2_y_test_predict), \n",
        "                        pd.DataFrame(l1_y_test_predict), pd.DataFrame(y_test_predict)], axis = 1)'''\n",
        "\n",
        "X_train_new1_r = pd.concat([pd.DataFrame(gbr_best_y_train_predict),\n",
        "                         pd.DataFrame(rf_best_y_train_predict), pd.DataFrame(l1_train_predict), pd.DataFrame(l2_train_predict), pd.DataFrame(y_train_predict)], axis = 1)\n",
        "X_test_new1_r = pd.concat([pd.DataFrame(gbr_best_y_test_predict), \n",
        "                        pd.DataFrame(rf_best_y_test_predict), pd.DataFrame(l1_y_test_predict), pd.DataFrame(l2_y_test_predict), pd.DataFrame(y_test_predict)], axis = 1)\n",
        "standardizer = StandardScaler()\n",
        "X_train_new1 = pd.DataFrame(standardizer.fit_transform(X_train_new1_r))\n",
        "X_test_new1 = pd.DataFrame(standardizer.transform(X_test_new1_r))"
      ],
      "execution_count": 28,
      "outputs": []
    },
    {
      "cell_type": "code",
      "metadata": {
        "colab": {
          "base_uri": "https://localhost:8080/"
        },
        "id": "IWOuXv3hj48k",
        "outputId": "9cdae46f-b177-4c77-ba53-7046817f3e0f"
      },
      "source": [
        "ensemble_basic1 = GradientBoostingRegressor()\n",
        "ensemble_basic1.fit(X_train_new1, y_train)\n",
        "\n",
        "ensemble_basic1_y_train_predict = ensemble_basic1.predict(X_train_new1)\n",
        "ensemble_basic1_train_MSE = mean_squared_error(y_train, ensemble_basic1_y_train_predict)\n",
        "print('train MSE', ensemble_basic1_train_MSE)\n",
        "print('train RMSE', mean_squared_error(y_train, ensemble_basic1_y_train_predict, squared=False))\n",
        "\n",
        "ensemble_basic1_y_test_predict = ensemble_basic1.predict(X_test_new1)\n",
        "ensemble_basic1_test_MSE = mean_squared_error(y_test, ensemble_basic1_y_test_predict)\n",
        "print('test MSE', ensemble_basic1_test_MSE)\n",
        "print('test RMSE', mean_squared_error(y_test, ensemble_basic1_y_test_predict, squared = False))"
      ],
      "execution_count": 32,
      "outputs": [
        {
          "output_type": "stream",
          "text": [
            "train MSE 49319141.731015645\n",
            "train RMSE 7022.758840442668\n",
            "test MSE 643470124.8248974\n",
            "test RMSE 25366.712929051282\n"
          ],
          "name": "stdout"
        }
      ]
    },
    {
      "cell_type": "code",
      "metadata": {
        "colab": {
          "base_uri": "https://localhost:8080/"
        },
        "id": "CaLNFYGJj40W",
        "outputId": "af79d05b-057e-478d-d03a-c54af067cbc5"
      },
      "source": [
        "params_ensemble4 = {\n",
        "    'loss': ['squared_error', 'lad', 'huber'],\n",
        "    'learning_rate': [0.01, 0.1, 0.2, 0.8],\n",
        "    'n_estimators': [100, 200, 250, 270, 300],\n",
        "    'max_depth': [2, 3, 5, 7],\n",
        "    'validation_fraction': [0.1, 0.15, 0.2]\n",
        "}\n",
        "\n",
        "from sklearn.model_selection import GridSearchCV\n",
        "\n",
        "grid_gbr4 = GridSearchCV(ensemble_basic1, params_ensemble4, n_jobs=-1)\n",
        "grid_gbr4.fit(X_train_new1, y_train)\n",
        "\n",
        "print('Best parameters found:', grid_gbr4.best_params_)"
      ],
      "execution_count": 98,
      "outputs": [
        {
          "output_type": "stream",
          "text": [
            "Best parameters found: {'learning_rate': 0.1, 'loss': 'huber', 'max_depth': 3, 'n_estimators': 300, 'validation_fraction': 0.1}\n"
          ],
          "name": "stdout"
        }
      ]
    },
    {
      "cell_type": "code",
      "metadata": {
        "colab": {
          "base_uri": "https://localhost:8080/"
        },
        "id": "z-kmePTSgxUp",
        "outputId": "398d13ae-f86a-48c0-d239-4ab6b29a828a"
      },
      "source": [
        "ensemble_best = GradientBoostingRegressor(learning_rate=0.1, loss='huber', max_depth=3, n_estimators=280, validation_fraction=0.15)\n",
        "ensemble_best.fit(X_train_new1, y_train)\n",
        "\n",
        "ensemble_best_y_train_predict = ensemble_best.predict(X_train_new1)\n",
        "ensemble_best_train_MSE = mean_squared_error(y_train, ensemble_best_y_train_predict)\n",
        "print('Best train MSE', ensemble_best_train_MSE)\n",
        "print('Best train RMSE', mean_squared_error(y_train, ensemble_best_y_train_predict, squared=False))\n",
        "\n",
        "ensemble_best_y_test_predict = ensemble_best.predict(X_test_new1)\n",
        "ensemble_best_test_MSE = mean_squared_error(y_test, ensemble_best_y_test_predict)\n",
        "print('Best test MSE', ensemble_best_test_MSE)\n",
        "print('Best test RMSE', mean_squared_error(y_test, ensemble_best_y_test_predict, squared = False))"
      ],
      "execution_count": 35,
      "outputs": [
        {
          "output_type": "stream",
          "text": [
            "Best train MSE 34874737.59161892\n",
            "Best train RMSE 5905.483688201917\n",
            "Best test MSE 621132854.471341\n",
            "Best test RMSE 24922.537079345293\n"
          ],
          "name": "stdout"
        }
      ]
    },
    {
      "cell_type": "code",
      "metadata": {
        "colab": {
          "base_uri": "https://localhost:8080/"
        },
        "id": "EKCkdjICB5FJ",
        "outputId": "8fcef5dc-98fa-4ded-be21-96bdb4a30528"
      },
      "source": [
        "print(np.mean(y_test))"
      ],
      "execution_count": 80,
      "outputs": [
        {
          "output_type": "stream",
          "text": [
            "178839.81164383562\n"
          ],
          "name": "stdout"
        }
      ]
    },
    {
      "cell_type": "markdown",
      "metadata": {
        "id": "2kLT0qaCPLUK"
      },
      "source": [
        "# Additional work: Exploratory Classification with SVMs and RF"
      ]
    },
    {
      "cell_type": "code",
      "metadata": {
        "id": "mI64eOOaPS5j"
      },
      "source": [
        "df = pd.read_csv('housetrain.csv')\n",
        "df['Housetype'] = np.where(df['SalePrice'] > 214000, 3, np.where(df['SalePrice'] < 129975, 1, 2))\n",
        "y = df['Housetype']\n",
        "\n",
        "nrow, ncol = df.shape\n",
        "for i in range(0, ncol - 1): \n",
        "    if df.iloc[:,i].dtype == 'O':\n",
        "        df.iloc[:,i] = df.iloc[:,i].astype('category')\n",
        "\n",
        "pd.Categorical(df['OverallQual'], ordered=True) #of int type (do not need to convert)\n",
        "\n",
        "df['ExterQual'] = df['ExterQual'].cat.reorder_categories(['Fa','TA','Gd','Ex'], ordered = True)\n",
        "df['ExterQual'] = df['ExterQual'].cat.codes\n",
        "\n",
        "df['ExterCond'] = df['ExterCond'].cat.reorder_categories(['Po','Fa','TA','Gd','Ex'], ordered = True)\n",
        "df['ExterCond'] = df['ExterCond'].cat.codes\n",
        "\n",
        "df['BsmtQual'] = df['BsmtQual'].cat.reorder_categories(['Fa','TA','Gd','Ex'], ordered = True)\n",
        "df['BsmtQual'] = df['BsmtQual'].cat.codes\n",
        "\n",
        "df['BsmtCond'] = df['BsmtCond'].cat.reorder_categories(['Po','Fa','TA','Gd'], ordered = True)\n",
        "df['BsmtCond'] = df['BsmtCond'].cat.codes\n",
        "\n",
        "df['BsmtFinType1'] = df['BsmtFinType1'].cat.reorder_categories(['Unf','LwQ','Rec','BLQ','ALQ','GLQ'], ordered = True)\n",
        "df['BsmtFinType1'] = df['BsmtFinType1'].cat.codes\n",
        "\n",
        "df['BsmtFinType2']= df['BsmtFinType2'].cat.reorder_categories(['Unf','LwQ','Rec','BLQ','ALQ','GLQ'], ordered = True)\n",
        "df['BsmtFinType2']= df['BsmtFinType2'].cat.codes\n",
        "\n",
        "df['HeatingQC'] = df['HeatingQC'].cat.reorder_categories(['Po','Fa','TA','Gd','Ex'], ordered = True)\n",
        "df['HeatingQC'] = df['HeatingQC'].cat.codes\n",
        "\n",
        "df['KitchenQual'] = df['KitchenQual'].cat.reorder_categories(['Fa','TA','Gd','Ex'], ordered = True)\n",
        "df['KitchenQual'] = df['KitchenQual'].cat.codes\n",
        "\n",
        "df['FireplaceQu']= df['FireplaceQu'].cat.reorder_categories(['Po','Fa','TA','Gd','Ex'], ordered = True)\n",
        "df['FireplaceQu']= df['FireplaceQu'].cat.codes\n",
        "\n",
        "df['GarageQual'] = df['GarageQual'].cat.reorder_categories(['Po','Fa','TA','Gd','Ex'], ordered = True)\n",
        "df['GarageQual'] = df['GarageQual'].cat.codes\n",
        "\n",
        "df['GarageCond'] = df['GarageCond'].cat.reorder_categories(['Po','Fa','TA','Gd','Ex'], ordered = True)\n",
        "df['GarageCond'] = df['GarageCond'].cat.codes\n",
        "\n",
        "#print(df.shape)\n",
        "#DROP columns that contain too many NaN\n",
        "df = df.drop(columns=['PoolQC','Id','SalePrice', 'Housetype'])\n",
        "#print(df.shape)\n",
        "#use ONE HOT encoding for NOMINAL categorical columns \n",
        "df = pd.get_dummies(df)\n",
        "#print(df.shape)\n",
        "\n",
        "df = df.fillna(df.mean())\n",
        "from sklearn.model_selection import train_test_split\n",
        "X = df\n",
        "X_train, X_test, y_train, y_test = train_test_split(X, y, test_size=0.2, random_state=42)\n",
        "\n",
        "# SVM Classification \n",
        "\n",
        "from sklearn import svm, datasets\n",
        "linear = svm.SVC(kernel='linear', C=1, decision_function_shape='ovo').fit(X_train, y_train)\n",
        "rbf = svm.SVC(kernel='rbf', gamma=1, C=1, decision_function_shape='ovo').fit(X_train, y_train)\n",
        "poly = svm.SVC(kernel='poly', degree=3, C=1, decision_function_shape='ovo').fit(X_train, y_train)\n",
        "sig = svm.SVC(kernel='sigmoid', C=1, decision_function_shape='ovo').fit(X_train, y_train)\n",
        "accuracy_lin = linear.score(X_test, y_test)\n",
        "accuracy_poly = poly.score(X_test, y_test)\n",
        "accuracy_rbf = rbf.score(X_test, y_test)\n",
        "accuracy_sig = sig.score(X_test, y_test)\n",
        "print('Accuracy Linear Kernel:', accuracy_lin)\n",
        "print('Accuracy Polynomial Kernel:', accuracy_poly)\n",
        "print('Accuracy Radial Basis Kernel:', accuracy_rbf)\n",
        "print('Accuracy Sigmoid Kernel:', accuracy_sig)\n",
        "\n",
        "# Random Forest Classification\n",
        "from sklearn.ensemble import RandomForestClassifier\n",
        "from sklearn import metrics\n",
        "clf=RandomForestClassifier(n_estimators=100)\n",
        "clf.fit(X_train,y_train)\n",
        "y_pred =clf.predict(X_test)\n",
        "print('Accuracy:', metrics.accuracy_score(y_test, y_pred))"
      ],
      "execution_count": null,
      "outputs": []
    }
  ]
}